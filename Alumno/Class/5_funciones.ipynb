{
 "cells": [
  {
   "cell_type": "markdown",
   "source": [
    "# Apartado 5 - Funciones"
   ],
   "metadata": {}
  },
  {
   "cell_type": "markdown",
   "source": [
    "- funciones con & sin `return`\n",
    "- funciones con valores por defecto\n",
    "- recursividad"
   ],
   "metadata": {}
  },
  {
   "cell_type": "markdown",
   "source": [
    "--------------------------------------------------------------------------------------"
   ],
   "metadata": {}
  },
  {
   "cell_type": "markdown",
   "source": [
    "## Funciones `print`"
   ],
   "metadata": {}
  },
  {
   "cell_type": "code",
   "execution_count": 2,
   "source": [
    "# Media\r\n",
    "\r\n",
    "lista = [2, 5, 6]\r\n",
    "suma_total = 0\r\n",
    "for valor_elem in lista:\r\n",
    "    suma_total += valor_elem\r\n",
    "media = suma_total / len(lista)\r\n",
    "print(media)"
   ],
   "outputs": [
    {
     "output_type": "stream",
     "name": "stdout",
     "text": [
      "4.333333333333333\n"
     ]
    }
   ],
   "metadata": {}
  },
  {
   "cell_type": "code",
   "execution_count": 5,
   "source": [],
   "outputs": [],
   "metadata": {}
  },
  {
   "cell_type": "code",
   "execution_count": 4,
   "source": [
    "print(\"Yo soy 'así'\")"
   ],
   "outputs": [
    {
     "output_type": "stream",
     "name": "stdout",
     "text": [
      "Yo soy 'así'\n"
     ]
    }
   ],
   "metadata": {}
  },
  {
   "cell_type": "code",
   "execution_count": 5,
   "source": [
    "print('Yo soy \"así\"')"
   ],
   "outputs": [
    {
     "output_type": "stream",
     "name": "stdout",
     "text": [
      "Yo soy \"así\"\n"
     ]
    }
   ],
   "metadata": {}
  },
  {
   "cell_type": "code",
   "execution_count": 6,
   "source": [
    "_ = \"así\"\r\n",
    "print(\"Yo soy \" + _ + \" .\")"
   ],
   "outputs": [
    {
     "output_type": "stream",
     "name": "stdout",
     "text": [
      "Yo soy así .\n"
     ]
    }
   ],
   "metadata": {}
  },
  {
   "cell_type": "code",
   "execution_count": 7,
   "source": [
    "_ = 15\r\n",
    "x = \"Yo tengo \" + str(_) + \" años.\"\r\n",
    "print(x)"
   ],
   "outputs": [
    {
     "output_type": "stream",
     "name": "stdout",
     "text": [
      "Yo tengo 15 años.\n"
     ]
    }
   ],
   "metadata": {}
  },
  {
   "cell_type": "code",
   "execution_count": 8,
   "source": [
    "print(\"Yo tengo\", _ , \" años.\")"
   ],
   "outputs": [
    {
     "output_type": "stream",
     "name": "stdout",
     "text": [
      "Yo tengo 15  años.\n"
     ]
    }
   ],
   "metadata": {}
  },
  {
   "cell_type": "code",
   "execution_count": 9,
   "source": [
    "def prtn(x, r, y, t):\r\n",
    "    print(x + r + y + t)\r\n",
    "\r\n",
    "prtn(x=\"Yo\", r=\" tengo\", y=\" 15\", t=\" años.\")"
   ],
   "outputs": [
    {
     "output_type": "stream",
     "name": "stdout",
     "text": [
      "Yo tengo 15 años.\n"
     ]
    }
   ],
   "metadata": {}
  },
  {
   "cell_type": "code",
   "execution_count": 3,
   "source": [
    "def prtn(x, r, y, t):\r\n",
    "    print(x + r + y + t)\r\n",
    "\r\n",
    "prtn(\"Yo\", \" tengo\", \" 15\", \" años.\")"
   ],
   "outputs": [
    {
     "output_type": "stream",
     "name": "stdout",
     "text": [
      "Yo tengo 15 años.\n"
     ]
    }
   ],
   "metadata": {}
  },
  {
   "cell_type": "code",
   "execution_count": 10,
   "source": [
    "def p(*args):\r\n",
    "    print(args)\r\n",
    "\r\n",
    "p(2, 4, 6, 8, 3, 1, 3)"
   ],
   "outputs": [
    {
     "output_type": "stream",
     "name": "stdout",
     "text": [
      "(2, 4, 6, 8, 3, 1, 3)\n"
     ]
    }
   ],
   "metadata": {}
  },
  {
   "cell_type": "code",
   "execution_count": null,
   "source": [
    "def x():\r\n",
    "    a = 2\r\n",
    "    b = 4\r\n",
    "    suma = a + b\r\n",
    "    print(suma)\r\n",
    "\r\n",
    "x()"
   ],
   "outputs": [],
   "metadata": {}
  },
  {
   "cell_type": "markdown",
   "source": [
    "--------------------------------------------------------------------------------------"
   ],
   "metadata": {}
  },
  {
   "cell_type": "markdown",
   "source": [
    "## Funciones `return`"
   ],
   "metadata": {}
  },
  {
   "cell_type": "code",
   "execution_count": 12,
   "source": [
    "def x():\r\n",
    "    a = 2\r\n",
    "    b = 4\r\n",
    "    suma = a + b\r\n",
    "    #print(\"suma:\", suma)\r\n",
    "    return a\r\n",
    "\r\n",
    "z = x()\r\n",
    "print(\"z:\", z)"
   ],
   "outputs": [
    {
     "output_type": "stream",
     "name": "stdout",
     "text": [
      "z: 2\n"
     ]
    }
   ],
   "metadata": {}
  },
  {
   "cell_type": "code",
   "execution_count": 13,
   "source": [
    "a = 3\r\n",
    "\r\n",
    "def nombre_funcion():\r\n",
    "    a = 2\r\n",
    "    b = 4\r\n",
    "    suma3 = a + b\r\n",
    "    print(\"suma3:\", suma3)\r\n",
    "\r\n",
    "print(\"a:\", a)\r\n",
    "nombre_funcion()"
   ],
   "outputs": [
    {
     "output_type": "stream",
     "name": "stdout",
     "text": [
      "a: 3\n",
      "suma3: 6\n"
     ]
    }
   ],
   "metadata": {}
  },
  {
   "cell_type": "code",
   "execution_count": null,
   "source": [
    "a = 3\r\n",
    "\r\n",
    "def nombre_funcion():\r\n",
    "    print(\"a2:\", a)\r\n",
    "    b = 4\r\n",
    "    suma3 = a + b\r\n",
    "    print(\"suma3:\", suma3)\r\n",
    "\r\n",
    "print(\"a0:\", a)\r\n",
    "nombre_funcion()"
   ],
   "outputs": [],
   "metadata": {}
  },
  {
   "cell_type": "code",
   "execution_count": null,
   "source": [
    "def nombre_funcion():\r\n",
    "    a = 2\r\n",
    "    b = 4\r\n",
    "    suma3 = a + b\r\n",
    "    return suma3\r\n",
    "    \r\n",
    "print(nombre_funcion())"
   ],
   "outputs": [],
   "metadata": {}
  },
  {
   "cell_type": "code",
   "execution_count": null,
   "source": [
    "def nombre_funcion():\r\n",
    "    a = 2\r\n",
    "    b = 4\r\n",
    "    suma3 = a + b\r\n",
    "    \r\n",
    "print(nombre_funcion())"
   ],
   "outputs": [],
   "metadata": {}
  },
  {
   "cell_type": "code",
   "execution_count": null,
   "source": [
    "s = \"HOLA\"\r\n",
    "s.lower()"
   ],
   "outputs": [],
   "metadata": {}
  },
  {
   "cell_type": "code",
   "execution_count": null,
   "source": [
    "def nombre_funcion():\r\n",
    "    a = 2\r\n",
    "    b = 4\r\n",
    "    suma3 = a + b\r\n",
    "    resta = a - b\r\n",
    "    print(suma3)\r\n",
    "    print(resta)\r\n",
    "    return resta\r\n",
    "    print(suma3)\r\n",
    "    return [\"2\", 2]\r\n",
    "    \r\n",
    "x = nombre_funcion()\r\n",
    "print(x)"
   ],
   "outputs": [],
   "metadata": {}
  },
  {
   "cell_type": "code",
   "execution_count": 1,
   "source": [
    "def suma():\r\n",
    "    a = 2\r\n",
    "    b = 3\r\n",
    "    return a + b\r\n",
    "\r\n",
    "def multiplicacion():\r\n",
    "    a = 2\r\n",
    "    b = 3\r\n",
    "    return a * b\r\n",
    "\r\n",
    "def f():\r\n",
    "    x = suma()\r\n",
    "    y = multiplicacion()\r\n",
    "    h = x / y\r\n",
    "    return h\r\n",
    "\r\n",
    "x = f()\r\n",
    "print(x)"
   ],
   "outputs": [
    {
     "output_type": "stream",
     "name": "stdout",
     "text": [
      "0.8333333333333334\n"
     ]
    }
   ],
   "metadata": {}
  },
  {
   "cell_type": "code",
   "execution_count": null,
   "source": [
    "suma = 2 \r\n",
    "x = suma()"
   ],
   "outputs": [],
   "metadata": {}
  },
  {
   "cell_type": "code",
   "execution_count": 15,
   "source": [
    "# Esto es un comentario\r\n",
    "\"\"\" Esto es otro\"\"\" \r\n",
    "\r\n",
    "def suma_generica(arg1, arg2):\r\n",
    "    \"\"\" Suma arg1 y arg2 \r\n",
    "    Esta es la segunda línea de la documentación de la función\r\n",
    "    \"\"\"\r\n",
    "    a = 2  # Esta variable vale 2\r\n",
    "    return arg1 + arg2\r\n",
    "\r\n",
    "a = 3\r\n",
    "b = 7\r\n",
    "\r\n",
    "x = suma_generica(arg1=a, arg2=b)\r\n",
    "print(x)"
   ],
   "outputs": [
    {
     "output_type": "stream",
     "name": "stdout",
     "text": [
      "10\n"
     ]
    }
   ],
   "metadata": {}
  },
  {
   "cell_type": "markdown",
   "source": [
    "`help`"
   ],
   "metadata": {}
  },
  {
   "cell_type": "code",
   "execution_count": 16,
   "source": [
    "help(suma_generica)"
   ],
   "outputs": [
    {
     "output_type": "stream",
     "name": "stdout",
     "text": [
      "Help on function suma_generica in module __main__:\n",
      "\n",
      "suma_generica(arg1, arg2)\n",
      "    Suma arg1 y arg2 \n",
      "    Esta es la segunda línea de la documentación de la función\n",
      "\n"
     ]
    }
   ],
   "metadata": {}
  },
  {
   "cell_type": "code",
   "execution_count": 17,
   "source": [
    "def suma_generica(arg1, arg2):\r\n",
    "    \"\"\" Suma arg1 y arg2 \"\"\"\r\n",
    "    if arg1.isnumeric() and arg2.isnumeric():\r\n",
    "        return int(arg1) + int(arg2)\r\n",
    "    else:\r\n",
    "        print(\"Solo se pueden sumar números\")\r\n",
    "\r\n",
    "a = input()\r\n",
    "b = input()\r\n",
    "\r\n",
    "x = suma_generica(arg1=a, arg2=b)\r\n",
    "print(x)"
   ],
   "outputs": [
    {
     "output_type": "stream",
     "name": "stdout",
     "text": [
      " 5\n",
      " 6\n"
     ]
    },
    {
     "output_type": "stream",
     "name": "stdout",
     "text": [
      "11\n"
     ]
    }
   ],
   "metadata": {}
  },
  {
   "cell_type": "code",
   "execution_count": 18,
   "source": [
    "def suma_generica(arg1, arg2):\r\n",
    "    \"\"\" Suma arg1 y arg2 \"\"\"\r\n",
    "    if arg1.isnumeric() and arg2.isnumeric():\r\n",
    "        return int(arg1) + int(arg2)\r\n",
    "    else:\r\n",
    "        return \"Solo se pueden sumar números\"\r\n",
    "\r\n",
    "a = input()\r\n",
    "b = input()\r\n",
    "\r\n",
    "x = suma_generica(arg1=a, arg2=b)\r\n",
    "print(x)"
   ],
   "outputs": [
    {
     "output_type": "stream",
     "name": "stdout",
     "text": [
      " 6\n",
      " 7\n"
     ]
    },
    {
     "output_type": "stream",
     "name": "stdout",
     "text": [
      "13\n"
     ]
    }
   ],
   "metadata": {}
  },
  {
   "cell_type": "markdown",
   "source": [
    "--------------------------------------------------------------------------------------"
   ],
   "metadata": {}
  },
  {
   "cell_type": "markdown",
   "source": [
    "## Funciones con valores por defecto"
   ],
   "metadata": {}
  },
  {
   "cell_type": "code",
   "execution_count": null,
   "source": [
    "def mi_funcion_1(a, b=10):\r\n",
    "    return a**b\r\n",
    "\r\n",
    "r = mi_funcion(a=2)\r\n",
    "r"
   ],
   "outputs": [],
   "metadata": {}
  },
  {
   "cell_type": "code",
   "execution_count": null,
   "source": [
    "def mi_funcion_2(a, b=10):\r\n",
    "    return a**b\r\n",
    "\r\n",
    "r = mi_funcion(a=2, b=5)\r\n",
    "r"
   ],
   "outputs": [],
   "metadata": {}
  },
  {
   "cell_type": "code",
   "execution_count": null,
   "source": [
    "def mi_funcion_3(a, b):\r\n",
    "    return a**b\r\n",
    "\r\n",
    "k = int(input(\"Edad:\"))\r\n",
    "h = int(input(\"Altura:\"))\r\n",
    "\r\n",
    "r = mi_funcion(a=k, b=h)\r\n",
    "type(r)"
   ],
   "outputs": [],
   "metadata": {}
  },
  {
   "cell_type": "code",
   "execution_count": null,
   "source": [
    "b = None\r\n",
    "str(b)"
   ],
   "outputs": [],
   "metadata": {}
  },
  {
   "cell_type": "code",
   "execution_count": null,
   "source": [
    "def mi_funcion_4(a=5, b=None, c=None, y=None, h=None):\r\n",
    "    if b == None:\r\n",
    "        b = len(str(None))\r\n",
    "    return a**b\r\n",
    "\r\n",
    "r = mi_funcion()\r\n",
    "r"
   ],
   "outputs": [],
   "metadata": {}
  },
  {
   "cell_type": "code",
   "execution_count": null,
   "source": [
    "def mi_funcion_5(a, b=4, c=None, y=None, h=None):\r\n",
    "    return a**b\r\n",
    "\r\n",
    "r = mi_funcion(a=2)\r\n",
    "r"
   ],
   "outputs": [],
   "metadata": {}
  },
  {
   "cell_type": "code",
   "execution_count": null,
   "source": [
    "def mi_funcion_6(a, b=4, c=676, y=None, h=None):\r\n",
    "    return a**b\r\n",
    "\r\n",
    "r = mi_funcion(a=2)\r\n",
    "r"
   ],
   "outputs": [],
   "metadata": {}
  },
  {
   "cell_type": "code",
   "execution_count": null,
   "source": [
    "def mi_funcion_7(b, a=7, c=676, y=None, h=None):\r\n",
    "    return a**b\r\n",
    "\r\n",
    "r = mi_funcion(b=2)\r\n",
    "r"
   ],
   "outputs": [],
   "metadata": {}
  },
  {
   "cell_type": "markdown",
   "source": [
    "**Ejemplos:** \n",
    "\n",
    " - [Función de matplotlib](https://matplotlib.org/api/_as_gen/matplotlib.pyplot.pie.html#matplotlib.pyplot.pie)\n",
    " - [Función de pandas](https://pandas.pydata.org/pandas-docs/stable/reference/api/pandas.DataFrame.to_csv.html)\n",
    "    "
   ],
   "metadata": {}
  },
  {
   "cell_type": "markdown",
   "source": [
    "--------------------------------------------------------------------------------------"
   ],
   "metadata": {}
  },
  {
   "cell_type": "markdown",
   "source": [
    "## Recursividad"
   ],
   "metadata": {}
  },
  {
   "cell_type": "code",
   "execution_count": 19,
   "source": [
    "def nombre_funcion():\r\n",
    "    print(\"X\")\r\n",
    "    \r\n",
    "nombre_funcion()"
   ],
   "outputs": [
    {
     "output_type": "stream",
     "name": "stdout",
     "text": [
      "X\n"
     ]
    }
   ],
   "metadata": {}
  },
  {
   "cell_type": "code",
   "execution_count": 20,
   "source": [
    "def nombre_funcion(x):\r\n",
    "    print(x)\r\n",
    "    \r\n",
    "nombre_funcion(x=\"4\")"
   ],
   "outputs": [
    {
     "output_type": "stream",
     "name": "stdout",
     "text": [
      "4\n"
     ]
    }
   ],
   "metadata": {}
  },
  {
   "cell_type": "code",
   "execution_count": 21,
   "source": [
    "def nombre_funcion(x):\r\n",
    "    return x\r\n",
    "    \r\n",
    "s = nombre_funcion(x=3)"
   ],
   "outputs": [],
   "metadata": {}
  },
  {
   "cell_type": "code",
   "execution_count": 22,
   "source": [
    "print(s)"
   ],
   "outputs": [
    {
     "output_type": "stream",
     "name": "stdout",
     "text": [
      "3\n"
     ]
    }
   ],
   "metadata": {}
  },
  {
   "cell_type": "code",
   "execution_count": 23,
   "source": [
    "def f_recursiva():\r\n",
    "    print(\"X\")\r\n",
    "    f_recursiva()"
   ],
   "outputs": [],
   "metadata": {}
  },
  {
   "cell_type": "markdown",
   "source": [
    "```python\n",
    "def f():\n",
    "    print(\"Muestro esto\")\n",
    "    f()\n",
    "    print(\"X\")\n",
    "    \n",
    "f()\n",
    "```"
   ],
   "metadata": {}
  },
  {
   "cell_type": "code",
   "execution_count": 25,
   "source": [
    "def f(acum):\r\n",
    "    if acum == 10:\r\n",
    "        return acum\r\n",
    "    print(\"acum:\", acum)\r\n",
    "    f(acum=acum+1)\r\n",
    "    \r\n",
    "x = f(acum=0)\r\n",
    "print(\"x:\", x)"
   ],
   "outputs": [
    {
     "output_type": "stream",
     "name": "stdout",
     "text": [
      "acum: 0\n",
      "acum: 1\n",
      "acum: 2\n",
      "acum: 3\n",
      "acum: 4\n",
      "acum: 5\n",
      "acum: 6\n",
      "acum: 7\n",
      "acum: 8\n",
      "acum: 9\n",
      "x: None\n"
     ]
    }
   ],
   "metadata": {}
  },
  {
   "cell_type": "code",
   "execution_count": 26,
   "source": [
    "def f(acum):\r\n",
    "    if acum == 0:\r\n",
    "        return acum\r\n",
    "    print(\"acum:\", acum)\r\n",
    "    p = f(acum=acum+1)\r\n",
    "    \r\n",
    "x = f(acum=0)\r\n",
    "print(x)\r\n",
    "print(\"Ha terminado esto\")"
   ],
   "outputs": [
    {
     "output_type": "stream",
     "name": "stdout",
     "text": [
      "0\n",
      "Ha terminado esto\n"
     ]
    }
   ],
   "metadata": {}
  },
  {
   "cell_type": "code",
   "execution_count": 27,
   "source": [
    "def f(acum):\r\n",
    "    if acum == 10:\r\n",
    "        return acum\r\n",
    "    print(\"acum:\", acum)\r\n",
    "    p = f(acum=acum+1)\r\n",
    "    return p\r\n",
    "    \r\n",
    "x = f(acum=0)\r\n",
    "print(x)\r\n",
    "print(\"Ha terminado esto\")"
   ],
   "outputs": [
    {
     "output_type": "stream",
     "name": "stdout",
     "text": [
      "acum: 0\n",
      "acum: 1\n",
      "acum: 2\n",
      "acum: 3\n",
      "acum: 4\n",
      "acum: 5\n",
      "acum: 6\n",
      "acum: 7\n",
      "acum: 8\n",
      "acum: 9\n",
      "10\n",
      "Ha terminado esto\n"
     ]
    }
   ],
   "metadata": {}
  },
  {
   "cell_type": "markdown",
   "source": [
    "--------------------------------------------------------------------------------------"
   ],
   "metadata": {}
  },
  {
   "cell_type": "code",
   "execution_count": null,
   "source": [],
   "outputs": [],
   "metadata": {}
  }
 ],
 "metadata": {
  "kernelspec": {
   "name": "python3",
   "display_name": "Python 3.7.4 64-bit"
  },
  "language_info": {
   "codemirror_mode": {
    "name": "ipython",
    "version": 3
   },
   "file_extension": ".py",
   "mimetype": "text/x-python",
   "name": "python",
   "nbconvert_exporter": "python",
   "pygments_lexer": "ipython3",
   "version": "3.7.4"
  },
  "interpreter": {
   "hash": "c24a7c41beaaeed806d6a6952b3b4f7375fae7924f19eb99401d49cba6e7526b"
  }
 },
 "nbformat": 4,
 "nbformat_minor": 4
}