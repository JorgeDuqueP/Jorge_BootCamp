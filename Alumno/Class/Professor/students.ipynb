{
 "cells": [
  {
   "cell_type": "code",
   "execution_count": 2,
   "source": [
    "student_list = [(\"Gabriel Vázquez\", 29, 1.75), (\"Leonardo Sánchez\", 24, 1.82), (\"Piero Termini\", 25, 1.71), (\"Marta Buesa\", 35, 1.66), (\"Silvia Pasinato\", 37, 1.63), (\"Faro Zamani\", 29, 1.90), ('Miguel Nievas', 27, 1.80), (\"Alejandro Medina\", 28, 1.70), (\"Cristina Martínez\", 32, 1.60), (\"Francisco Palma\", 36, 1.74), (\"Jorge Duque\", 45, 1.72), (\"Jesús Llanes\", 41, 1.65), (\"Luis Pech\", 18, 1.71), (\"Marta Gómez\", 30, 1.65), (\"Jennifer Sanchez\", 40, 1.60), (\"Diego Isla\", 39, 1.80), (\"Nuria Brocar\", 35, 1.75), (\"Antonio Campaña\", 23, 1.77), (\"Isabella Schindowski\", 34, 1.60), (\"Juan Maniglia\", 32, 1.75), (\"David Suárez\", 27, 1.70), (\"Antonio Jiménez\", 34, 1.80), (\"Carlos Hernández\", 27, 1.77), (\"Erik Urresta\", 28, 1.70), (\"Marcos Lobo\", 35, 1.80), (\"Natalia Fernandez\", 31, 1.70)]\r\n",
    "\r\n",
    "print(student_list)\r\n",
    "#import random\r\n",
    "#random.choice(student_list)"
   ],
   "outputs": [
    {
     "output_type": "stream",
     "name": "stdout",
     "text": [
      "[('Gabriel Vázquez', 29, 1.75), ('Leonardo Sánchez', 24, 1.82), ('Piero Termini', 25, 1.71), ('Marta Buesa', 35, 1.66), ('Silvia Pasinato', 37, 1.63), ('Faro Zamani', 29, 1.9), ('Miguel Nievas', 27, 1.8), ('Alejandro Medina', 28, 1.7), ('Cristina Martínez', 32, 1.6), ('Francisco Palma', 36, 1.74), ('Jorge Duque', 45, 1.72), ('Jesús Llanes', 41, 1.65), ('Luis Pech', 18, 1.71), ('Marta Gómez', 30, 1.65), ('Jennifer Sanchez', 40, 1.6), ('Diego Isla', 39, 1.8), ('Nuria Brocar', 35, 1.75), ('Antonio Campaña', 23, 1.77), ('Isabella Schindowski', 34, 1.6), ('Juan Maniglia', 32, 1.75), ('David Suárez', 27, 1.7), ('Antonio Jiménez', 34, 1.8), ('Carlos Hernández', 27, 1.77), ('Erik Urresta', 28, 1.7), ('Marcos Lobo', 35, 1.8), ('Natalia Fernandez', 31, 1.7)]\n"
     ]
    }
   ],
   "metadata": {}
  },
  {
   "cell_type": "code",
   "execution_count": 14,
   "source": [
    "gabriel = \"Gabriel Vázquez\"\r\n",
    "Miguel = \"Miguel Nievas\"\r\n",
    "cristina = \"Cristina Martínez\"\r\n",
    "leo = \"Leonardo Sánchez\"\r\n",
    "\r\n",
    "lista_nombres_profes = [gabriel, Miguel, cristina, leo]\r\n",
    "\r\n",
    "# 1. eliminar las tuplas que contengan a los 4 profesores de la lista de\r\n",
    "# estudiantes a partir del nombre\r\n",
    "# 2. crear una lista que contenga solo los nombres de los alumnos\r\n",
    "\r\n",
    "# CASA\r\n"
   ],
   "outputs": [],
   "metadata": {}
  },
  {
   "cell_type": "code",
   "execution_count": 4,
   "source": [
    "# Ocurre el problema de eliminar el elemento en la misma posición en la que está el bucle.\r\n",
    "\r\n",
    "for student_tupla in student_list:\r\n",
    "    nombre = student_tupla[0]\r\n",
    "    if nombre in lista_nombres_profes:  # Si nombre está en la 'lista_nombres_profes'\r\n",
    "        print(student_tupla)\r\n",
    "        student_list.remove(student_tupla)\r\n",
    "print(student_list)"
   ],
   "outputs": [
    {
     "output_type": "stream",
     "name": "stdout",
     "text": [
      "('Gabriel Vázquez', 29, 1.75)\n",
      "('Miguel Nievas', 27, 1.8)\n",
      "('Cristina Martínez', 32, 1.6)\n",
      "[('Leonardo Sánchez', 24, 1.82), ('Piero Termini', 25, 1.71), ('Marta Buesa', 35, 1.66), ('Silvia Pasinato', 37, 1.63), ('Faro Zamani', 29, 1.9), ('Alejandro Medina', 28, 1.7), ('Francisco Palma', 36, 1.74), ('Jorge Duque', 45, 1.72), ('Jesús Llanes', 41, 1.65), ('Luis Pech', 18, 1.71), ('Marta Gómez', 30, 1.65), ('Jennifer Sanchez', 40, 1.6), ('Diego Isla', 39, 1.8), ('Nuria Brocar', 35, 1.75), ('Antonio Campaña', 23, 1.77), ('Isabella Schindowski', 34, 1.6), ('Juan Maniglia', 32, 1.75), ('David Suárez', 27, 1.7), ('Antonio Jiménez', 34, 1.8), ('Carlos Hernández', 27, 1.77), ('Erik Urresta', 28, 1.7), ('Marcos Lobo', 35, 1.8), ('Natalia Fernandez', 31, 1.7)]\n"
     ]
    }
   ],
   "metadata": {}
  },
  {
   "cell_type": "code",
   "execution_count": 5,
   "source": [
    "for student_tupla in student_list:\r\n",
    "    nombre = student_tupla[0]\r\n",
    "    if nombre == gabriel or nombre == miguel or nombre == cristina or nombre == leo:\r\n",
    "        print(student_tupla)"
   ],
   "outputs": [
    {
     "output_type": "stream",
     "name": "stdout",
     "text": [
      "('Leonardo Sánchez', 24, 1.82)\n"
     ]
    }
   ],
   "metadata": {}
  },
  {
   "cell_type": "code",
   "execution_count": 6,
   "source": [
    "lista = [\"A\", \"C\", \"G\", 67]\r\n",
    "\r\n",
    "for pos, elem in enumerate(lista):\r\n",
    "    print(\"pos:\", pos)\r\n",
    "    print()\r\n",
    "    if elem == \"A\" or elem == \"G\":\r\n",
    "        lista.remove(elem)\r\n",
    "\r\n",
    "print(lista)"
   ],
   "outputs": [
    {
     "output_type": "stream",
     "name": "stdout",
     "text": [
      "pos: 0\n",
      "\n",
      "pos: 1\n",
      "\n",
      "['C', 67]\n"
     ]
    }
   ],
   "metadata": {}
  },
  {
   "cell_type": "code",
   "execution_count": 7,
   "source": [
    "lista = [\"A\", \"C\", \"G\", 67]\r\n",
    "\r\n",
    "if \"A\" in lista:\r\n",
    "    print(True)\r\n",
    "else:\r\n",
    "    print(False)"
   ],
   "outputs": [
    {
     "output_type": "stream",
     "name": "stdout",
     "text": [
      "True\n"
     ]
    }
   ],
   "metadata": {}
  },
  {
   "cell_type": "code",
   "execution_count": 15,
   "source": [
    "# ejercicio: eliminar a los 4 profes de la lista completa\r\n",
    "gabriel = \"Gabriel Vázquez\"\r\n",
    "Miguel = \"Miguel Nievas\"\r\n",
    "cristian = \"Cristina Martínez\"\r\n",
    "leo = \"Leonardo Sánchez\"\r\n",
    "\r\n",
    "lista_nombres_profes = [gabriel, Miguel, cristian, leo]\r\n",
    "\r\n",
    "for profe in lista_nombres_profes:\r\n",
    "    if profe == Miguel:\r\n",
    "        continue\r\n",
    "    print(lista_nombres_profes)\r\n"
   ],
   "outputs": [
    {
     "output_type": "stream",
     "name": "stdout",
     "text": [
      "['Gabriel Vázquez', 'Miguel Nievas', 'Cristina Martínez', 'Leonardo Sánchez']\n",
      "['Gabriel Vázquez', 'Miguel Nievas', 'Cristina Martínez', 'Leonardo Sánchez']\n",
      "['Gabriel Vázquez', 'Miguel Nievas', 'Cristina Martínez', 'Leonardo Sánchez']\n"
     ]
    }
   ],
   "metadata": {}
  },
  {
   "cell_type": "code",
   "execution_count": 6,
   "source": [
    "lista = [\"ana\", \"maria\", \"juan\"]\r\n",
    "\r\n",
    "a_mostrar = \"\"\r\n",
    "for elem in lista:\r\n",
    "    a_mostrar += elem\r\n",
    "    if elem != lista[-1]:\r\n",
    "        a_mostrar += \",\"\r\n",
    "a_mostrar"
   ],
   "outputs": [
    {
     "output_type": "execute_result",
     "data": {
      "text/plain": [
       "'ana,maria,juan'"
      ]
     },
     "metadata": {},
     "execution_count": 6
    }
   ],
   "metadata": {}
  },
  {
   "cell_type": "code",
   "execution_count": 10,
   "source": [
    "lista_estudiantes_sin_profes[]\r\n",
    "for persona_tupla in student_list:\r\n",
    "    if not (persona_tupla[0] in lista_nombres_profes):\r\n",
    "        lista_estudiantes_sin_profes.appened(persona_tupla)\r\n",
    "\r\n"
   ],
   "outputs": [
    {
     "output_type": "error",
     "ename": "SyntaxError",
     "evalue": "invalid syntax (Temp/ipykernel_4724/3596432140.py, line 1)",
     "traceback": [
      "\u001b[1;36m  File \u001b[1;32m\"C:\\Users\\jorge\\AppData\\Local\\Temp/ipykernel_4724/3596432140.py\"\u001b[1;36m, line \u001b[1;32m1\u001b[0m\n\u001b[1;33m    lista_estudiantes_sin_profes[]\u001b[0m\n\u001b[1;37m                                 ^\u001b[0m\n\u001b[1;31mSyntaxError\u001b[0m\u001b[1;31m:\u001b[0m invalid syntax\n"
     ]
    }
   ],
   "metadata": {}
  },
  {
   "cell_type": "code",
   "execution_count": null,
   "source": [],
   "outputs": [],
   "metadata": {}
  }
 ],
 "metadata": {
  "orig_nbformat": 4,
  "language_info": {
   "name": "python",
   "version": "3.7.4",
   "mimetype": "text/x-python",
   "codemirror_mode": {
    "name": "ipython",
    "version": 3
   },
   "pygments_lexer": "ipython3",
   "nbconvert_exporter": "python",
   "file_extension": ".py"
  },
  "kernelspec": {
   "name": "python3",
   "display_name": "Python 3.7.4 64-bit"
  },
  "interpreter": {
   "hash": "c24a7c41beaaeed806d6a6952b3b4f7375fae7924f19eb99401d49cba6e7526b"
  }
 },
 "nbformat": 4,
 "nbformat_minor": 2
}