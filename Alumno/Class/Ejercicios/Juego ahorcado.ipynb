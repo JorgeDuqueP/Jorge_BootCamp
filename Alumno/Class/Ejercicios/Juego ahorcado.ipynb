{
 "cells": [
  {
   "cell_type": "code",
   "execution_count": 38,
   "source": [
    "palabra_ahorcado  = input(\"Inserte palabra a acertar: \")\r\n",
    "lista = list(palabra_ahorcado)\r\n",
    "w = \"_\"\r\n",
    "z = w * len(lista)\r\n",
    "print(lista)\r\n",
    "numero_letras = 0\r\n",
    "print(z)\r\n",
    "while len(lista) > numero_letras:\r\n",
    "    letra_ahorcado = input(\"Inserte letra: \")\r\n",
    "    print(letra_ahorcado)\r\n",
    "    for i in lista:\r\n",
    "        if i == lista:\r\n",
    "            print(i)\r\n",
    "        elif i != lista:\r\n",
    "            print(\"Intentalo de nuevo\")\r\n",
    "            numero_letras = numero_letras + 1"
   ],
   "outputs": [
    {
     "output_type": "stream",
     "name": "stdout",
     "text": [
      "['m', 'o', 's', 'c', 'a']\n",
      "_____\n",
      "m\n",
      "Intentalo de nuevo\n",
      "Intentalo de nuevo\n",
      "Intentalo de nuevo\n",
      "Intentalo de nuevo\n",
      "Intentalo de nuevo\n"
     ]
    }
   ],
   "metadata": {}
  },
  {
   "cell_type": "markdown",
   "source": [
    "Enunciado del ejercicio:\r\n",
    "https://www.practicepython.org/exercise/2017/01/10/32-hangman.html\r\n",
    "Por favor, tratad de hacerlo sin mirar la solución. Es como he dicho, básicamente que se vaya mostrando por pantalla \r\n",
    "_ _ _ _ _\r\n",
    " las rayas bajas correspondientes al número de letras que tiene la palabra a adivinar. El usuario deberá insertar una letra y, si esa letra existe, se mostrará o mostrarán las letras acertadas \r\n",
    "O _ O _ _\r\n",
    ". \r\n",
    "Si falla, se mostrará el número de errores que lleva y, si lleva 6 errores, entonces se mostrará \"Fin del juego\""
   ],
   "metadata": {}
  },
  {
   "cell_type": "code",
   "execution_count": 50,
   "source": [
    "numero_fallos = 0\r\n",
    "numero_aciertos = 0\r\n",
    "palabra_a_adivinar = \"murcielago\"\r\n",
    "lista_palabra_a_adivinar = list(palabra_a_adivinar)\r\n",
    "palabra_a_adivinar = palabra_a_adivinar.upper()\r\n",
    "while True:\r\n",
    "    if numero_fallos == 6:\r\n",
    "        print(\"Has perdido\")\r\n",
    "        print(\"La palabra a adivinar era: \", palabra_a_adivinar)\r\n",
    "        break\r\n",
    "    letra_usuario = input(\"Inserte letra: \").upper()\r\n",
    "    if letra_usuario in palabra_a_adivinar:\r\n",
    "        palabra_a_adivinar.replace(\"_\", letra_usuario)\r\n",
    "        print(palabra_a_adivinar)\r\n",
    "    break\r\n",
    "\r\n"
   ],
   "outputs": [
    {
     "output_type": "stream",
     "name": "stdout",
     "text": [
      "MURCIELAGO\n"
     ]
    }
   ],
   "metadata": {}
  },
  {
   "cell_type": "code",
   "execution_count": 49,
   "source": [
    "# Función que reciba una palabra a adivinar y muestre por pantalla su forma con guiones\r\n",
    " def transforma_a_guiones(palabra):\r\n",
    "     list(print(\"_ \" * len(palabra))\r\n",
    "transforma_a_guiones(palabra=palabra_a_adivinar)"
   ],
   "outputs": [
    {
     "output_type": "error",
     "ename": "IndentationError",
     "evalue": "unexpected indent (Temp/ipykernel_7484/3942756102.py, line 2)",
     "traceback": [
      "\u001b[1;36m  File \u001b[1;32m\"C:\\Users\\jorge\\AppData\\Local\\Temp/ipykernel_7484/3942756102.py\"\u001b[1;36m, line \u001b[1;32m2\u001b[0m\n\u001b[1;33m    def transforma_a_guiones(palabra):\u001b[0m\n\u001b[1;37m    ^\u001b[0m\n\u001b[1;31mIndentationError\u001b[0m\u001b[1;31m:\u001b[0m unexpected indent\n"
     ]
    }
   ],
   "metadata": {}
  }
 ],
 "metadata": {
  "orig_nbformat": 4,
  "language_info": {
   "name": "python",
   "version": "3.7.4",
   "mimetype": "text/x-python",
   "codemirror_mode": {
    "name": "ipython",
    "version": 3
   },
   "pygments_lexer": "ipython3",
   "nbconvert_exporter": "python",
   "file_extension": ".py"
  },
  "kernelspec": {
   "name": "python3",
   "display_name": "Python 3.7.4 64-bit"
  },
  "interpreter": {
   "hash": "c24a7c41beaaeed806d6a6952b3b4f7375fae7924f19eb99401d49cba6e7526b"
  }
 },
 "nbformat": 4,
 "nbformat_minor": 2
}