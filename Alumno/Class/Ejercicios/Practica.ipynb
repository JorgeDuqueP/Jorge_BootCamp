{
 "cells": [
  {
   "cell_type": "code",
   "execution_count": 3,
   "source": [
    "def add_numbers(n1, n2):\r\n",
    "    result = n1 + n2\r\n",
    "    return result\r\n",
    "number1 = 5.4\r\n",
    "number2 = 6.7\r\n",
    "result = add_numbers(number1, number2)\r\n",
    "print(\"The sum is\", result)\r\n",
    "add_numbers(5, 6)"
   ],
   "outputs": [
    {
     "output_type": "stream",
     "name": "stdout",
     "text": [
      "The sum is 12.100000000000001\n"
     ]
    },
    {
     "output_type": "execute_result",
     "data": {
      "text/plain": [
       "11"
      ]
     },
     "metadata": {},
     "execution_count": 3
    }
   ],
   "metadata": {}
  },
  {
   "cell_type": "code",
   "execution_count": 5,
   "source": [
    "marks = [45, 1, 6, 37]\r\n",
    "length = len(marks)\r\n",
    "print(\"Length is\", length)\r\n",
    "marks_sum = sum(marks)\r\n",
    "print(\"The total marks you got is\", marks_sum)"
   ],
   "outputs": [
    {
     "output_type": "stream",
     "name": "stdout",
     "text": [
      "Length is 4\n",
      "The total marks you got is 89\n"
     ]
    }
   ],
   "metadata": {}
  },
  {
   "cell_type": "code",
   "execution_count": 16,
   "source": [
    "# funtion to find average marks\r\n",
    "marks = [45, 1, 6, 37]\r\n",
    "def find_average_marks(marks):\r\n",
    "    sum_of_marks = sum(marks)\r\n",
    "    total_subjects = len(marks)\r\n",
    "    average_marks = sum_of_marks / total_subjects \r\n",
    "    return average_marks\r\n",
    "average_marks = find_average_marks(marks)\r\n",
    "marks = [45, 1, 6, 37]\r\n",
    "find_average_marks(marks)"
   ],
   "outputs": [
    {
     "output_type": "execute_result",
     "data": {
      "text/plain": [
       "22.25"
      ]
     },
     "metadata": {},
     "execution_count": 16
    }
   ],
   "metadata": {}
  },
  {
   "cell_type": "code",
   "execution_count": 19,
   "source": [
    "# Calculate the grade and return it\r\n",
    "average_marks = find_average_marks(marks)\r\n",
    "def compute_grade(average_marks):\r\n",
    "    if average_marks >= 80:\r\n",
    "        grade = \"A\"\r\n",
    "    elif average_marks >= 60:\r\n",
    "        grade = \"B\"\r\n",
    "    elif average_marks >= 50:\r\n",
    "        grade = \"C\"\r\n",
    "    elif average_marks >= 20:\r\n",
    "        grade = \"D\"\r\n",
    "    else:\r\n",
    "        grade = \"F\"\r\n",
    "    return grade\r\n",
    "marks = [45, 1, 6, 37]\r\n",
    "average_marks = find_average_marks(marks)\r\n",
    "print(\"You average marks is:\", average_marks)\r\n",
    "grade = compute_grade(average_marks)\r\n",
    "print(\"You grade is:\", grade)"
   ],
   "outputs": [
    {
     "output_type": "stream",
     "name": "stdout",
     "text": [
      "You average marks is: 22.25\n",
      "You grade is: D\n"
     ]
    }
   ],
   "metadata": {}
  }
 ],
 "metadata": {
  "orig_nbformat": 4,
  "language_info": {
   "name": "python",
   "version": "3.7.4",
   "mimetype": "text/x-python",
   "codemirror_mode": {
    "name": "ipython",
    "version": 3
   },
   "pygments_lexer": "ipython3",
   "nbconvert_exporter": "python",
   "file_extension": ".py"
  },
  "kernelspec": {
   "name": "python3",
   "display_name": "Python 3.7.4 64-bit"
  },
  "interpreter": {
   "hash": "c24a7c41beaaeed806d6a6952b3b4f7375fae7924f19eb99401d49cba6e7526b"
  }
 },
 "nbformat": 4,
 "nbformat_minor": 2
}