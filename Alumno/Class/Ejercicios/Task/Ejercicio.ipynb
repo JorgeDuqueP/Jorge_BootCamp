{
 "cells": [
  {
   "cell_type": "code",
   "execution_count": 6,
   "source": [
    "# 1. Si hay algún None, muestra que deben tener valores\r\n",
    "# 2. Si ambos son int, muestra \"La suma es: X\"\r\n",
    "# 3. Si ambos son str, muestra \"La concatenación es: X\"\r\n",
    "# 4. Si uno es str y el otro int, entonces muestra:\r\n",
    "# \"Ambos deben ser del mismo tipo.\"\r\n",
    "def funcion_suma_o_concatena(a=None, b=None):\r\n",
    "    #if a == None or b == None:\r\n",
    "    if not a or not b: \r\n",
    "        print(\"Los parámetros deben tener algún valor\")\r\n",
    "    elif type(a) == int and type(b) == int: #Tambien else isistance(a, int) and type(b) == int\r\n",
    "        print(\"La suma de ambos es\" + str(a+b))\r\n",
    "    elif isinstance(a, str) and type(b) == str:\r\n",
    "        print(\"La concatenación es:\", a + b)\r\n",
    "    elif type(a) != type(b):\r\n",
    "        print(\"Ambos deben de ser del mismo tipo\"\r\n",
    "    \r\n",
    "funcion_suma_o_concatena(a=2, b=243)"
   ],
   "outputs": [
    {
     "output_type": "error",
     "ename": "SyntaxError",
     "evalue": "invalid syntax (Temp/ipykernel_3760/2604448873.py, line 17)",
     "traceback": [
      "\u001b[1;36m  File \u001b[1;32m\"C:\\Users\\jorge\\AppData\\Local\\Temp/ipykernel_3760/2604448873.py\"\u001b[1;36m, line \u001b[1;32m17\u001b[0m\n\u001b[1;33m    funcion_suma_o_concatena(a=2, b=243)\u001b[0m\n\u001b[1;37m                           ^\u001b[0m\n\u001b[1;31mSyntaxError\u001b[0m\u001b[1;31m:\u001b[0m invalid syntax\n"
     ]
    }
   ],
   "metadata": {}
  },
  {
   "cell_type": "code",
   "execution_count": 8,
   "source": [
    "# ejercicio: eliminar a los 4 profes de la lista completa\r\n",
    "gabriel = \"Gabriel Vázquez\"\r\n",
    "Miguel = \"Miguel Nievas\"\r\n",
    "cristian = \"Cristina Martínez\"\r\n",
    "leo = \"Leonardo Sánchez\"\r\n",
    "\r\n",
    "lista_nombres_profes = [gabriel, Miguel, cristian, leo]\r\n",
    "\r\n",
    "for profe in lista_nombres_profes:\r\n",
    "    if profe == Miguel:\r\n",
    "        continue\r\n",
    "    print(profe)"
   ],
   "outputs": [
    {
     "output_type": "stream",
     "name": "stdout",
     "text": [
      "Gabriel Vázquez\n",
      "Cristina Martínez\n",
      "Leonardo Sánchez\n"
     ]
    }
   ],
   "metadata": {}
  },
  {
   "cell_type": "code",
   "execution_count": null,
   "source": [],
   "outputs": [],
   "metadata": {}
  }
 ],
 "metadata": {
  "orig_nbformat": 4,
  "language_info": {
   "name": "python",
   "version": "3.7.4",
   "mimetype": "text/x-python",
   "codemirror_mode": {
    "name": "ipython",
    "version": 3
   },
   "pygments_lexer": "ipython3",
   "nbconvert_exporter": "python",
   "file_extension": ".py"
  },
  "kernelspec": {
   "name": "python3",
   "display_name": "Python 3.7.4 64-bit"
  },
  "interpreter": {
   "hash": "c24a7c41beaaeed806d6a6952b3b4f7375fae7924f19eb99401d49cba6e7526b"
  }
 },
 "nbformat": 4,
 "nbformat_minor": 2
}