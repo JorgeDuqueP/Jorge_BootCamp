{
  "nbformat": 4,
  "nbformat_minor": 2,
  "metadata": {
    "kernelspec": {
      "name": "python3",
      "display_name": "Python 3.7.4 64-bit"
    },
    "language_info": {
      "codemirror_mode": {
        "name": "ipython",
        "version": 3
      },
      "file_extension": ".py",
      "mimetype": "text/x-python",
      "name": "python",
      "nbconvert_exporter": "python",
      "pygments_lexer": "ipython3",
      "version": "3.7.4"
    },
    "colab": {
      "name": "Practice_3_Collections_II_for.ipynb",
      "provenance": []
    },
    "interpreter": {
      "hash": "c24a7c41beaaeed806d6a6952b3b4f7375fae7924f19eb99401d49cba6e7526b"
    }
  },
  "cells": [
    {
      "cell_type": "markdown",
      "source": [
        "# Python | day 3 | collections & if/else & for"
      ],
      "metadata": {
        "id": "cdEN_h24GdRg"
      }
    },
    {
      "cell_type": "markdown",
      "source": [
        "### Exercise 1. "
      ],
      "metadata": {
        "id": "Cw3xpZ9zGdRi"
      }
    },
    {
      "cell_type": "markdown",
      "source": [
        "1. Create a variable called **num_bridge** with a value of 15."
      ],
      "metadata": {
        "id": "nJWO9GdKGdRj"
      }
    },
    {
      "cell_type": "code",
      "execution_count": 1,
      "source": [
        "num_bridge = 15"
      ],
      "outputs": [],
      "metadata": {
        "id": "9OFmuzRdGdRj"
      }
    },
    {
      "cell_type": "markdown",
      "source": [
        "2. Create a variable called **name_street** with the value \"Recoletos\".\n",
        "\n"
      ],
      "metadata": {
        "id": "dOfvhFueGdRk"
      }
    },
    {
      "cell_type": "code",
      "execution_count": 2,
      "source": [
        "name_street = \"Recoletos\""
      ],
      "outputs": [],
      "metadata": {
        "id": "nNymoKP7GdRk"
      }
    },
    {
      "cell_type": "markdown",
      "source": [
        "3. Create a variable called **personal_taste** which should be `True` if you like the beach better or `False` if you rather choose mountain. \n",
        "\n",
        "```python\n",
        "Example: \n",
        "personal_taste = True\n",
        "```"
      ],
      "metadata": {
        "id": "-UQUrlFgGdRk"
      }
    },
    {
      "cell_type": "code",
      "execution_count": 3,
      "source": [
        "personal_taste = False"
      ],
      "outputs": [],
      "metadata": {
        "id": "yDzYUzIMGdRl"
      }
    },
    {
      "cell_type": "markdown",
      "source": [
        "4. Create a variable called **nothing** like follows: `nothing = None`. `None`doesn't represent any value, something you should keep in mind if you do `if nothing:` then `nothing` acts as a boolean `False`. "
      ],
      "metadata": {
        "id": "svkLOt4RGdRl"
      }
    },
    {
      "cell_type": "code",
      "execution_count": 5,
      "source": [
        "nothing = None"
      ],
      "outputs": [],
      "metadata": {
        "id": "ULNP2Q3mGdRm"
      }
    },
    {
      "cell_type": "markdown",
      "source": [
        "5. Create a variable called **address_list**. This should be a list which contains the following: first element **name_street** and second element **num_bridge**. "
      ],
      "metadata": {
        "id": "niFIo1NxGdRm"
      }
    },
    {
      "cell_type": "code",
      "execution_count": 7,
      "source": [
        "address_list = [name_street, num_bridge]"
      ],
      "outputs": [],
      "metadata": {
        "id": "zJ1Zu5b_GdRm"
      }
    },
    {
      "cell_type": "markdown",
      "source": [
        "6. Create a variable called **sleep_hours** that should contains, as a string, the hours you've slept today."
      ],
      "metadata": {
        "id": "MdA6rmzyGdRm"
      }
    },
    {
      "cell_type": "code",
      "execution_count": 6,
      "source": [
        "sleep_hours = \"8\""
      ],
      "outputs": [],
      "metadata": {
        "id": "pDQVqkBWGdRm"
      }
    },
    {
      "cell_type": "markdown",
      "source": [
        "7. Create a list called **info_list** containing every variable you've just created in the order you have done it.\r\n",
        "\r\n",
        "```python\r\n",
        "len(info_list) == 6\r\n",
        "True\r\n",
        "```\r\n",
        "\r\n",
        "**IMPORTANT: you will use `info_list` at some point during the ramp-up**"
      ],
      "metadata": {
        "id": "HCvA16y7GdRn"
      }
    },
    {
      "cell_type": "code",
      "execution_count": 8,
      "source": [
        "info_list = [num_bridge, name_street, personal_taste, nothing, address_list, sleep_hours]"
      ],
      "outputs": [],
      "metadata": {
        "id": "nvwP54qPGdRn"
      }
    },
    {
      "cell_type": "markdown",
      "source": [
        "8. Run the following cell in order to delete every variable you've just created and keep **info_list** only.\r\n",
        "Print **info_list** once you've done it to check the list still exists."
      ],
      "metadata": {
        "id": "VlgvxL7GGdRn"
      }
    },
    {
      "cell_type": "code",
      "execution_count": 9,
      "source": [
        "#run this\r\n",
        "del num_bridge\r\n",
        "del name_street\r\n",
        "del personal_taste\r\n",
        "del nothing\r\n",
        "del address_list\r\n",
        "del sleep_hours"
      ],
      "outputs": [],
      "metadata": {
        "id": "XlisEXQ3GdRn"
      }
    },
    {
      "cell_type": "code",
      "execution_count": 10,
      "source": [
        "print(info_list)"
      ],
      "outputs": [
        {
          "output_type": "stream",
          "name": "stdout",
          "text": [
            "[15, 'Recoletos', False, None, ['Recoletos', 15], '8']\n"
          ]
        }
      ],
      "metadata": {
        "id": "sv5rLeOrGdRo"
      }
    },
    {
      "cell_type": "markdown",
      "source": [
        "### Exercise 2."
      ],
      "metadata": {
        "id": "eUMnkJx0GdRo"
      }
    },
    {
      "cell_type": "markdown",
      "source": [
        "You'll need `info_list` in order to continue with this exercise. Remember don't use any variable except `info_list`. \n",
        "\n",
        "Print the following. Don't use functions and/or loops. "
      ],
      "metadata": {
        "id": "bCpzOD-DGdRo"
      }
    },
    {
      "cell_type": "markdown",
      "source": [
        " 1. Sum up the street number of The Bridge and the hours you slept last night. "
      ],
      "metadata": {
        "id": "mdtrWj0WGdRo"
      }
    },
    {
      "cell_type": "code",
      "execution_count": 11,
      "source": [
        "z = info_list[0] + info_list[-1]"
      ],
      "outputs": [
        {
          "output_type": "error",
          "ename": "TypeError",
          "evalue": "unsupported operand type(s) for +: 'int' and 'str'",
          "traceback": [
            "\u001b[1;31m---------------------------------------------------------------------------\u001b[0m",
            "\u001b[1;31mTypeError\u001b[0m                                 Traceback (most recent call last)",
            "\u001b[1;32m~\\AppData\\Local\\Temp/ipykernel_7492/2966303199.py\u001b[0m in \u001b[0;36m<module>\u001b[1;34m\u001b[0m\n\u001b[1;32m----> 1\u001b[1;33m \u001b[0mz\u001b[0m \u001b[1;33m=\u001b[0m \u001b[0minfo_list\u001b[0m\u001b[1;33m[\u001b[0m\u001b[1;36m0\u001b[0m\u001b[1;33m]\u001b[0m \u001b[1;33m+\u001b[0m \u001b[0minfo_list\u001b[0m\u001b[1;33m[\u001b[0m\u001b[1;33m-\u001b[0m\u001b[1;36m1\u001b[0m\u001b[1;33m]\u001b[0m\u001b[1;33m\u001b[0m\u001b[1;33m\u001b[0m\u001b[0m\n\u001b[0m",
            "\u001b[1;31mTypeError\u001b[0m: unsupported operand type(s) for +: 'int' and 'str'"
          ]
        }
      ],
      "metadata": {
        "id": "aKlbAXTFGdRo"
      }
    },
    {
      "cell_type": "code",
      "execution_count": 12,
      "source": [
        "z = info_list[0] + int(info_list[-1])"
      ],
      "outputs": [],
      "metadata": {}
    },
    {
      "cell_type": "markdown",
      "source": [
        "2. Concatenate the street number of The Bridge, the name of the street, your personal taste and the hours you slept. All of them should be separated by `\" --> \"`."
      ],
      "metadata": {}
    },
    {
      "cell_type": "code",
      "execution_count": 13,
      "source": [
        "c = str(info_list[0]) + info_list[1] + str(info_list[2]) + str(info_list[-1])"
      ],
      "outputs": [],
      "metadata": {
        "id": "O2k2-NwCGdRo"
      }
    },
    {
      "cell_type": "markdown",
      "source": [
        "3. Access to the list which is at the fourth position of **info_list** and print the result of: \r\n",
        "     - The concatenation of both elements contained in the list found in fourth position of **info_list**. \r\n",
        "     - The multiplication of the lenght of the list and the lenght of the street's name.\r\n",
        "    \r\n",
        "   If at the fourth position of **info_list** you don't find a list, go back to Exercise 1, please. "
      ],
      "metadata": {
        "id": "3pt3AtLJGdRo"
      }
    },
    {
      "cell_type": "code",
      "execution_count": 20,
      "source": [
        "v = info_list[4][0] + str(info_list[4][1])\r\n",
        "print(v)\r\n",
        "m = len(info_list) * len(info_list[1])\r\n",
        "print(m)"
      ],
      "outputs": [
        {
          "output_type": "stream",
          "name": "stdout",
          "text": [
            "Recoletos15\n",
            "54\n"
          ]
        }
      ],
      "metadata": {
        "id": "FseUKilSGdRp"
      }
    },
    {
      "cell_type": "markdown",
      "source": [
        "### Exercise 3."
      ],
      "metadata": {
        "id": "r9-TkTAQGdRp"
      }
    },
    {
      "cell_type": "markdown",
      "source": [
        "1. Get user input using input(“Enter your age: ”). If user is 18 or older, give feedback: You are old enough to drive. If below 18 give feedback to wait for the missing amount of years."
      ],
      "metadata": {
        "id": "UIqA8QyMGdRp"
      }
    },
    {
      "cell_type": "code",
      "execution_count": 25,
      "source": [
        "age = int(input(\"enter your age:\"))\r\n",
        "if age > 18:\r\n",
        "    print(\"You are old enough to drive\")\r\n",
        "else:\r\n",
        "    print(\"wait for the missing amount of years\")"
      ],
      "outputs": [
        {
          "output_type": "stream",
          "name": "stdout",
          "text": [
            "You are old enough to drive\n"
          ]
        }
      ],
      "metadata": {
        "id": "Jg1FapyaGdRp"
      }
    },
    {
      "cell_type": "markdown",
      "source": [
        "2. Compare the values of **my_age** and **your_age** using if/else. Who is older (me or you)? Use input(“Enter your age: ”) to get **your_age** as input. **my_age** is always your age, cause you are the one coding the program. "
      ],
      "metadata": {
        "id": "RaaHN-y-GdRp"
      }
    },
    {
      "cell_type": "code",
      "execution_count": 26,
      "source": [
        "my_age = 45\r\n",
        "your_age = int(input(\"enter your age:\"))\r\n",
        "print(\"Who is older (me or you)?\")\r\n",
        "if my_age > your_age:\r\n",
        "    print(\"Me\")\r\n",
        "else:\r\n",
        "    print(\"you\")"
      ],
      "outputs": [
        {
          "output_type": "stream",
          "name": "stdout",
          "text": [
            "Who is older (me or you)?\n",
            "Me\n"
          ]
        }
      ],
      "metadata": {
        "id": "g3bGeM-iGdRp"
      }
    },
    {
      "cell_type": "markdown",
      "source": [
        "3. Get two numbers from the user using input prompt. If a is greater than b return \"a is greater than b\", if a is less b return \"a is smaller than b\", else \"a is equal to b\"."
      ],
      "metadata": {
        "id": "WlMiWyRYGdRp"
      }
    },
    {
      "cell_type": "code",
      "execution_count": 30,
      "source": [
        "Num_A = int(input(\"any nummber:\"))\r\n",
        "Num_B = int(input(\"any nummber:\"))\r\n",
        "if Num_A > Num_B:\r\n",
        "    Print(\"A is greater than B\")\r\n",
        "    elif:\r\n",
        "        print(\"A is smaller than B\")\r\n",
        "else:\r\n",
        "    print(\"A is equal to B\")\r\n"
      ],
      "outputs": [
        {
          "output_type": "error",
          "ename": "SyntaxError",
          "evalue": "invalid syntax (Temp/ipykernel_7492/1211705516.py, line 5)",
          "traceback": [
            "\u001b[1;36m  File \u001b[1;32m\"C:\\Users\\jorge\\AppData\\Local\\Temp/ipykernel_7492/1211705516.py\"\u001b[1;36m, line \u001b[1;32m5\u001b[0m\n\u001b[1;33m    elif:\u001b[0m\n\u001b[1;37m       ^\u001b[0m\n\u001b[1;31mSyntaxError\u001b[0m\u001b[1;31m:\u001b[0m invalid syntax\n"
          ]
        }
      ],
      "metadata": {
        "id": "pojLx1vvGdRp"
      }
    },
    {
      "cell_type": "code",
      "execution_count": 32,
      "source": [
        "Num_A = int(input(\"any nummber:\"))\r\n",
        "Num_B = int(input(\"any nummber:\"))\r\n",
        "\r\n",
        "if Num_A > Num_B:\r\n",
        "    Print(\"A is greater than B\")\r\n",
        "elif Num_A < Num_B:\r\n",
        "    print(\"A is smaller than B\")\r\n",
        "else:\r\n",
        "    print(\"A is equal to B\")"
      ],
      "outputs": [
        {
          "output_type": "stream",
          "name": "stdout",
          "text": [
            "A is equal to B\n"
          ]
        }
      ],
      "metadata": {}
    },
    {
      "cell_type": "markdown",
      "source": [
        "### Exercise 4\r\n",
        "\r\n",
        "Learn about **for loop**\r\n",
        "\r\n",
        "Watch this video: https://www.youtube.com/watch?v=wxds6MAtUQ0\r\n",
        "\r\n",
        "Read this: https://www.w3schools.com/python/python_for_loops.asp\r\n",
        "\r\n",
        "You may need this to understand what is going on with your loops: http://www.pythontutor.com/visualize.html#mode=edit"
      ],
      "metadata": {
        "id": "8xZfUxkiGdRp"
      }
    },
    {
      "cell_type": "markdown",
      "source": [
        "Declare four variables: \r\n",
        "- A string variable containing your surname. \r\n",
        "- Two integers variables: one, with the number of the street in which you live, and two, the age of the classmate sitting on your right. \r\n",
        "    If you are on the right edge of the table, look for your classmate on your left.\r\n",
        "    If you are on remote, choose one of your mates who are on remote too. \r\n",
        "- A list containing the variables you have just declared."
      ],
      "metadata": {
        "id": "bPqQtWcfGdRp"
      }
    },
    {
      "cell_type": "code",
      "execution_count": 5,
      "source": [
        "surname = \"Duque\"\r\n",
        "Address_number = 22\r\n",
        "age_classmate = 25\r\n",
        "declared = [surname, Address_number, age_classmate]"
      ],
      "outputs": [],
      "metadata": {
        "id": "54RTtjTjGdRq"
      }
    },
    {
      "cell_type": "markdown",
      "source": [
        "Using a **for loop** print every element of the list you've just created. \n",
        "    \n"
      ],
      "metadata": {
        "id": "Ah7CUidyGdRq"
      }
    },
    {
      "cell_type": "code",
      "execution_count": 6,
      "source": [
        "for elem in declared:\r\n",
        "    print(elem)"
      ],
      "outputs": [
        {
          "output_type": "stream",
          "name": "stdout",
          "text": [
            "Duque\n",
            "22\n",
            "25\n"
          ]
        }
      ],
      "metadata": {
        "id": "pR8Yks78GdRq"
      }
    },
    {
      "cell_type": "markdown",
      "source": [
        "Using a **for loop** and a **if** make sure you only print the element in the list which is a string\r\n",
        "(Your surname). "
      ],
      "metadata": {
        "id": "oFPPbZ0eGdRq"
      }
    },
    {
      "cell_type": "code",
      "execution_count": 7,
      "source": [
        "for elem in declared:\r\n",
        "    if elem == \"Duque\":\r\n",
        "        print(elem)\r\n"
      ],
      "outputs": [
        {
          "output_type": "stream",
          "name": "stdout",
          "text": [
            "Duque\n"
          ]
        }
      ],
      "metadata": {
        "id": "pMBlNDzQGdRq"
      }
    },
    {
      "cell_type": "code",
      "execution_count": 9,
      "source": [
        "for elem in declared:\r\n",
        "    if elem[0] == \"D\":\r\n",
        "        print(elemn)\r\n"
      ],
      "outputs": [
        {
          "output_type": "error",
          "ename": "NameError",
          "evalue": "name 'elemn' is not defined",
          "traceback": [
            "\u001b[1;31m---------------------------------------------------------------------------\u001b[0m",
            "\u001b[1;31mNameError\u001b[0m                                 Traceback (most recent call last)",
            "\u001b[1;32m~\\AppData\\Local\\Temp/ipykernel_2024/3743168321.py\u001b[0m in \u001b[0;36m<module>\u001b[1;34m\u001b[0m\n\u001b[0;32m      1\u001b[0m \u001b[1;32mfor\u001b[0m \u001b[0melem\u001b[0m \u001b[1;32min\u001b[0m \u001b[0mdeclared\u001b[0m\u001b[1;33m:\u001b[0m\u001b[1;33m\u001b[0m\u001b[1;33m\u001b[0m\u001b[0m\n\u001b[0;32m      2\u001b[0m     \u001b[1;32mif\u001b[0m \u001b[0melem\u001b[0m\u001b[1;33m[\u001b[0m\u001b[1;36m0\u001b[0m\u001b[1;33m]\u001b[0m \u001b[1;33m==\u001b[0m \u001b[1;34m\"D\"\u001b[0m\u001b[1;33m:\u001b[0m\u001b[1;33m\u001b[0m\u001b[1;33m\u001b[0m\u001b[0m\n\u001b[1;32m----> 3\u001b[1;33m         \u001b[0mprint\u001b[0m\u001b[1;33m(\u001b[0m\u001b[0melemn\u001b[0m\u001b[1;33m)\u001b[0m\u001b[1;33m\u001b[0m\u001b[1;33m\u001b[0m\u001b[0m\n\u001b[0m",
            "\u001b[1;31mNameError\u001b[0m: name 'elemn' is not defined"
          ]
        }
      ],
      "metadata": {}
    },
    {
      "cell_type": "code",
      "execution_count": 38,
      "source": [
        "for elem in declared:\r\n",
        "    if elem[0] == \"D\":\r\n",
        "        print(elem)"
      ],
      "outputs": [
        {
          "output_type": "stream",
          "name": "stdout",
          "text": [
            "Duque\n"
          ]
        },
        {
          "output_type": "error",
          "ename": "TypeError",
          "evalue": "'int' object is not subscriptable",
          "traceback": [
            "\u001b[1;31m---------------------------------------------------------------------------\u001b[0m",
            "\u001b[1;31mTypeError\u001b[0m                                 Traceback (most recent call last)",
            "\u001b[1;32m~\\AppData\\Local\\Temp/ipykernel_7492/1763661237.py\u001b[0m in \u001b[0;36m<module>\u001b[1;34m\u001b[0m\n\u001b[0;32m      1\u001b[0m \u001b[1;32mfor\u001b[0m \u001b[0melem\u001b[0m \u001b[1;32min\u001b[0m \u001b[0mdeclared\u001b[0m\u001b[1;33m:\u001b[0m\u001b[1;33m\u001b[0m\u001b[1;33m\u001b[0m\u001b[0m\n\u001b[1;32m----> 2\u001b[1;33m     \u001b[1;32mif\u001b[0m \u001b[0melem\u001b[0m\u001b[1;33m[\u001b[0m\u001b[1;36m0\u001b[0m\u001b[1;33m]\u001b[0m \u001b[1;33m==\u001b[0m \u001b[1;34m\"D\"\u001b[0m\u001b[1;33m:\u001b[0m\u001b[1;33m\u001b[0m\u001b[1;33m\u001b[0m\u001b[0m\n\u001b[0m\u001b[0;32m      3\u001b[0m         \u001b[0mprint\u001b[0m\u001b[1;33m(\u001b[0m\u001b[0melem\u001b[0m\u001b[1;33m)\u001b[0m\u001b[1;33m\u001b[0m\u001b[1;33m\u001b[0m\u001b[0m\n",
            "\u001b[1;31mTypeError\u001b[0m: 'int' object is not subscriptable"
          ]
        }
      ],
      "metadata": {}
    },
    {
      "cell_type": "markdown",
      "source": [
        "Me da el resultado \"Duque\", pero me lanza un error de 'int' que no entiendo"
      ],
      "metadata": {}
    },
    {
      "cell_type": "markdown",
      "source": [
        "**Well done!**"
      ],
      "metadata": {
        "id": "Q6CNW8a0GdRq"
      }
    },
    {
      "cell_type": "markdown",
      "source": [
        "### Exercise 5\r\n",
        "\r\n",
        "1. The following list contains some fruits:\r\n",
        "    \r\n",
        "`fruits = ['banana', 'orange', 'mango', 'lemon']`\r\n",
        "\r\n",
        "If a fruit doesn't exist in the list add the fruit to the list and print the modified list. If the fruit exists print('That fruit already exist in the list')\r\n",
        "\r\n",
        "Note: You can solve this exercise using or not `for` loop."
      ],
      "metadata": {
        "id": "fy4E7OA4GdRq"
      }
    },
    {
      "cell_type": "code",
      "execution_count": null,
      "source": [],
      "outputs": [],
      "metadata": {
        "id": "GPEJyA1jGdRq"
      }
    },
    {
      "cell_type": "markdown",
      "source": [
        "2. Prints the numbers between 0 and 70 that are multiples of 3 and 5."
      ],
      "metadata": {
        "id": "OteLWQllGdRq"
      }
    },
    {
      "cell_type": "code",
      "execution_count": 39,
      "source": [
        "def multiple(valor, multiple):\r\n",
        "  \r\n",
        "    return True if valor % multiple == 0 else False\r\n",
        " \r\n",
        "\r\n",
        "multiples_3=[]\r\n",
        "multiples_5=[]\r\n",
        " \r\n",
        "\r\n",
        "for i in range(0, 70):\r\n",
        " \r\n",
        "    if multiple(i, 3):\r\n",
        "        multiples_3.append(i)\r\n",
        " \r\n",
        "    if multiple(i, 5):\r\n",
        "        multiples_5.append(i)\r\n",
        " \r\n",
        "print (\"Los multiples de 3 son:\", multiples_3)\r\n",
        "print (\"\\nLos multiples de 5 son:\", multiples_5)"
      ],
      "outputs": [
        {
          "output_type": "stream",
          "name": "stdout",
          "text": [
            "Los multiples de 3 son: [0, 3, 6, 9, 12, 15, 18, 21, 24, 27, 30, 33, 36, 39, 42, 45, 48, 51, 54, 57, 60, 63, 66, 69]\n",
            "\n",
            "Los multiples de 5 son: [0, 5, 10, 15, 20, 25, 30, 35, 40, 45, 50, 55, 60, 65]\n"
          ]
        }
      ],
      "metadata": {
        "id": "lqWLYL7cGdRq"
      }
    },
    {
      "cell_type": "markdown",
      "source": [
        "3. Given two lists of same lenght, create a third list which contains the sum of both of the list, element by element. \n",
        "\n",
        "```python\n",
        "Example: \n",
        "a = [1,2]\n",
        "b = [4,5]\n",
        "new_list = [5,7]\n",
        "```"
      ],
      "metadata": {
        "id": "j6cpjWudGdRq"
      }
    },
    {
      "cell_type": "code",
      "execution_count": 42,
      "source": [
        "l1 = [51, 75]\r\n",
        "l2 = [49, 25]\r\n",
        "\r\n",
        "l3 = l1[0] + l2[0]\r\n",
        "l4 = l1[1] + l2[1]\r\n",
        "print(l4)\r\n",
        "\r\n",
        "l5 = [l3, l4]\r\n",
        "print(l5)"
      ],
      "outputs": [
        {
          "output_type": "stream",
          "name": "stdout",
          "text": [
            "100\n",
            "[100, 100]\n"
          ]
        }
      ],
      "metadata": {
        "id": "a__K5mmgGdRq"
      }
    },
    {
      "cell_type": "markdown",
      "source": [
        "### Bonus Track"
      ],
      "metadata": {
        "id": "Am0ohmJ9GdRr"
      }
    },
    {
      "cell_type": "markdown",
      "source": [
        "4. Print the following pattern:\r\n",
        "\r\n",
        "```python\r\n",
        "1\r\n",
        "22\r\n",
        "333\r\n",
        "4444\r\n",
        "55555\r\n",
        "666666\r\n",
        "7777777\r\n",
        "88888888\r\n",
        "999999999\r\n",
        "```"
      ],
      "metadata": {
        "id": "5s_tfETzGdRr"
      }
    },
    {
      "cell_type": "code",
      "execution_count": null,
      "source": [
        "\r\n"
      ],
      "outputs": [],
      "metadata": {
        "id": "p1O3NaE9GdRr"
      }
    },
    {
      "cell_type": "markdown",
      "source": [
        "5. Get first, second best scores from the list.\n",
        "List contains duplicates."
      ],
      "metadata": {
        "id": "wMkvfxjnGdRr"
      }
    },
    {
      "cell_type": "code",
      "execution_count": null,
      "source": [
        "scores = [86,86,85,85,85,83,23,45,84,1,2,0]"
      ],
      "outputs": [],
      "metadata": {
        "id": "5vP4tvTFGdRr"
      }
    },
    {
      "cell_type": "code",
      "execution_count": null,
      "source": [],
      "outputs": [],
      "metadata": {
        "id": "44YvJBPkGdRr"
      }
    },
    {
      "cell_type": "markdown",
      "source": [
        "6. From the given list:\n",
        "    \n",
        "    a) Create separate lists of strings and numbers.\n",
        "\n",
        "    b) Sort the strings' list in ascending order\n",
        "\n",
        "    c) Sort the strings' list in descending order\n",
        "\n",
        "    d) Sort the number's list from lowest to highest\n",
        "\n",
        "    e) Sort the number's list from highest to lowest"
      ],
      "metadata": {
        "id": "QOLwygMEGdRr"
      }
    },
    {
      "cell_type": "code",
      "execution_count": null,
      "source": [
        "gadgets = [\"Mobile\", \"Laptop\", 100, \"Camera\", 310.28, \"Speakers\", 27.00, \r\n",
        "           \"Television\", 1000, \"Laptop Case\", \"Camera Lens\"]"
      ],
      "outputs": [],
      "metadata": {
        "id": "KVRGozxSGdRr"
      }
    },
    {
      "cell_type": "code",
      "execution_count": null,
      "source": [],
      "outputs": [],
      "metadata": {
        "id": "EChaJv33GdRs"
      }
    },
    {
      "cell_type": "markdown",
      "source": [
        "7. Make a list of ten aliens, each of which is one color: 'red', 'green', or 'blue'.\n",
        "    - You can shorten this to 'r', 'g', and 'b' if you want, but if you choose this option you have to include a comment explaining what r, g, and b stand for.\n",
        "    - Red aliens are worth 5 points, green aliens are worth 10 points, and blue aliens are worth 20 points.\n",
        "    - Use a for loop to determine the number of points a player would earn for destroying all of the aliens in your list."
      ],
      "metadata": {
        "id": "_9w132qDGdRs"
      }
    },
    {
      "cell_type": "code",
      "execution_count": null,
      "source": [],
      "outputs": [],
      "metadata": {
        "id": "8Wkx3Lc8GdRs"
      }
    },
    {
      "cell_type": "markdown",
      "source": [
        "![\"hola\"](https://preview.redd.it/wk843smkri441.jpg?width=960&crop=smart&auto=webp&s=1a4d7a5ddeef38c03334d275afe3a9dd33866ce8)"
      ],
      "metadata": {
        "id": "Ctu7COlDGdRs"
      }
    },
    {
      "cell_type": "code",
      "execution_count": null,
      "source": [],
      "outputs": [],
      "metadata": {
        "id": "FhqgpD2oGdRs"
      }
    }
  ]
}