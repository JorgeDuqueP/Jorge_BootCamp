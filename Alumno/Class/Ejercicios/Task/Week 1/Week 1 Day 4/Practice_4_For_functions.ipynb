{
 "cells": [
  {
   "cell_type": "markdown",
   "source": [
    "# Python | day 4 | for loop, functions (feat. basics & if/else) "
   ],
   "metadata": {}
  },
  {
   "cell_type": "markdown",
   "source": [
    "### Exercise 0.1 - Python Basics\r\n",
    "\r\n",
    "1. What do we use to make a line break in a print? And for a tab stop?\r\n",
    "\r\n",
    "have a look ---> http://elclubdelautodidacta.es/wp/2012/04/python-capitulo-31-exprimiendo-la-funcion-print/"
   ],
   "metadata": {}
  },
  {
   "cell_type": "code",
   "execution_count": 4,
   "source": [
    " a='Azul'\r\n",
    " b='Verde'\r\n",
    " c='Rojo'\r\n",
    " print(a,b,c,sep=\"\\n\")\r\n",
    " print(a, b, c,sep=\"\\t\")\r\n",
    " \r\n"
   ],
   "outputs": [
    {
     "output_type": "stream",
     "name": "stdout",
     "text": [
      "Azul\n",
      "Verde\n",
      "Rojo\n",
      "Azul\tVerde\tRojo\n"
     ]
    }
   ],
   "metadata": {}
  },
  {
   "cell_type": "markdown",
   "source": [
    "2. Make a converter from dollars to euros. You'll have to use input."
   ],
   "metadata": {}
  },
  {
   "cell_type": "code",
   "execution_count": 8,
   "source": [
    "dollars = int(input(\"enter your dollar:\"))\r\n",
    "Euros = dollars * 0,85\r\n",
    "print(\"Euros:\", Euros)"
   ],
   "outputs": [
    {
     "output_type": "stream",
     "name": "stdout",
     "text": [
      "Euros: (0, 85)\n"
     ]
    }
   ],
   "metadata": {}
  },
  {
   "cell_type": "markdown",
   "source": [
    "3. Declare two strings, one will be your first name and the other your last name. Declare your age in another variable. Print a sentence which include those variables, using ```f{}```. Wtf is that? check this out **-->** https://realpython.com/python-string-formatting/"
   ],
   "metadata": {}
  },
  {
   "cell_type": "code",
   "execution_count": 9,
   "source": [
    "name = \"Jorge\"\r\n",
    "last_name = \"Duque\"\r\n",
    "age = 45\r\n",
    "NAME = {name, last_name, age}\r\n",
    "print(NAME) "
   ],
   "outputs": [
    {
     "output_type": "stream",
     "name": "stdout",
     "text": [
      "{'Duque', 'Jorge', 45}\n"
     ]
    }
   ],
   "metadata": {}
  },
  {
   "cell_type": "markdown",
   "source": [
    "4. Given the list `[4,7, -3]`, calculate its maximum, minimum and sum."
   ],
   "metadata": {}
  },
  {
   "cell_type": "code",
   "execution_count": 18,
   "source": [
    "list1 = [4, 7, -3]\r\n",
    "maxium = max(list1)\r\n",
    "minimun = min(list1)\r\n",
    "suma = sum(list1)\r\n",
    "print(minimun)\r\n",
    "print(maxium)\r\n",
    "print(suma)"
   ],
   "outputs": [
    {
     "output_type": "stream",
     "name": "stdout",
     "text": [
      "-3\n",
      "7\n",
      "8\n"
     ]
    }
   ],
   "metadata": {}
  },
  {
   "cell_type": "markdown",
   "source": [
    "5. Save the number `38.38276252728` to a variable called `number_dec` and round it to 5 decimal places.\r\n"
   ],
   "metadata": {}
  },
  {
   "cell_type": "code",
   "execution_count": 20,
   "source": [
    "number_dec = 38.38276252728\r\n",
    "redondeado = round(number_dec, 5)\r\n",
    "print(redondeado)"
   ],
   "outputs": [
    {
     "output_type": "stream",
     "name": "stdout",
     "text": [
      "38.38276\n"
     ]
    }
   ],
   "metadata": {}
  },
  {
   "cell_type": "markdown",
   "source": [
    "6. Declare a variable `phrase` with the value `\"Born to be wild\"` and make it uppercase, then lowercase, divide it by spaces, and finally, replace `\"wild\"` with `\"Geek.\"`"
   ],
   "metadata": {}
  },
  {
   "cell_type": "code",
   "execution_count": 28,
   "source": [
    "phrase = \"Born to be wild\"\r\n",
    "phrase_upper = phrase.upper()\r\n",
    "print(phrase)\r\n",
    "print(phrase_upper)\r\n",
    "print(phrase.split())\r\n",
    "phrase = phrase.replace(\"wild\", \"Geek.\")\r\n",
    "print(phrase)"
   ],
   "outputs": [
    {
     "output_type": "stream",
     "name": "stdout",
     "text": [
      "Born to be wild\n",
      "BORN TO BE WILD\n",
      "['Born', 'to', 'be', 'wild']\n",
      "Born to be Geek.\n"
     ]
    }
   ],
   "metadata": {}
  },
  {
   "cell_type": "markdown",
   "source": [
    "7. Create a program where two inputs are collected, and the output of the program is a boolean which tell the user whether those inputs are the same or not.\r\n"
   ],
   "metadata": {}
  },
  {
   "cell_type": "code",
   "execution_count": 30,
   "source": [
    "hours1 = int(input(\"enter today hours:\"))\r\n",
    "hours2 = int(input(\"enter yesterday hours:\"))\r\n",
    "if hours1 == hours2:\r\n",
    "    print(\"Same hours\")\r\n",
    "else:\r\n",
    "    print (\"Not same\")\r\n"
   ],
   "outputs": [
    {
     "output_type": "stream",
     "name": "stdout",
     "text": [
      "Not same\n"
     ]
    }
   ],
   "metadata": {}
  },
  {
   "cell_type": "markdown",
   "source": [
    "### Exercise 0.2 - If/else\r\n",
    "\r\n",
    "1. Create a decission tree using if/else sentences, to determine the price of the movies ticket. If the client's age is between 5 and 15 years, both included, the price will be 5, if she/he is retired and the movie is one of the `peliculas_discount`, the price is 4. In any other case, it will be 7 euros.\r\n",
    "\r\n",
    "You should create the list of `peliculas_discount` with your favourites movies. "
   ],
   "metadata": {}
  },
  {
   "cell_type": "code",
   "execution_count": 1,
   "source": [
    "age = int(input(\"enter your age:\"))\r\n",
    "peliculas_discount = [\"La gata sobre el tejado de zinc\", \"Regreso al futuro II\", ]\r\n",
    "if age in range(5, 15):\r\n",
    "    print(\"Price:\", \"5€\")\r\n",
    "\r\n",
    "elif age >= 65:\r\n",
    "    film = input(\"Enter your film:\")\r\n",
    "    if film in peliculas_discount:\r\n",
    "        print(\"Price:\", \"4€\")   \r\n",
    "else:\r\n",
    "    print(\"price:\", \"7€\") "
   ],
   "outputs": [
    {
     "output_type": "stream",
     "name": "stdout",
     "text": [
      "price: 7€\n"
     ]
    }
   ],
   "metadata": {}
  },
  {
   "cell_type": "markdown",
   "source": [
    "### Exercise 1 - For"
   ],
   "metadata": {}
  },
  {
   "cell_type": "markdown",
   "source": [
    "1. You are witnessing an epic battle between two powerful sorcerers: Gandalf and Saruman. Each sorcerer has 10 spells of variable power in their mind and they are going to throw them one after the other. The winner of the duel will be the one who wins more of those clashes between spells. Spells are represented as a list of 10 integers whose value equals the power of the spell.\r\n",
    "\r\n",
    "```python\r\n",
    "gandalf = [10, 11, 13, 30, 22, 11, 10, 33, 22, 22]\r\n",
    "saruman = [23, 66, 12, 43, 12, 10, 44, 23, 12, 17]\r\n",
    "```\r\n",
    "\r\n",
    "For example:\r\n",
    "\r\n",
    "The first clash is won by Saruman: 10 against 23, wins 23\r\n",
    "The second clash wins Saruman: 11 against 66, wins 66\r\n",
    "etc.\r\n",
    "You will create two variables, one for each sorcerer, where the sum of clashes won will be stored. Depending on which variable is greater at the end of the duel, you will show one of the following three results on the screen:\r\n",
    "```\r\n",
    "Gandalf wins\r\n",
    "Saruman wins\r\n",
    "Tie\r\n",
    "```"
   ],
   "metadata": {}
  },
  {
   "cell_type": "code",
   "execution_count": 50,
   "source": [
    "gandalf = [10, 11, 13, 30, 22, 11, 10, 33, 22, 22]\r\n",
    "saruman = [23, 66, 12, 43, 12, 10, 44, 23, 12, 17]\r\n",
    "Gandalf = 0\r\n",
    "Saruman = 0\r\n",
    "gandalf_vs_saruman = [gandalf] + [saruman]\r\n",
    "print(gandalf_vs_saruman)\r\n",
    "# No consigo saber cómo hacer una comparación entre las dos listas, he pensado en unirlas, pero tampoco sé cómo comparar cada elemento de cada posición de cada una de las listas. El resto para realizar un conteo y suma no creo que tenga problema, pero me atasco ahí."
   ],
   "outputs": [
    {
     "output_type": "stream",
     "name": "stdout",
     "text": [
      "[[10, 11, 13, 30, 22, 11, 10, 33, 22, 22], [23, 66, 12, 43, 12, 10, 44, 23, 12, 17]]\n"
     ]
    }
   ],
   "metadata": {}
  },
  {
   "cell_type": "markdown",
   "source": [
    "### Exercise 2 - Functions"
   ],
   "metadata": {}
  },
  {
   "cell_type": "markdown",
   "source": [
    "1. Write a function program to sum up two given different numbers. "
   ],
   "metadata": {}
  },
  {
   "cell_type": "code",
   "execution_count": 1,
   "source": [
    "def suma():\r\n",
    "    num1 = 78\r\n",
    "    num2 = 82\r\n",
    "    Sum_Total = num1 + num2\r\n",
    "    print(Sum_Total)\r\n",
    "\r\n",
    "suma()\r\n",
    "\r\n",
    "# No consigo saber cómo imprimir, no me da error a la hora de lanzar la función, pero no sé cómo debería de salir el resultado"
   ],
   "outputs": [
    {
     "output_type": "stream",
     "name": "stdout",
     "text": [
      "160\n"
     ]
    }
   ],
   "metadata": {}
  },
  {
   "cell_type": "markdown",
   "source": [
    "Call the function you've just defined to sum up: \r\n",
    "    - 5 and 6\r\n",
    "    - -3 and 10\r\n",
    "    - 99 and 789"
   ],
   "metadata": {}
  },
  {
   "cell_type": "code",
   "execution_count": 5,
   "source": [
    "num1 = -5\r\n",
    "num2 = 6\r\n",
    "def def_suma0():\r\n",
    "    Sum_Total = num1 + num2\r\n",
    "    print(Sum_Total)\r\n",
    "\r\n",
    "num3 = -3\r\n",
    "num4 = 10\r\n",
    "def def_suma1():\r\n",
    "    Sum_Total = num3 + num4\r\n",
    "    print(Sum_Total)\r\n",
    "\r\n",
    "num5 = -99\r\n",
    "num6 = 789\r\n",
    "def def_suma2():\r\n",
    "    Sum_Total = num5 + num6\r\n",
    "    print(Sum_Total)\r\n",
    "def_suma0()\r\n",
    "def_suma1()\r\n",
    "def_suma2()\r\n",
    "# No consigo saber cómo imprimir, no me da error a la hora de lanzar la función, pero no sé cómo debería de salir el resultado\r\n"
   ],
   "outputs": [
    {
     "output_type": "stream",
     "name": "stdout",
     "text": [
      "1\n",
      "7\n",
      "690\n"
     ]
    }
   ],
   "metadata": {}
  },
  {
   "cell_type": "markdown",
   "source": [
    "### Bonus Track"
   ],
   "metadata": {}
  },
  {
   "cell_type": "markdown",
   "source": [
    "2. Write a Python program to convert a tuple of characters into a string.\r\n",
    "\r\n",
    "    - Sample tuple: `(\"T\", \"H\", \"E\", \" \", \"B\", \"R\", \"I\", \"D\", \"G\", \"E\")`\r\n",
    "    - Expected output : `\"THE BRIDGE\"`\r\n",
    "    \r\n",
    "Hint: Turn it into a list. "
   ],
   "metadata": {}
  },
  {
   "cell_type": "code",
   "execution_count": 78,
   "source": [
    "Sample_tuple = (\"T\", \"H\", \"E\", \" \", \"B\", \"R\", \"I\", \"D\", \"G\", \"E\")\r\n",
    "Sample_list = list(Sample_tuple)\r\n",
    "print(Sample_list)\r\n",
    "len(Sample_list)\r\n",
    "type(Sample_list[1])\r\n",
    "\r\n"
   ],
   "outputs": [
    {
     "output_type": "stream",
     "name": "stdout",
     "text": [
      "['T', 'H', 'E', ' ', 'B', 'R', 'I', 'D', 'G', 'E']\n"
     ]
    },
    {
     "output_type": "execute_result",
     "data": {
      "text/plain": [
       "str"
      ]
     },
     "metadata": {},
     "execution_count": 78
    }
   ],
   "metadata": {}
  },
  {
   "cell_type": "markdown",
   "source": [
    "3. Write a Python program to generate a list where the values are square of numbers between 1 and 30 (both included), and return a list of first and last 5 elements of the list."
   ],
   "metadata": {}
  },
  {
   "cell_type": "code",
   "execution_count": null,
   "source": [],
   "outputs": [],
   "metadata": {}
  },
  {
   "cell_type": "markdown",
   "source": [
    "4. Create a program that calculates the average.\n",
    "\n",
    "The program will ask the user to specify how many numbers you want to enter, and will show a prompt to include number by number to a list, and then calculate the average of each number in that list."
   ],
   "metadata": {}
  },
  {
   "cell_type": "code",
   "execution_count": null,
   "source": [],
   "outputs": [],
   "metadata": {}
  },
  {
   "cell_type": "markdown",
   "source": [
    "# If you made it till here you did a fantastic work!"
   ],
   "metadata": {}
  },
  {
   "cell_type": "markdown",
   "source": [
    "![\"holo\"](https://img-9gag-fun.9cache.com/photo/aNg9wMK_460s.jpg)"
   ],
   "metadata": {}
  },
  {
   "cell_type": "code",
   "execution_count": null,
   "source": [],
   "outputs": [],
   "metadata": {}
  }
 ],
 "metadata": {
  "kernelspec": {
   "name": "python3",
   "display_name": "Python 3.7.4 64-bit"
  },
  "language_info": {
   "codemirror_mode": {
    "name": "ipython",
    "version": 3
   },
   "file_extension": ".py",
   "mimetype": "text/x-python",
   "name": "python",
   "nbconvert_exporter": "python",
   "pygments_lexer": "ipython3",
   "version": "3.7.4"
  },
  "interpreter": {
   "hash": "c24a7c41beaaeed806d6a6952b3b4f7375fae7924f19eb99401d49cba6e7526b"
  }
 },
 "nbformat": 4,
 "nbformat_minor": 4
}