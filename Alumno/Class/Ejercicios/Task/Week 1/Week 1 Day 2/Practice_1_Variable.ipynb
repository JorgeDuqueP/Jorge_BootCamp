{
  "nbformat": 4,
  "nbformat_minor": 2,
  "metadata": {
    "kernelspec": {
      "name": "python3",
      "display_name": "Python 3.7.4 64-bit"
    },
    "language_info": {
      "codemirror_mode": {
        "name": "ipython",
        "version": 3
      },
      "file_extension": ".py",
      "mimetype": "text/x-python",
      "name": "python",
      "nbconvert_exporter": "python",
      "pygments_lexer": "ipython3",
      "version": "3.7.4"
    },
    "colab": {
      "name": "Practice_1_Variable.ipynb",
      "provenance": []
    },
    "interpreter": {
      "hash": "c24a7c41beaaeed806d6a6952b3b4f7375fae7924f19eb99401d49cba6e7526b"
    }
  },
  "cells": [
    {
      "cell_type": "markdown",
      "source": [
        "# Python | day 1 | variables"
      ],
      "metadata": {
        "id": "3bW7AX20AteA"
      }
    },
    {
      "cell_type": "markdown",
      "source": [
        "Variables are nothing but reserved memory locations to store values. This means that when you create a variable you reserve some space in memory.\n",
        "\n",
        "Based on the data type of a variable, the interpreter allocates memory and decides what can be stored in the reserved memory. Therefore, by assigning different data types to variables, you can store integers, decimals or characters in these variables."
      ],
      "metadata": {
        "id": "gGRo0VD1AteD"
      }
    },
    {
      "cell_type": "markdown",
      "source": [
        "### Exercise 1.\n",
        "\n",
        "1. Write a python comment saying _'My very first python code:'_"
      ],
      "metadata": {
        "id": "F1m6hatEAteE"
      }
    },
    {
      "cell_type": "code",
      "execution_count": 1,
      "source": [
        "print(\"My very first python code.\")"
      ],
      "outputs": [
        {
          "output_type": "stream",
          "name": "stdout",
          "text": [
            "My very first python code.\n"
          ]
        }
      ],
      "metadata": {
        "id": "fJNHfn0ZAteF"
      }
    },
    {
      "cell_type": "markdown",
      "source": [
        "2. Declare a **first name** variable and assign a value to it\n"
      ],
      "metadata": {
        "id": "fU7lE9SHAteG"
      }
    },
    {
      "cell_type": "code",
      "execution_count": 2,
      "source": [
        "x = \"first name\"\r\n",
        "print(x)\r\n",
        "type(x)"
      ],
      "outputs": [
        {
          "output_type": "stream",
          "name": "stdout",
          "text": [
            "first name\n"
          ]
        },
        {
          "output_type": "execute_result",
          "data": {
            "text/plain": [
              "str"
            ]
          },
          "metadata": {},
          "execution_count": 2
        }
      ],
      "metadata": {
        "id": "iKuQ45w3AteG"
      }
    },
    {
      "cell_type": "code",
      "execution_count": 5,
      "source": [
        "x = \"Jorge\"\r\n",
        "print(x)\r\n",
        "type(x)"
      ],
      "outputs": [
        {
          "output_type": "stream",
          "name": "stdout",
          "text": [
            "Jorge\n"
          ]
        },
        {
          "output_type": "execute_result",
          "data": {
            "text/plain": [
              "str"
            ]
          },
          "metadata": {},
          "execution_count": 5
        }
      ],
      "metadata": {}
    },
    {
      "cell_type": "markdown",
      "source": [
        "3. Declare a **last name** variable and assign a value to it\n"
      ],
      "metadata": {
        "id": "dsv7XDmrAteH"
      }
    },
    {
      "cell_type": "code",
      "execution_count": 3,
      "source": [
        "y = \"last name\"\r\n",
        "print(y)\r\n",
        "type(y)"
      ],
      "outputs": [
        {
          "output_type": "stream",
          "name": "stdout",
          "text": [
            "last name\n"
          ]
        },
        {
          "output_type": "execute_result",
          "data": {
            "text/plain": [
              "str"
            ]
          },
          "metadata": {},
          "execution_count": 3
        }
      ],
      "metadata": {
        "id": "d4jh7UW0AteI"
      }
    },
    {
      "cell_type": "code",
      "execution_count": 21,
      "source": [
        "y = \"Antonio\"\r\n",
        "print(y)\r\n",
        "type(y)"
      ],
      "outputs": [
        {
          "output_type": "stream",
          "name": "stdout",
          "text": [
            "Antonio\n"
          ]
        },
        {
          "output_type": "execute_result",
          "data": {
            "text/plain": [
              "str"
            ]
          },
          "metadata": {},
          "execution_count": 21
        }
      ],
      "metadata": {}
    },
    {
      "cell_type": "markdown",
      "source": [
        "4. Declare a **full name** variable and assign a value to it\n"
      ],
      "metadata": {
        "id": "GtvHIVdlAteI"
      }
    },
    {
      "cell_type": "code",
      "execution_count": 4,
      "source": [
        "z = \"full name\"\r\n",
        "print(z)\r\n",
        "type(z)"
      ],
      "outputs": [
        {
          "output_type": "stream",
          "name": "stdout",
          "text": [
            "full name\n"
          ]
        },
        {
          "output_type": "execute_result",
          "data": {
            "text/plain": [
              "str"
            ]
          },
          "metadata": {},
          "execution_count": 4
        }
      ],
      "metadata": {
        "id": "vhH6d4-aAteJ"
      }
    },
    {
      "cell_type": "code",
      "execution_count": 7,
      "source": [
        "z = \"Jorge Antonio\"\r\n",
        "print(z)\r\n",
        "type(z)"
      ],
      "outputs": [
        {
          "output_type": "stream",
          "name": "stdout",
          "text": [
            "Jorge Antonio\n"
          ]
        },
        {
          "output_type": "execute_result",
          "data": {
            "text/plain": [
              "str"
            ]
          },
          "metadata": {},
          "execution_count": 7
        }
      ],
      "metadata": {}
    },
    {
      "cell_type": "markdown",
      "source": [
        "5. Declare a **country** variable and assign a value to it"
      ],
      "metadata": {
        "id": "YMABRrvEAteJ"
      }
    },
    {
      "cell_type": "code",
      "execution_count": 8,
      "source": [
        "t = \"España\"\r\n",
        "print(t)\r\n",
        "type(t)"
      ],
      "outputs": [
        {
          "output_type": "stream",
          "name": "stdout",
          "text": [
            "España\n"
          ]
        },
        {
          "output_type": "execute_result",
          "data": {
            "text/plain": [
              "str"
            ]
          },
          "metadata": {},
          "execution_count": 8
        }
      ],
      "metadata": {
        "id": "G0xJl-oKAteK"
      }
    },
    {
      "cell_type": "markdown",
      "source": [
        "6. Declare a **city** variable and assign a value to it"
      ],
      "metadata": {
        "id": "8oIH6bw0AteK"
      }
    },
    {
      "cell_type": "code",
      "execution_count": 9,
      "source": [
        "c = \"Madrid\"\r\n",
        "print(c)\r\n",
        "type(c)"
      ],
      "outputs": [
        {
          "output_type": "stream",
          "name": "stdout",
          "text": [
            "Madrid\n"
          ]
        },
        {
          "output_type": "execute_result",
          "data": {
            "text/plain": [
              "str"
            ]
          },
          "metadata": {},
          "execution_count": 9
        }
      ],
      "metadata": {
        "id": "Kr01dzDuAteK"
      }
    },
    {
      "cell_type": "markdown",
      "source": [
        "7. Declare an **age** variable and assign a value to it"
      ],
      "metadata": {
        "id": "1qnRCImDAteL"
      }
    },
    {
      "cell_type": "code",
      "execution_count": 10,
      "source": [
        "a = 45\r\n",
        "print(a)\r\n",
        "type(a)"
      ],
      "outputs": [
        {
          "output_type": "stream",
          "name": "stdout",
          "text": [
            "45\n"
          ]
        },
        {
          "output_type": "execute_result",
          "data": {
            "text/plain": [
              "int"
            ]
          },
          "metadata": {},
          "execution_count": 10
        }
      ],
      "metadata": {
        "id": "ziYjcY7LAteL"
      }
    },
    {
      "cell_type": "markdown",
      "source": [
        "8. Declare a **year** variable and assign a value to it"
      ],
      "metadata": {
        "id": "seVq6hmkAteL"
      }
    },
    {
      "cell_type": "code",
      "execution_count": 11,
      "source": [
        "v = 2021\r\n",
        "print(v)\r\n",
        "type(v)"
      ],
      "outputs": [
        {
          "output_type": "stream",
          "name": "stdout",
          "text": [
            "2021\n"
          ]
        },
        {
          "output_type": "execute_result",
          "data": {
            "text/plain": [
              "int"
            ]
          },
          "metadata": {},
          "execution_count": 11
        }
      ],
      "metadata": {
        "id": "aJIpnZXiAteM"
      }
    },
    {
      "cell_type": "markdown",
      "source": [
        "9. Declare a variable **is_married** and assign a value to it"
      ],
      "metadata": {
        "id": "MpTndnqJAteM"
      }
    },
    {
      "cell_type": "code",
      "execution_count": 12,
      "source": [
        "is_married = 2\r\n",
        "print(is_married)\r\n",
        "type(is_married)"
      ],
      "outputs": [
        {
          "output_type": "stream",
          "name": "stdout",
          "text": [
            "2\n"
          ]
        },
        {
          "output_type": "execute_result",
          "data": {
            "text/plain": [
              "int"
            ]
          },
          "metadata": {},
          "execution_count": 12
        }
      ],
      "metadata": {
        "id": "HJQ-jSrUAteM"
      }
    },
    {
      "cell_type": "markdown",
      "source": [
        "10. Declare a variable **is_true** and assign a value to it"
      ],
      "metadata": {
        "id": "k03o9vMBAteM"
      }
    },
    {
      "cell_type": "code",
      "execution_count": 13,
      "source": [
        "is_true = 0\r\n",
        "print(is_true)\r\n",
        "type(is_true)"
      ],
      "outputs": [
        {
          "output_type": "stream",
          "name": "stdout",
          "text": [
            "0\n"
          ]
        },
        {
          "output_type": "execute_result",
          "data": {
            "text/plain": [
              "int"
            ]
          },
          "metadata": {},
          "execution_count": 13
        }
      ],
      "metadata": {
        "id": "_8orcyCUAteM"
      }
    },
    {
      "cell_type": "markdown",
      "source": [
        "11. Declare a variable **is_light_on** and assign a value to it"
      ],
      "metadata": {
        "id": "BHKgyzFbAteN"
      }
    },
    {
      "cell_type": "code",
      "execution_count": 14,
      "source": [
        "is_light = 100\r\n",
        "print(is_light)\r\n",
        "type(is_light)"
      ],
      "outputs": [
        {
          "output_type": "stream",
          "name": "stdout",
          "text": [
            "100\n"
          ]
        },
        {
          "output_type": "execute_result",
          "data": {
            "text/plain": [
              "int"
            ]
          },
          "metadata": {},
          "execution_count": 14
        }
      ],
      "metadata": {
        "id": "oFZbX-1pAteN"
      }
    },
    {
      "cell_type": "markdown",
      "source": [
        "## Exercise 2. \n",
        "\n",
        "1. Check the data type of all your variables using `type()` built-in function\n"
      ],
      "metadata": {
        "id": "E5MdrEonAteN"
      }
    },
    {
      "cell_type": "code",
      "execution_count": 15,
      "source": [
        "type(x)\r\n",
        "type(z)\r\n",
        "type(y)\r\n",
        "type(a)\r\n",
        "type(v)\r\n",
        "type(c)\r\n",
        "type(t)\r\n",
        "type(is_light)\r\n",
        "type(is_true)\r\n",
        "type(is_married)\r\n"
      ],
      "outputs": [
        {
          "output_type": "execute_result",
          "data": {
            "text/plain": [
              "int"
            ]
          },
          "metadata": {},
          "execution_count": 15
        }
      ],
      "metadata": {
        "id": "J9zI0FRJAteN"
      }
    },
    {
      "cell_type": "markdown",
      "source": [
        "Turn the variable **age**, which should be *integer*, into type *float*. This action is known as cast a variable."
      ],
      "metadata": {
        "id": "j4xkd-krAteN"
      }
    },
    {
      "cell_type": "code",
      "execution_count": 16,
      "source": [
        "a = float(a)\r\n",
        "type(a)"
      ],
      "outputs": [
        {
          "output_type": "execute_result",
          "data": {
            "text/plain": [
              "float"
            ]
          },
          "metadata": {},
          "execution_count": 16
        }
      ],
      "metadata": {
        "id": "NJtaVwkkAteN"
      }
    },
    {
      "cell_type": "markdown",
      "source": [
        "2. Using the `len()` built-in function find the length of your first name\n"
      ],
      "metadata": {
        "id": "xc96caDrAteN"
      }
    },
    {
      "cell_type": "code",
      "execution_count": 18,
      "source": [
        "len(x)"
      ],
      "outputs": [
        {
          "output_type": "execute_result",
          "data": {
            "text/plain": [
              "5"
            ]
          },
          "metadata": {},
          "execution_count": 18
        }
      ],
      "metadata": {
        "id": "0ayUUVm6AteO"
      }
    },
    {
      "cell_type": "markdown",
      "source": [
        "3. Compare the length of your first name and your last name\n"
      ],
      "metadata": {
        "id": "ZzmfvWDMAteO"
      }
    },
    {
      "cell_type": "code",
      "execution_count": 20,
      "source": [
        "len(x)\r\n",
        "\r\n",
        "len(y)"
      ],
      "outputs": [
        {
          "output_type": "execute_result",
          "data": {
            "text/plain": [
              "7"
            ]
          },
          "metadata": {},
          "execution_count": 20
        }
      ],
      "metadata": {
        "id": "MTO30UOfAteO"
      }
    },
    {
      "cell_type": "code",
      "execution_count": 25,
      "source": [
        "len(x); len(y)"
      ],
      "outputs": [
        {
          "output_type": "execute_result",
          "data": {
            "text/plain": [
              "7"
            ]
          },
          "metadata": {},
          "execution_count": 25
        }
      ],
      "metadata": {}
    },
    {
      "cell_type": "code",
      "execution_count": 27,
      "source": [
        "print(len(x))\r\n",
        "print(len(y))"
      ],
      "outputs": [
        {
          "output_type": "stream",
          "name": "stdout",
          "text": [
            "5\n",
            "7\n"
          ]
        }
      ],
      "metadata": {}
    },
    {
      "cell_type": "markdown",
      "source": [
        "4. Declare 5 as **num_one** and 4 as **num_two**\n"
      ],
      "metadata": {
        "id": "FEJigYVAAteO"
      }
    },
    {
      "cell_type": "code",
      "execution_count": 28,
      "source": [
        "num_one = 5\r\n",
        "num_two = 4"
      ],
      "outputs": [],
      "metadata": {
        "id": "SDMBmtw2AteO"
      }
    },
    {
      "cell_type": "markdown",
      "source": [
        "5. Add **num_one** and **num_two** and assign the value to a variable **_total**\n"
      ],
      "metadata": {
        "id": "3nJhU3kqAteO"
      }
    },
    {
      "cell_type": "code",
      "execution_count": 31,
      "source": [
        "_total = num_one + num_two\r\n",
        "print(_total)"
      ],
      "outputs": [
        {
          "output_type": "stream",
          "name": "stdout",
          "text": [
            "9\n"
          ]
        }
      ],
      "metadata": {
        "id": "l7o2drh4AteO"
      }
    },
    {
      "cell_type": "markdown",
      "source": [
        "6. Subtract num_two from num_one and assign the value to a variable _diff\n"
      ],
      "metadata": {
        "id": "ctZCK-j0AteO"
      }
    },
    {
      "cell_type": "code",
      "execution_count": 32,
      "source": [
        "variable_diff = num_one - num_two\r\n",
        "print(variable_diff)"
      ],
      "outputs": [
        {
          "output_type": "stream",
          "name": "stdout",
          "text": [
            "1\n"
          ]
        }
      ],
      "metadata": {
        "id": "CwD-_5ZqAteO"
      }
    },
    {
      "cell_type": "code",
      "execution_count": 33,
      "source": [
        "variable_diff = _total - num_one\r\n",
        "print(variable_diff)"
      ],
      "outputs": [
        {
          "output_type": "stream",
          "name": "stdout",
          "text": [
            "4\n"
          ]
        }
      ],
      "metadata": {}
    },
    {
      "cell_type": "markdown",
      "source": [
        "7. Multiply **num_two** and **num_one** and assign the value to a variable **_product**\n"
      ],
      "metadata": {
        "id": "EKpcMxvRAteP"
      }
    },
    {
      "cell_type": "code",
      "execution_count": 34,
      "source": [
        "_product = num_two * num_one\r\n",
        "print(_product)"
      ],
      "outputs": [
        {
          "output_type": "stream",
          "name": "stdout",
          "text": [
            "20\n"
          ]
        }
      ],
      "metadata": {
        "id": "i8Y4uygiAteP"
      }
    },
    {
      "cell_type": "markdown",
      "source": [
        "8. Divide **num_one** by **num_two** and assign the value to a variable **_division**\n"
      ],
      "metadata": {
        "id": "qYrJCIv5AteP"
      }
    },
    {
      "cell_type": "code",
      "execution_count": 35,
      "source": [
        "_division = num_one / num_two\r\n",
        "print(_division)"
      ],
      "outputs": [
        {
          "output_type": "stream",
          "name": "stdout",
          "text": [
            "1.25\n"
          ]
        }
      ],
      "metadata": {
        "id": "FIIGwrFpAteP"
      }
    },
    {
      "cell_type": "markdown",
      "source": [
        "9. Use modulus division to find **num_two** divided by **num_one** and assign the value to a variable **_remainder**\r\n"
      ],
      "metadata": {
        "id": "6Gwz0JNgAteP"
      }
    },
    {
      "cell_type": "code",
      "execution_count": 36,
      "source": [
        "_remainder = num_two % num_one\r\n",
        "print(_remainder)"
      ],
      "outputs": [
        {
          "output_type": "stream",
          "name": "stdout",
          "text": [
            "4\n"
          ]
        }
      ],
      "metadata": {
        "id": "IcDUyDhYAteP"
      }
    },
    {
      "cell_type": "markdown",
      "source": [
        "10. Calculate **num_one** to the power of **num_two** and assign the value to variable **_exp**\r\n"
      ],
      "metadata": {
        "id": "D4GM82xHAteP"
      }
    },
    {
      "cell_type": "code",
      "execution_count": 37,
      "source": [
        "_exp = num_one**num_two\r\n",
        "print(_exp)"
      ],
      "outputs": [
        {
          "output_type": "stream",
          "name": "stdout",
          "text": [
            "625\n"
          ]
        }
      ],
      "metadata": {
        "id": "909h35PdAteP"
      }
    },
    {
      "cell_type": "markdown",
      "source": [
        "11. Find floor division of **num_one** by **num_two** and assign the value to a variable **_floor_division**\n"
      ],
      "metadata": {
        "id": "iQOVa4jSAteP"
      }
    },
    {
      "cell_type": "code",
      "execution_count": 38,
      "source": [
        "_floor_division = num_one // num_two\r\n",
        "print(_floor_division)"
      ],
      "outputs": [
        {
          "output_type": "stream",
          "name": "stdout",
          "text": [
            "1\n"
          ]
        }
      ],
      "metadata": {
        "id": "CsNrlKgZAteQ"
      }
    },
    {
      "cell_type": "markdown",
      "source": [
        "## Bonus track. "
      ],
      "metadata": {
        "id": "-_LOyRYSAteQ"
      }
    },
    {
      "cell_type": "markdown",
      "source": [
        "12. The radius of a circle is 30 meters. \n",
        "    Calculate the area of a circle and assign the value to a variable **area_of_circle**"
      ],
      "metadata": {
        "id": "MAlMZXRLAteQ"
      }
    },
    {
      "cell_type": "code",
      "execution_count": 9,
      "source": [
        "import math\r\n",
        "r=float(input(\"Ingrese el radio:\"))"
      ],
      "outputs": [
        {
          "output_type": "error",
          "ename": "ValueError",
          "evalue": "could not convert string to float: ",
          "traceback": [
            "\u001b[1;31m---------------------------------------------------------------------------\u001b[0m",
            "\u001b[1;31mValueError\u001b[0m                                Traceback (most recent call last)",
            "\u001b[1;32m~\\AppData\\Local\\Temp/ipykernel_6472/3246817028.py\u001b[0m in \u001b[0;36m<module>\u001b[1;34m\u001b[0m\n\u001b[0;32m      1\u001b[0m \u001b[1;32mimport\u001b[0m \u001b[0mmath\u001b[0m\u001b[1;33m\u001b[0m\u001b[1;33m\u001b[0m\u001b[0m\n\u001b[1;32m----> 2\u001b[1;33m \u001b[0mr\u001b[0m\u001b[1;33m=\u001b[0m\u001b[0mfloat\u001b[0m\u001b[1;33m(\u001b[0m\u001b[0minput\u001b[0m\u001b[1;33m(\u001b[0m\u001b[1;34m\"Ingrese el radio:\"\u001b[0m\u001b[1;33m)\u001b[0m\u001b[1;33m)\u001b[0m\u001b[1;33m\u001b[0m\u001b[1;33m\u001b[0m\u001b[0m\n\u001b[0m",
            "\u001b[1;31mValueError\u001b[0m: could not convert string to float: "
          ]
        }
      ],
      "metadata": {
        "id": "iSMI_IiCAteQ"
      }
    },
    {
      "cell_type": "markdown",
      "source": [
        "13. Calculate the circumference of a circle and assign the value to a variable **circum_of_circle**\n"
      ],
      "metadata": {
        "id": "7YwIVZOyAteQ"
      }
    },
    {
      "cell_type": "code",
      "execution_count": null,
      "source": [],
      "outputs": [],
      "metadata": {
        "id": "N4Ox3PnyAteQ"
      }
    },
    {
      "cell_type": "markdown",
      "source": [
        "14. Take radius as user input and calculate the area.\n"
      ],
      "metadata": {
        "id": "ry8uLLqUAteQ"
      }
    },
    {
      "cell_type": "code",
      "execution_count": null,
      "source": [],
      "outputs": [],
      "metadata": {
        "id": "qY5qTjCuAteQ"
      }
    },
    {
      "cell_type": "markdown",
      "source": [
        "15. Use the built-in input function to get first name, last name, country and age from a user and store the value to their corresponding variable names\n"
      ],
      "metadata": {
        "id": "VTP9LycvAteR"
      }
    },
    {
      "cell_type": "code",
      "execution_count": null,
      "source": [],
      "outputs": [],
      "metadata": {
        "id": "Y5bUNK9RAteR"
      }
    },
    {
      "cell_type": "markdown",
      "source": [
        "16. What is a reserved word in Python? Run `help('keywords')` to check for the reserved words. "
      ],
      "metadata": {
        "id": "-ePl0ESaAteR"
      }
    },
    {
      "cell_type": "code",
      "execution_count": null,
      "source": [],
      "outputs": [],
      "metadata": {
        "id": "Beef1WI6AteR"
      }
    },
    {
      "cell_type": "markdown",
      "source": [
        "**Well done!**"
      ],
      "metadata": {
        "id": "j_U0E7-LAteR"
      }
    },
    {
      "cell_type": "markdown",
      "source": [
        "![h](https://i.pinimg.com/originals/11/b4/20/11b420fbf1595be3056ad6355277933c.jpg)"
      ],
      "metadata": {
        "id": "plyqbvSMAteR"
      }
    },
    {
      "cell_type": "code",
      "execution_count": null,
      "source": [],
      "outputs": [],
      "metadata": {
        "id": "3so90FHBAteR"
      }
    }
  ]
}