{
  "nbformat": 4,
  "nbformat_minor": 2,
  "metadata": {
    "kernelspec": {
      "name": "python3",
      "display_name": "Python 3.7.4 64-bit"
    },
    "language_info": {
      "codemirror_mode": {
        "name": "ipython",
        "version": 3
      },
      "file_extension": ".py",
      "mimetype": "text/x-python",
      "name": "python",
      "nbconvert_exporter": "python",
      "pygments_lexer": "ipython3",
      "version": "3.7.4"
    },
    "colab": {
      "name": "Practice_5_functions.ipynb",
      "provenance": []
    },
    "interpreter": {
      "hash": "c24a7c41beaaeed806d6a6952b3b4f7375fae7924f19eb99401d49cba6e7526b"
    }
  },
  "cells": [
    {
      "cell_type": "markdown",
      "source": [
        "# Python | day 5 | functions"
      ],
      "metadata": {
        "id": "z0h_TBcgyjnL"
      }
    },
    {
      "cell_type": "markdown",
      "source": [
        "In Python, a function is a group of related statements that performs a specific task."
      ],
      "metadata": {
        "id": "Qc4DxvxLyjnQ"
      }
    },
    {
      "cell_type": "markdown",
      "source": [
        "https://www.programiz.com/python-programming/function"
      ],
      "metadata": {
        "id": "QVj0UhPzyjnQ"
      }
    },
    {
      "cell_type": "markdown",
      "source": [
        "#### Difference between `return` and `print`.\n",
        "\n",
        "Take some minutes to understand the difference between `return` and `print`, it seems to be the same, but they are not and it's important you understand the difference. "
      ],
      "metadata": {
        "id": "gLLitNf4yjnQ"
      }
    },
    {
      "cell_type": "code",
      "execution_count": 1,
      "source": [
        "def suma(a,b):\r\n",
        "    print(a)\r\n",
        "    return a+b\r\n",
        "\r\n",
        "print(suma(suma(2,2),4))"
      ],
      "outputs": [
        {
          "output_type": "stream",
          "name": "stdout",
          "text": [
            "2\n",
            "4\n",
            "8\n"
          ]
        }
      ],
      "metadata": {
        "id": "ciz6XowvyjnR"
      }
    },
    {
      "cell_type": "markdown",
      "source": [
        "#### Comments in a function."
      ],
      "metadata": {
        "id": "laG0X4QFyjnR"
      }
    },
    {
      "cell_type": "code",
      "execution_count": 2,
      "source": [
        "def say_hello(name):\r\n",
        "    \"\"\"\r\n",
        "    Given a name as an argument, \r\n",
        "    the function return a string greeting\r\n",
        "    the name given. \r\n",
        "    \"\"\"\r\n",
        "    return f\"hello {name}\"\r\n",
        "name = \"Jorge\"\r\n",
        "print(say_hello(name))\r\n"
      ],
      "outputs": [
        {
          "output_type": "stream",
          "name": "stdout",
          "text": [
            "hello Jorge\n"
          ]
        }
      ],
      "metadata": {
        "id": "7uuip_j8yjnR"
      }
    },
    {
      "cell_type": "code",
      "execution_count": 3,
      "source": [
        "print(say_hello(\"Clara\"))"
      ],
      "outputs": [
        {
          "output_type": "stream",
          "name": "stdout",
          "text": [
            "hello Clara\n"
          ]
        }
      ],
      "metadata": {
        "id": "xMWO6YZkyjnS"
      }
    },
    {
      "cell_type": "code",
      "execution_count": 4,
      "source": [
        "help(say_hello)"
      ],
      "outputs": [
        {
          "output_type": "stream",
          "name": "stdout",
          "text": [
            "Help on function say_hello in module __main__:\n",
            "\n",
            "say_hello(name)\n",
            "    Given a name as an argument, \n",
            "    the function return a string greeting\n",
            "    the name given.\n",
            "\n"
          ]
        }
      ],
      "metadata": {
        "id": "_NiFxpAIyjnS"
      }
    },
    {
      "cell_type": "markdown",
      "source": [
        "### Exercise 1. "
      ],
      "metadata": {
        "id": "FKBd1gzNyjnS"
      }
    },
    {
      "cell_type": "markdown",
      "source": [
        "To solve the following exercises it will be necessary to define a function for each section. You choose the name of those functions unless specified, but make sure you define a single parameter `whichever_list`, when calling the function it will correspond to the variable `info_list`.\r\n",
        "```python\r\n",
        "def funtion_bla(whichever_list):\r\n",
        "    return whichever_list\r\n",
        "\r\n",
        "function_bla(info_list)\r\n",
        "```\r\n",
        "\r\n",
        "**In the case of not being able to solve a question containing the code in a function, try to do it without defining one.**"
      ],
      "metadata": {
        "id": "WUCm55jmyjnS"
      }
    },
    {
      "cell_type": "code",
      "execution_count": 45,
      "source": [
        "# you can use this list or take yours from Practice 3\r\n",
        "info_list = [15, 'Recoletos', True, ['Recoletos', 15],  None, '8'] \r\n"
      ],
      "outputs": [],
      "metadata": {
        "id": "QYwz6vT2yjnT"
      }
    },
    {
      "cell_type": "markdown",
      "source": [
        "1. Display on the screen `\"I like the tranquility\"` if you like the mountains more and `\"I'd love to live in Malaga\"` if you like the beach more.\r\n",
        "\r\n"
      ],
      "metadata": {
        "id": "10HNoO_KyjnT"
      }
    },
    {
      "cell_type": "code",
      "execution_count": 194,
      "source": [
        "#define a function which takes a single parameter `whichever_list`\r\n",
        "choose_list = [\"I like the tranquility\",\"I'd love to live in Malaga\"]\r\n",
        "m = choose_list\r\n",
        "def function_jorge():\r\n",
        "    return m\r\n",
        "function_jorge()\r\n"
      ],
      "outputs": [
        {
          "output_type": "execute_result",
          "data": {
            "text/plain": [
              "['I like the tranquility', \"I'd love to live in Malaga\"]"
            ]
          },
          "metadata": {},
          "execution_count": 194
        }
      ],
      "metadata": {
        "id": "pKTD8ZbGyjnT"
      }
    },
    {
      "cell_type": "code",
      "execution_count": 196,
      "source": [
        "#call the function with the variable `info_list`\r\n",
        "info_list = [15, 'Recoletos', True, ['Recoletos', 15],  None, '8']\r\n",
        "m = info_list \r\n",
        "function_jorge()  "
      ],
      "outputs": [
        {
          "output_type": "execute_result",
          "data": {
            "text/plain": [
              "[15, 'Recoletos', True, ['Recoletos', 15], None, '8']"
            ]
          },
          "metadata": {},
          "execution_count": 196
        }
      ],
      "metadata": {
        "id": "cJt7OIMNyjnT"
      }
    },
    {
      "cell_type": "markdown",
      "source": [
        "2. Print `\"Today I am tired\"` if you have slept less than 7 hours or `\"Today I conquer the world\"` if you have slept more than 7 hours."
      ],
      "metadata": {
        "id": "7mHWLO02yjnT"
      }
    },
    {
      "cell_type": "code",
      "execution_count": 67,
      "source": [
        "#define a function which takes a single parameter `whichever_list`\r\n",
        "sleep_list = [\"Today I am tired\", \"Today I conquer the world\"]\r\n",
        "n = sleep_list\r\n",
        "def f_sleep():\r\n",
        "    hours = int(input(\"Enter sleep hour:\"))\r\n",
        "    if hours < 7:\r\n",
        "        print(n[0])\r\n",
        "    else:\r\n",
        "        print(n[1]) \r\n",
        "f_sleep()"
      ],
      "outputs": [
        {
          "output_type": "stream",
          "name": "stdout",
          "text": [
            "Today I conquer the world\n"
          ]
        }
      ],
      "metadata": {
        "id": "yvrnG1wbyjnU"
      }
    },
    {
      "cell_type": "code",
      "execution_count": 104,
      "source": [
        "#call the function with the variable `info_list`\r\n",
        "info_list = [15, 'Recoletos', True, ['Recoletos', 15],  None, '8'] \r\n",
        "x = info_list\r\n",
        "def f_sleep(param=info_list):\r\n",
        "    hours = int(input(\"Enter sleep hour:\"))\r\n",
        "    if hours < 7:\r\n",
        "        print(x[0])\r\n",
        "    else:\r\n",
        "        print(x[1]) \r\n",
        "f_sleep(param=info_list)"
      ],
      "outputs": [
        {
          "output_type": "stream",
          "name": "stdout",
          "text": [
            "Recoletos\n"
          ]
        }
      ],
      "metadata": {
        "id": "8fdvl6YRyjnU"
      }
    },
    {
      "cell_type": "markdown",
      "source": [
        "3. Loop through `whichever_list` to print all the elements it contains. This function should return the list turned into a tuple. "
      ],
      "metadata": {
        "id": "ibHHj8TayjnU"
      }
    },
    {
      "cell_type": "code",
      "execution_count": 72,
      "source": [
        "#define a function which takes a single parameter `whichever_list`\r\n",
        "names_list = [\"Tamara\", \"David\", \"Sergio\", \"Alberto\"]\r\n",
        "names_list_tupla = ()\r\n",
        "m = names_list\r\n",
        "def f_names_list():\r\n",
        "    for i in m:\r\n",
        "        print(i)\r\n",
        "        names_list_tupla = tuple(m)\r\n",
        "    print(names_list_tupla)\r\n",
        "f_names_list()"
      ],
      "outputs": [
        {
          "output_type": "stream",
          "name": "stdout",
          "text": [
            "Tamara\n",
            "David\n",
            "Sergio\n",
            "Alberto\n",
            "('Tamara', 'David', 'Sergio', 'Alberto')\n"
          ]
        }
      ],
      "metadata": {
        "id": "upP6GTdiyjnU"
      }
    },
    {
      "cell_type": "code",
      "execution_count": 105,
      "source": [
        "#call the function with the variable `info_list`\r\n",
        "info_list = [15, 'Recoletos', True, ['Recoletos', 15],  None, '8'] \r\n",
        "x = info_list\r\n",
        "def f_names_list(param=x):\r\n",
        "    for i in x:\r\n",
        "        print(i)\r\n",
        "        names_list_tupla = tuple(x)\r\n",
        "    print(names_list_tupla)\r\n",
        "f_names_list(param=x)\r\n"
      ],
      "outputs": [
        {
          "output_type": "stream",
          "name": "stdout",
          "text": [
            "15\n",
            "Recoletos\n",
            "True\n",
            "['Recoletos', 15]\n",
            "None\n",
            "8\n",
            "(15, 'Recoletos', True, ['Recoletos', 15], None, '8')\n"
          ]
        }
      ],
      "metadata": {
        "id": "EwqCNTCKyjnU"
      }
    },
    {
      "cell_type": "markdown",
      "source": [
        "4. Loop through `whichever_list` to print all the elements it contains concatenated with the string` \"--> OK\" `. This function should return a message saying, `\"everything will be ok\"`. \r\n"
      ],
      "metadata": {
        "id": "l5H6l2ZyyjnV"
      }
    },
    {
      "cell_type": "code",
      "execution_count": 86,
      "source": [
        "#define a function which takes a single parameter `whichever_list`\r\n",
        "names_list = [\"Tamara\", \"David\", \"Sergio\", \"Alberto\"]\r\n",
        "m = names_list\r\n",
        "def f_names_list(param=m):\r\n",
        "    for i in m:\r\n",
        "        print(i)\r\n",
        "        print(\"-->OK\")\r\n",
        "    return print(\"everything will be Ok\")\r\n",
        "f_names_list()"
      ],
      "outputs": [
        {
          "output_type": "stream",
          "name": "stdout",
          "text": [
            "Tamara\n",
            "-->OK\n",
            "David\n",
            "-->OK\n",
            "Sergio\n",
            "-->OK\n",
            "Alberto\n",
            "-->OK\n",
            "everything will be Ok\n"
          ]
        }
      ],
      "metadata": {
        "id": "FAY0gj7ryjnV"
      }
    },
    {
      "cell_type": "code",
      "execution_count": 106,
      "source": [
        "#call the function with the variable `info_list`\r\n",
        "info_list = [15, 'Recoletos', True, ['Recoletos', 15],  None, '8'] \r\n",
        "m = info_list\r\n",
        "f_names_list(param=info_list)"
      ],
      "outputs": [
        {
          "output_type": "stream",
          "name": "stdout",
          "text": [
            "15\n",
            "Recoletos\n",
            "True\n",
            "['Recoletos', 15]\n",
            "None\n",
            "8\n",
            "(15, 'Recoletos', True, ['Recoletos', 15], None, '8')\n"
          ]
        }
      ],
      "metadata": {
        "id": "LNEfI_24yjnV"
      }
    },
    {
      "cell_type": "markdown",
      "source": [
        "5. Loop through `whichever_list` to display all items it contains except the first one. This function should return the first element of the list. "
      ],
      "metadata": {
        "id": "DxpN9rhfyjnV"
      }
    },
    {
      "cell_type": "code",
      "execution_count": 132,
      "source": [
        "#define a function which takes a single parameter `whichever_list`\r\n",
        "names_list = [\"Tamara\", \"David\", \"Sergio\", \"Alberto\"]\r\n",
        "v = names_list[0]\r\n",
        "m = names_list\r\n",
        "def d_names_list(param=m):\r\n",
        "    for i in m:\r\n",
        "        if v == m[0]:\r\n",
        "            del m[0]\r\n",
        "    print(m)\r\n",
        "    return m.pop(0)\r\n",
        "d_names_list()"
      ],
      "outputs": [
        {
          "output_type": "stream",
          "name": "stdout",
          "text": [
            "['David', 'Sergio', 'Alberto']\n"
          ]
        },
        {
          "output_type": "execute_result",
          "data": {
            "text/plain": [
              "'David'"
            ]
          },
          "metadata": {},
          "execution_count": 132
        }
      ],
      "metadata": {
        "id": "DCf1kFr6yjnV"
      }
    },
    {
      "cell_type": "code",
      "execution_count": 135,
      "source": [
        "#call the function with the variable `info_list`\r\n",
        "info_list = [15, 'Recoletos', True, ['Recoletos', 15],  None, '8'] \r\n",
        "v = info_list[0]\r\n",
        "m = info_list\r\n",
        "d_names_list(param=m)"
      ],
      "outputs": [
        {
          "output_type": "stream",
          "name": "stdout",
          "text": [
            "['Recoletos', True, ['Recoletos', 15], None, '8']\n"
          ]
        },
        {
          "output_type": "execute_result",
          "data": {
            "text/plain": [
              "'Recoletos'"
            ]
          },
          "metadata": {},
          "execution_count": 135
        }
      ],
      "metadata": {
        "id": "n_Rh7MBSyjnV"
      }
    },
    {
      "cell_type": "markdown",
      "source": [
        "6. Loop through `whichever_list` to display all the items it contains except the last one. This function should return the last element of the list. "
      ],
      "metadata": {
        "id": "sZKj4waFyjnW"
      }
    },
    {
      "cell_type": "code",
      "execution_count": 178,
      "source": [
        "#define a function which takes a single parameter `whichever_list`\r\n",
        "names_list = [\"Tamara\", \"David\", \"Sergio\", \"Alberto\"]\r\n",
        "v = names_list[-1]\r\n",
        "m = names_list\r\n",
        "def d_names_last_list():\r\n",
        "    for i in m:          \r\n",
        "        if i == v:\r\n",
        "            del m[-1]\r\n",
        "    print(m)\r\n",
        "    return m[-1]\r\n",
        "d_names_last_list()\r\n"
      ],
      "outputs": [
        {
          "output_type": "stream",
          "name": "stdout",
          "text": [
            "['Tamara', 'David', 'Sergio']\n"
          ]
        },
        {
          "output_type": "execute_result",
          "data": {
            "text/plain": [
              "'Sergio'"
            ]
          },
          "metadata": {},
          "execution_count": 178
        }
      ],
      "metadata": {
        "id": "_TLl9ZdfyjnW"
      }
    },
    {
      "cell_type": "code",
      "execution_count": 180,
      "source": [
        "#call the function with the variable `info_list`\r\n",
        "info_list = [15, 'Recoletos', True, ['Recoletos', 15],  None, '8'] \r\n",
        "v = info_list[-1]\r\n",
        "m = info_list\r\n",
        "d_names_last_list()\r\n",
        "# No retorna el último valor porque es None, para que apareciera debería de incluirse\r\n",
        "# un print(m[-1])\r\n",
        "print(m[-1])"
      ],
      "outputs": [
        {
          "output_type": "stream",
          "name": "stdout",
          "text": [
            "[15, 'Recoletos', True, ['Recoletos', 15], None]\n",
            "None\n"
          ]
        }
      ],
      "metadata": {
        "id": "CEdnChfCyjnW"
      }
    },
    {
      "cell_type": "markdown",
      "source": [
        "7. Loop through `whichever_list` to show all the elements it contains except the street number and the hours you've slept."
      ],
      "metadata": {
        "id": "m8SziGGMyjnW"
      }
    },
    {
      "cell_type": "code",
      "execution_count": 302,
      "source": [
        "#define a function which takes a single parameter `whichever_list`\r\n",
        "info_list = [15, 'Recoletos', True, ['Recoletos', 15],  None, '8']\r\n",
        "m = info_list\r\n",
        "listm = info_list[3]\r\n",
        "def elements_wo():\r\n",
        "    for i in m:\r\n",
        "        if isinstance(m[1], int) == True:\r\n",
        "            m.remove(m[1])\r\n",
        "        elif isinstance(m[3][0], str) == True:\r\n",
        "            del  i\r\n",
        "        elif isinstance(m[-1], str) == True:\r\n",
        "            del i\r\n",
        "        return m\r\n",
        "elements_wo()\r\n",
        "\r\n"
      ],
      "outputs": [
        {
          "output_type": "execute_result",
          "data": {
            "text/plain": [
              "[15, 'Recoletos', True, ['Recoletos', 15], None, '8']"
            ]
          },
          "metadata": {},
          "execution_count": 302
        }
      ],
      "metadata": {
        "id": "hDdiKd_jyjnW"
      }
    },
    {
      "cell_type": "code",
      "execution_count": 19,
      "source": [
        "#call the function with the variable `info_list`\r\n",
        "\r\n",
        "#No tiene sentido que vuelva a operar con la misma lista\r\n"
      ],
      "outputs": [],
      "metadata": {
        "id": "vJIepStiyjnW"
      }
    },
    {
      "cell_type": "markdown",
      "source": [
        "8. Loop through `whichever_list` to print all the elements it contains except the first element of the list which is in fourth position (`'Recoletos'`). This function should return the lenght of that element. \r\n",
        "\r\n",
        "\r\n",
        "\r\n",
        "Entiendo que sólo debemos de realizar este ejercicio con la lista \r\n",
        "\"info_list\""
      ],
      "metadata": {
        "id": "71f8ubCAyjnX"
      }
    },
    {
      "cell_type": "code",
      "execution_count": 73,
      "source": [
        "#define a function which takes a single parameter `whichever_list` \r\n",
        "info_list = [15, 'Recoletos', True, ['Recoletos', 15],  None, '8']\r\n",
        "m = info_list\r\n",
        "def wo_position():\r\n",
        "    for valor in m:\r\n",
        "        if valor[3][0] == \"Recoletos\": # No sé cómo acceder en este condicional a la posición de una lista dentro de otra lista\r\n",
        "            continue\r\n",
        "        else:\r\n",
        "            print(i)\r\n",
        "    return i([3][0])\r\n",
        "    \r\n",
        "      \r\n",
        "wo_position()\r\n"
      ],
      "outputs": [
        {
          "output_type": "error",
          "ename": "TypeError",
          "evalue": "'int' object is not subscriptable",
          "traceback": [
            "\u001b[1;31m---------------------------------------------------------------------------\u001b[0m",
            "\u001b[1;31mTypeError\u001b[0m                                 Traceback (most recent call last)",
            "\u001b[1;32m~\\AppData\\Local\\Temp/ipykernel_6708/1599254504.py\u001b[0m in \u001b[0;36m<module>\u001b[1;34m\u001b[0m\n\u001b[0;32m     11\u001b[0m \u001b[1;33m\u001b[0m\u001b[0m\n\u001b[0;32m     12\u001b[0m \u001b[1;33m\u001b[0m\u001b[0m\n\u001b[1;32m---> 13\u001b[1;33m \u001b[0mwo_position\u001b[0m\u001b[1;33m(\u001b[0m\u001b[1;33m)\u001b[0m\u001b[1;33m\u001b[0m\u001b[1;33m\u001b[0m\u001b[0m\n\u001b[0m",
            "\u001b[1;32m~\\AppData\\Local\\Temp/ipykernel_6708/1599254504.py\u001b[0m in \u001b[0;36mwo_position\u001b[1;34m()\u001b[0m\n\u001b[0;32m      4\u001b[0m \u001b[1;32mdef\u001b[0m \u001b[0mwo_position\u001b[0m\u001b[1;33m(\u001b[0m\u001b[1;33m)\u001b[0m\u001b[1;33m:\u001b[0m\u001b[1;33m\u001b[0m\u001b[1;33m\u001b[0m\u001b[0m\n\u001b[0;32m      5\u001b[0m     \u001b[1;32mfor\u001b[0m \u001b[0mvalor\u001b[0m \u001b[1;32min\u001b[0m \u001b[0mm\u001b[0m\u001b[1;33m:\u001b[0m\u001b[1;33m\u001b[0m\u001b[1;33m\u001b[0m\u001b[0m\n\u001b[1;32m----> 6\u001b[1;33m         \u001b[1;32mif\u001b[0m \u001b[0mvalor\u001b[0m\u001b[1;33m[\u001b[0m\u001b[1;36m3\u001b[0m\u001b[1;33m]\u001b[0m\u001b[1;33m[\u001b[0m\u001b[1;36m0\u001b[0m\u001b[1;33m]\u001b[0m \u001b[1;33m==\u001b[0m \u001b[1;34m\"Recoletos\"\u001b[0m\u001b[1;33m:\u001b[0m \u001b[1;31m# No sé cómo acceder en este condicional a la posición de una lista dentro de otra lista\u001b[0m\u001b[1;33m\u001b[0m\u001b[1;33m\u001b[0m\u001b[0m\n\u001b[0m\u001b[0;32m      7\u001b[0m             \u001b[1;32mcontinue\u001b[0m\u001b[1;33m\u001b[0m\u001b[1;33m\u001b[0m\u001b[0m\n\u001b[0;32m      8\u001b[0m         \u001b[1;32melse\u001b[0m\u001b[1;33m:\u001b[0m\u001b[1;33m\u001b[0m\u001b[1;33m\u001b[0m\u001b[0m\n",
            "\u001b[1;31mTypeError\u001b[0m: 'int' object is not subscriptable"
          ]
        }
      ],
      "metadata": {
        "id": "FSTgS7BfyjnX"
      }
    },
    {
      "cell_type": "code",
      "execution_count": 21,
      "source": [
        "#call the function with the variable `info_list`\r\n"
      ],
      "outputs": [],
      "metadata": {
        "id": "V7qb71vsyjnX"
      }
    },
    {
      "cell_type": "markdown",
      "source": [
        "9. Loop through `whichever_list` to show all the elements it contains except the one that contains the information about whether you like the mountains or the beach. The function should return a message saying `\"I love the beach\"` if you prefer the beach and a message saying `\"I love the mountain\"` otherwise. "
      ],
      "metadata": {
        "id": "Ksyl3iMhyjnX"
      }
    },
    {
      "cell_type": "code",
      "execution_count": 47,
      "source": [
        "#define a function which takes a single parameter `whichever_list`\r\n",
        "like_mountain = \r\n",
        "m = info_list\r\n",
        "def  personal_choose():\r\n",
        "    for i in m:\r\n",
        "        if i == True:\r\n",
        "            print(\"I love the beach\")\r\n",
        "        elif i == False:\r\n",
        "            print(\"I love the mountain\")\r\n",
        "    return m\r\n",
        "personal_choose()"
      ],
      "outputs": [
        {
          "output_type": "stream",
          "name": "stdout",
          "text": [
            "I love the mountain\n"
          ]
        },
        {
          "output_type": "execute_result",
          "data": {
            "text/plain": [
              "[15, 'Recoletos', False, ['Recoletos', 15], None, '8']"
            ]
          },
          "metadata": {},
          "execution_count": 47
        }
      ],
      "metadata": {
        "id": "hfKwrJ6byjnX"
      }
    },
    {
      "cell_type": "code",
      "execution_count": 23,
      "source": [
        "#call the function with the variable `info_list`\r\n",
        "nfo_list = [15, 'Recoletos', False, ['Recoletos', 15],  None, '8']\r\n",
        "m = info_list\r\n",
        "def  personal_choose():\r\n",
        "    for i in m:\r\n",
        "        if i == True:\r\n",
        "            print(\"I love the beach\")\r\n",
        "        elif i == False:\r\n",
        "            print(\"I love the mountain\")\r\n",
        "    return m\r\n",
        "personal_choose()"
      ],
      "outputs": [],
      "metadata": {
        "id": "W1PPItqryjnX"
      }
    },
    {
      "cell_type": "markdown",
      "source": [
        "### Bonus Track\n",
        "\n",
        "In the case of not being able to solve a question containing the code in a function, try to do it without defining one. "
      ],
      "metadata": {
        "id": "pDJloHtyyjnY"
      }
    },
    {
      "cell_type": "markdown",
      "source": [
        "1. Create a variable called `zone` and give it the value of **None**. Loop through `whichever_list` and update `zone` to **True** if and only if, you have slept more than 7 hours, you like the beach and the sum of the hours you have slept plus the number of The Bridge is less than 24. In any other case, `zone` will be **False**. This function should return the value of `zone` and will be called `zone_function`.\r\n"
      ],
      "metadata": {
        "id": "BYk4bjW5yjnY"
      }
    },
    {
      "cell_type": "code",
      "execution_count": 83,
      "source": [
        "info_list = [15, 'Recoletos', False, ['Recoletos', 15],  None, '8']\r\n",
        "m = info_list\r\n",
        "z = True\r\n",
        "s = (int(m[-1]) + m[0])\r\n",
        "print(s)\r\n",
        "z = zone\r\n",
        "def zone_function():\r\n",
        "    for elem in m:\r\n",
        "        if s < 24 and m[2] == False:\r\n",
        "            m[2] == z\r\n",
        "zone_function()\r\n",
        "print(m)\r\n"
      ],
      "outputs": [
        {
          "output_type": "stream",
          "name": "stdout",
          "text": [
            "23\n",
            "[15, 'Recoletos', False, ['Recoletos', 15], None, '8']\n"
          ]
        }
      ],
      "metadata": {
        "id": "o9slRyMKyjnY"
      }
    },
    {
      "cell_type": "markdown",
      "source": [
        "2. Define a function called `test_function` that receives only one parameter called `zone_value` and that returns the value of `zone_value` if it is **True**. Once you've defined `test_function` you should call it with the value returned by the `zone_function` as an argument."
      ],
      "metadata": {
        "id": "eO3xBi1KyjnY"
      }
    },
    {
      "cell_type": "code",
      "execution_count": 77,
      "source": [
        "zone_value = True\r\n",
        "m = zone_value\r\n",
        "def test_function():\r\n",
        "    if m == True:\r\n",
        "        return m\r\n",
        "test_function()\r\n",
        "    "
      ],
      "outputs": [
        {
          "output_type": "execute_result",
          "data": {
            "text/plain": [
              "True"
            ]
          },
          "metadata": {},
          "execution_count": 77
        }
      ],
      "metadata": {
        "id": "h7V6NJ8iyjnZ"
      }
    },
    {
      "cell_type": "markdown",
      "source": [
        "3. Define a function that asks the user if they like the mountain and, if not, call the `zone_function` function."
      ],
      "metadata": {
        "id": "kbImrhaByjnZ"
      }
    },
    {
      "cell_type": "code",
      "execution_count": 84,
      "source": [
        "like_mountain = \"yes\"\r\n",
        "m = like_mountain\r\n",
        "def l_mountain():\r\n",
        "    if m == \"yes\":\r\n",
        "        print(\"I like mountain\")\r\n",
        "    else:\r\n",
        "        zone_function()"
      ],
      "outputs": [],
      "metadata": {
        "id": "no6jyB7jyjnZ"
      }
    },
    {
      "cell_type": "markdown",
      "source": [
        "### Bonus Track of the Bonus Track.\n",
        "\n",
        "**This Bonus Track could take you some days, it is very ok, sometimes coding is all about time.**\n",
        "\n",
        "Sooner than later, you'll also learn about `.py` files and you will be able to implement this program into that kind of file. Not yet, tho. "
      ],
      "metadata": {
        "id": "M-6DmtXuyjnZ"
      }
    },
    {
      "cell_type": "markdown",
      "source": [
        "1. Program **a calculator** that asks for two numbers and two operators on the screen. One operation must be performed first and then another. Try to define as many functions as possible."
      ],
      "metadata": {
        "id": "o0g4KRlMyjnZ"
      }
    },
    {
      "cell_type": "code",
      "execution_count": null,
      "source": [
        "numberA = int(input(\"Enter numberA:\"))\r\n",
        "operA = input(\"Enter operation:\")\r\n",
        "numberB = int(input(\"Enter numberB:\"))\r\n",
        "oper_list = [\"+\", \"*\", \"-\", \"/\"]\r\n",
        "m = numberA * \r\n",
        "def calc_d():\r\n",
        "    for i in oper_list:\r\n",
        "        if i == \"+\":\r\n",
        "            numberA + numberB\r\n"
      ],
      "outputs": [],
      "metadata": {
        "id": "udVFHHlJyjnZ"
      }
    },
    {
      "cell_type": "markdown",
      "source": [
        "!['ha'](https://i.pinimg.com/originals/c6/4e/fc/c64efc9adaedbf446f328698e8b67388.jpg)"
      ],
      "metadata": {
        "id": "_JypwWQyyjnZ"
      }
    },
    {
      "cell_type": "code",
      "execution_count": null,
      "source": [],
      "outputs": [],
      "metadata": {
        "id": "5uM0SwvVyjna"
      }
    }
  ]
}