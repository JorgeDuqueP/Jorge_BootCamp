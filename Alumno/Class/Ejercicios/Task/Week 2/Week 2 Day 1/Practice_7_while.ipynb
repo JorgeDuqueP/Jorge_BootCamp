{
 "cells": [
  {
   "cell_type": "markdown",
   "source": [
    "# Python | day 6 | while"
   ],
   "metadata": {}
  },
  {
   "cell_type": "markdown",
   "source": [
    "With the **while** loop we can execute a set of statements as long as a condition is true."
   ],
   "metadata": {}
  },
  {
   "cell_type": "markdown",
   "source": [
    "```python\n",
    "i = 1\n",
    "while i < 6:\n",
    "  print(i)\n",
    "  i += 1\n",
    "```"
   ],
   "metadata": {}
  },
  {
   "cell_type": "markdown",
   "source": [
    "https://www.w3schools.com/python/python_while_loops.asp"
   ],
   "metadata": {}
  },
  {
   "cell_type": "markdown",
   "source": [
    "### Exercise 1. "
   ],
   "metadata": {}
  },
  {
   "cell_type": "markdown",
   "source": [
    "Do as described below:\r\n",
    "\r\n",
    "- Make a variable called strength, and set its initial value to 5.\r\n",
    "\r\n",
    "- Print a message reporting the player's strength.\r\n",
    "\r\n",
    "- Set up a while loop that runs until the player's strength increases to a value such as 10.\r\n",
    "\r\n",
    "- Inside the while loop, print a message that reports the player's current strength.\r\n",
    "\r\n",
    "- Inside the while loop, write a statement that increases the player's strength.\r\n",
    "\r\n",
    "- Outside the while loop, print a message reporting that the player has grown too strong, and that they have moved up to a new level of the game.\r\n",
    "\r\n",
    "Play around with different cutoff levels for the value of strength, and play around with different ways to increase the strength value within the while loop.\r\n"
   ],
   "metadata": {}
  },
  {
   "cell_type": "code",
   "execution_count": 10,
   "source": [
    "fuerza = 0\r\n",
    "print(\"Fuerza del jugador:\", fuerza)\r\n",
    "while fuerza < 6:\r\n",
    "    print(\"Fuerza del jugador:\", fuerza)\r\n",
    "    fuerza += 1\r\n",
    "print(\"El jugador ha subido de nivel\")"
   ],
   "outputs": [
    {
     "output_type": "stream",
     "name": "stdout",
     "text": [
      "Fuerza del jugador: 0\n",
      "Fuerza del jugador: 0\n",
      "Fuerza del jugador: 1\n",
      "Fuerza del jugador: 2\n",
      "Fuerza del jugador: 3\n",
      "Fuerza del jugador: 4\n",
      "Fuerza del jugador: 5\n",
      "El jugador ha subido de nivel\n"
     ]
    }
   ],
   "metadata": {}
  },
  {
   "cell_type": "markdown",
   "source": [
    "### Exercise 2. "
   ],
   "metadata": {}
  },
  {
   "cell_type": "markdown",
   "source": [
    "To solve the following exercises it will be necessary to define a function for each section. You choose the name of those functions unless specified, but make sure you define a single parameter `whichever_list`, when calling the function it will correspond to the variable `info_list`."
   ],
   "metadata": {}
  },
  {
   "cell_type": "code",
   "execution_count": 11,
   "source": [
    "# you can use this list or take yours from Practice 3\r\n",
    "info_list = [15, 'Recoletos', True, ['Recoletos', 15],  None, '8'] \r\n",
    "w_list = info_list"
   ],
   "outputs": [],
   "metadata": {}
  },
  {
   "cell_type": "markdown",
   "source": [
    "You have already read these questions below, but this time you are asked to solve it using `while` loop instead of `for`. \r\n",
    "\r\n",
    "   - Loop through `whichever_list` to print all the elements it contains. This function should return the list turned into a tuple. \r\n",
    "   - Loop through `whichever_list` to print all the elements it contains concatenated with the string` \"--> OK\" `. This function should return a message saying, `\"everything will be ok\"`. \r\n",
    "   - Loop through `whichever_list` to display all items it contains except the first one. This function should return the first element of the list. \r\n",
    "   - Loop through `whichever_list` to display all the items it contains except the last one. This function should return the last element of the list. "
   ],
   "metadata": {}
  },
  {
   "cell_type": "code",
   "execution_count": 26,
   "source": [
    "w_list = info_list\r\n",
    "new_list = []\r\n",
    "def f_tupla():\r\n",
    "    contador = 0\r\n",
    "    while contador < len(w_list) and contador >= 0:\r\n",
    "        print(w_list[contador])\r\n",
    "        new_list.append(w_list[contador])\r\n",
    "        contador += 1\r\n",
    "    new_tupla = tuple(new_list)\r\n",
    "    print(new_tupla)\r\n",
    "\r\n",
    "f_tupla()"
   ],
   "outputs": [
    {
     "output_type": "stream",
     "name": "stdout",
     "text": [
      "15\n",
      "Recoletos\n",
      "True\n",
      "['Recoletos', 15]\n",
      "None\n",
      "8\n",
      "(15, 'Recoletos', True, ['Recoletos', 15], None, '8')\n"
     ]
    }
   ],
   "metadata": {}
  },
  {
   "cell_type": "code",
   "execution_count": 32,
   "source": [
    "def f_conca():\r\n",
    "    contador = 0\r\n",
    "    while contador < len(w_list) and contador >= 0:\r\n",
    "        print(w_list[contador], \"--> OK\")\r\n",
    "        contador += 1\r\n",
    "    print(\"Todo estará bien\")\r\n",
    "f_conca()"
   ],
   "outputs": [
    {
     "output_type": "stream",
     "name": "stdout",
     "text": [
      "15 --> OK\n",
      "Recoletos --> OK\n",
      "True --> OK\n",
      "['Recoletos', 15] --> OK\n",
      "None --> OK\n",
      "8 --> OK\n",
      "Todo estará bien\n"
     ]
    }
   ],
   "metadata": {}
  },
  {
   "cell_type": "code",
   "execution_count": 43,
   "source": [
    "def f_wo_st():\r\n",
    "    contador = 0\r\n",
    "    while contador < len(w_list) and contador >= 0:\r\n",
    "        if w_list[contador] != 15 and w_list[contador] == \"Recoletos\":\r\n",
    "            print(w_list[contador])\r\n",
    "        contador += 1\r\n",
    "    print(\"END\")\r\n",
    "f_wo_st()"
   ],
   "outputs": [
    {
     "output_type": "stream",
     "name": "stdout",
     "text": [
      "Recoletos\n",
      "END\n"
     ]
    }
   ],
   "metadata": {}
  },
  {
   "cell_type": "code",
   "execution_count": 42,
   "source": [
    "def f_wo_last():\r\n",
    "    contador = 0\r\n",
    "    while contador < len(w_list) and contador >= 0:\r\n",
    "        if w_list[contador] != \"8\" and w_list[contador] == None:\r\n",
    "            print(w_list[contador])\r\n",
    "        contador += 1\r\n",
    "    print(\"END\")\r\n",
    "f_wo_st()"
   ],
   "outputs": [
    {
     "output_type": "stream",
     "name": "stdout",
     "text": [
      "None\n",
      "END\n"
     ]
    }
   ],
   "metadata": {}
  },
  {
   "cell_type": "code",
   "execution_count": null,
   "source": [],
   "outputs": [],
   "metadata": {}
  },
  {
   "cell_type": "markdown",
   "source": [
    "### Exercise 3. "
   ],
   "metadata": {}
  },
  {
   "cell_type": "markdown",
   "source": [
    "1. Define a function that performs the [Fibonacci series](https://quantdare.com/numeros-de-fibonacci/#:~:text=En%20matem%C3%A1ticas%2C%20la%20sucesi%C3%B3n%20o,nombre%20de%20n%C3%BAmero%20de%20Fibonacci.) with a `while`."
   ],
   "metadata": {}
  },
  {
   "cell_type": "code",
   "execution_count": 46,
   "source": [
    "# Lo he sacado de google\r\n",
    "\r\n",
    "from math import sqrt\r\n",
    "def F(n):\r\n",
    "    return ((1+sqrt(5))**n-(1-sqrt(5))**n)/(2**n*sqrt(5))\r\n",
    "def Fibonacci(startNumber, endNumber):\r\n",
    "    n = 0\r\n",
    "    cur = F(n)\r\n",
    "    while cur <= endNumber:\r\n",
    "        if startNumber <= cur:\r\n",
    "            print(cur)\r\n",
    "        n += 1\r\n",
    "        cur = F(n)\r\n",
    "Fibonacci(1, 100)"
   ],
   "outputs": [
    {
     "output_type": "stream",
     "name": "stdout",
     "text": [
      "1.0\n",
      "1.0\n",
      "2.0\n",
      "3.0000000000000004\n",
      "5.000000000000001\n",
      "8.000000000000002\n",
      "13.000000000000002\n",
      "21.000000000000004\n",
      "34.00000000000001\n",
      "55.000000000000014\n",
      "89.00000000000003\n"
     ]
    }
   ],
   "metadata": {}
  },
  {
   "cell_type": "markdown",
   "source": [
    "### Bonus Track."
   ],
   "metadata": {}
  },
  {
   "cell_type": "markdown",
   "source": [
    "To solve the following exercises it will be necessary to define a function for each section. You choose the name of those functions unless specified, but make sure you define a single parameter `whichever_list`, when calling the function it will correspond to the variable `info_list`."
   ],
   "metadata": {}
  },
  {
   "cell_type": "code",
   "execution_count": 43,
   "source": [
    "# you can use this list or take yours from Practice 3\r\n",
    "info_list = [15, 'Recoletos', True, ['Recoletos', 15],  None, '8', 28] "
   ],
   "outputs": [],
   "metadata": {}
  },
  {
   "cell_type": "markdown",
   "source": [
    "1. Define a function `f_s` that saves the value of a word (for example: \"nothing\") in a variable and print it. Also, concatenate its value with the street number of The Bridge and display it on the screen. \r\n",
    "\r\n",
    "   Also, display a boolean **True** if the length of the concatenated word is 6. If not, it will be **False**. The function must return the value **True** or **False**."
   ],
   "metadata": {}
  },
  {
   "cell_type": "code",
   "execution_count": 44,
   "source": [
    "wichever_list = info_list\r\n",
    "\r\n",
    "def f_s(wichever_list, word):\r\n",
    "    \r\n",
    "    word = \"Nada\"\r\n",
    "    print(word)\r\n",
    "    z = word + str(wichever_list[0])\r\n",
    "    print(z)\r\n",
    "    return len(z) == 6\r\n",
    "f_s(wichever_list=info_list, word=\"Juan\")\r\n",
    "\r\n"
   ],
   "outputs": [
    {
     "output_type": "stream",
     "name": "stdout",
     "text": [
      "Nada\n",
      "Nada15\n"
     ]
    },
    {
     "output_type": "execute_result",
     "data": {
      "text/plain": [
       "True"
      ]
     },
     "metadata": {},
     "execution_count": 44
    }
   ],
   "metadata": {}
  },
  {
   "cell_type": "code",
   "execution_count": null,
   "source": [],
   "outputs": [],
   "metadata": {}
  },
  {
   "cell_type": "markdown",
   "source": [
    "2. Create a list `list_aux` with 7 elements, whichever you want. Next, create a function `function_use_f_s` which receives as parameters a function `some_function`, a word which is the argument of `some_funtion` and whichever list `whichever_list`. If the value of `some_function` is **True**, then delete an item from `whichever_list`. Repeat the process until `whichever_list` has no elements. The argument for `whichever_list` must be `list_aux` and for `some_function` it will be the function `f_s` from the previous point."
   ],
   "metadata": {}
  },
  {
   "cell_type": "code",
   "execution_count": 45,
   "source": [
    "def function_use_f_s(some_function, word, wichever_list):\r\n",
    "    contador = 0\r\n",
    "    longitud = len(wichever_list)\r\n",
    "    while contador < longitud:\r\n",
    "        if some_function(wichever_list, word):\r\n",
    "            wichever_list.pop()\r\n",
    "        print(wichever_list)\r\n",
    "        contador += 1\r\n",
    "function_use_f_s(some_function=f_s, word=\"Juan\", wichever_list=info_list)"
   ],
   "outputs": [
    {
     "output_type": "stream",
     "name": "stdout",
     "text": [
      "Nada\n",
      "Nada15\n",
      "[15, 'Recoletos', True, ['Recoletos', 15], None, '8']\n",
      "Nada\n",
      "Nada15\n",
      "[15, 'Recoletos', True, ['Recoletos', 15], None]\n",
      "Nada\n",
      "Nada15\n",
      "[15, 'Recoletos', True, ['Recoletos', 15]]\n",
      "Nada\n",
      "Nada15\n",
      "[15, 'Recoletos', True]\n",
      "Nada\n",
      "Nada15\n",
      "[15, 'Recoletos']\n",
      "Nada\n",
      "Nada15\n",
      "[15]\n",
      "Nada\n",
      "Nada15\n",
      "[]\n"
     ]
    }
   ],
   "metadata": {}
  },
  {
   "cell_type": "markdown",
   "source": [
    "3. Define a function `even_numbers` that has an input parameter `arg1`, type integer. The function must return a list of numbers of size `arg1`, all of them being even numbers. \n",
    "\n",
    "   Don't use the function `print()` inside the function, but print what `even_numbers` returns when calling it with the argument `10`, just to check your function works.\n",
    "   \n",
    "```python\n",
    "print(even_numbers(10))\n",
    "```"
   ],
   "metadata": {}
  },
  {
   "cell_type": "code",
   "execution_count": null,
   "source": [],
   "outputs": [],
   "metadata": {}
  },
  {
   "cell_type": "markdown",
   "source": [
    "4. Create a function that has an input variable `arg1`, which will be the list of even numbers from the previous section, and that removes elements from the list, one by one, if `arg1` has a size divisible by 2 and, if not, it adds just once, the value of the function `f_s` that should be a boolean (`True` or `False`).\n"
   ],
   "metadata": {}
  },
  {
   "cell_type": "code",
   "execution_count": null,
   "source": [
    "    "
   ],
   "outputs": [],
   "metadata": {}
  },
  {
   "cell_type": "markdown",
   "source": [
    "!['nicetry'](https://i.pinimg.com/originals/36/ab/81/36ab81cd8d63cf7c4a08f39403698c77.jpg)"
   ],
   "metadata": {}
  }
 ],
 "metadata": {
  "kernelspec": {
   "name": "python3",
   "display_name": "Python 3.7.4 64-bit"
  },
  "language_info": {
   "codemirror_mode": {
    "name": "ipython",
    "version": 3
   },
   "file_extension": ".py",
   "mimetype": "text/x-python",
   "name": "python",
   "nbconvert_exporter": "python",
   "pygments_lexer": "ipython3",
   "version": "3.7.4"
  },
  "interpreter": {
   "hash": "c24a7c41beaaeed806d6a6952b3b4f7375fae7924f19eb99401d49cba6e7526b"
  }
 },
 "nbformat": 4,
 "nbformat_minor": 4
}