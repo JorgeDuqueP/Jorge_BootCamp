{
 "cells": [
  {
   "cell_type": "markdown",
   "source": [
    "# Python | day 6 | dictionaries"
   ],
   "metadata": {}
  },
  {
   "cell_type": "markdown",
   "source": [
    "Dictionaries are used to store data values in key:value pairs.\r\n",
    "\r\n",
    "A dictionary is a collection which is unordered, changeable and does not allow duplicates.\r\n",
    "\r\n",
    "Dictionaries are written with curly brackets, and have keys and values:"
   ],
   "metadata": {}
  },
  {
   "cell_type": "markdown",
   "source": [
    "```python\n",
    "thisdict = {\n",
    "  \"brand\": \"Ford\",\n",
    "  \"model\": \"Mustang\",\n",
    "  \"year\": 1964\n",
    "}\n",
    "```"
   ],
   "metadata": {}
  },
  {
   "cell_type": "markdown",
   "source": [
    "https://www.w3schools.com/python/python_dictionaries.asp"
   ],
   "metadata": {}
  },
  {
   "cell_type": "markdown",
   "source": [
    "### Exercise 1. \n",
    "\n",
    "1. Create a dictionary with an integer 5 as the key and \"val\" as its value."
   ],
   "metadata": {}
  },
  {
   "cell_type": "code",
   "execution_count": 4,
   "source": [
    "peopledict = {\"Angel\": 1945, \"Ana\": 1949, \"Silvia\": 1977, \"AnaC\": 1973, \"Jorge\": 1976}\r\n",
    "print(peopledict)"
   ],
   "outputs": [
    {
     "output_type": "stream",
     "name": "stdout",
     "text": [
      "{'Angel': 1945, 'Ana': 1949, 'Silvia': 1977, 'AnaC': 1973, 'Jorge': 1976}\n"
     ]
    }
   ],
   "metadata": {}
  },
  {
   "cell_type": "markdown",
   "source": [
    "2. Create two lists: one that has 4 city names and another that has 4 landmarks in the city."
   ],
   "metadata": {}
  },
  {
   "cell_type": "code",
   "execution_count": 2,
   "source": [
    "list_city = [\"Santiago\", \"Sevilla\", \"Lisboa\", \"Cuenca\"]\r\n",
    "list_landmarks =[\"Catedral\", \"La Giralda\", \"Torre de Belem\", \"Casas colgantes\"]"
   ],
   "outputs": [],
   "metadata": {}
  },
  {
   "cell_type": "markdown",
   "source": [
    "3. Create a dictionary where the cities contained in the first list are the **keys** and the landmarks are the **values**.\r\n",
    "```python\r\n",
    "#example\r\n",
    "places = {\"Malaga\": \"Gibralfaro\", \r\n",
    "         \"Madrid\": \"Templo de Debod\",\r\n",
    "         \"Granada\": \"La Alcazaba\",\r\n",
    "         \"Barcelona\": \"Sagrada Familia\"}\r\n",
    "```"
   ],
   "metadata": {}
  },
  {
   "cell_type": "code",
   "execution_count": 13,
   "source": [
    "dict_city = {}\r\n",
    "for pos, city in enumerate(list_city):\r\n",
    "    dict_city[city] = list_landmarks[pos]\r\n",
    "\r\n",
    "print(dict_city)"
   ],
   "outputs": [
    {
     "output_type": "stream",
     "name": "stdout",
     "text": [
      "{'Santiago': 'Catedral', 'Sevilla': 'La Giralda', 'Lisboa': 'Torre de Belem', 'Cuenca': 'Casas colgantes'}\n"
     ]
    }
   ],
   "metadata": {}
  },
  {
   "cell_type": "markdown",
   "source": [
    "4. Loop through the dictionary and print only the values of those keys starting with the letter **M**.\r\n",
    "\r\n",
    "https://realpython.com/iterate-through-dictionary-python/"
   ],
   "metadata": {}
  },
  {
   "cell_type": "code",
   "execution_count": 36,
   "source": [
    "for key, value in dict_city.items():\r\n",
    "    if key[0] == \"M\":\r\n",
    "        print(key)\r\n",
    "    else:\r\n",
    "        print(\"Sin valores\")"
   ],
   "outputs": [
    {
     "output_type": "stream",
     "name": "stdout",
     "text": [
      "Sin valores\n",
      "Sin valores\n",
      "Sin valores\n",
      "Sin valores\n"
     ]
    }
   ],
   "metadata": {}
  },
  {
   "cell_type": "markdown",
   "source": [
    "5. Create a function that receives two lists `list1` and `list2` by parameter and returns a dictionary with each element of `list1` as keys and the elements of `list2` as values. Call the function with the lists you have created before to return the same dictionary you've created in question 3. "
   ],
   "metadata": {}
  },
  {
   "cell_type": "code",
   "execution_count": 25,
   "source": [
    "dict_city = {}\r\n",
    "def f_city():\r\n",
    "    for pos, city in enumerate(list_city):\r\n",
    "        dict_city[city] = list_landmarks[pos]\r\n",
    "    print(dict_city)\r\n",
    "f_city()"
   ],
   "outputs": [
    {
     "output_type": "stream",
     "name": "stdout",
     "text": [
      "{'Santiago': 'Catedral', 'Sevilla': 'La Giralda', 'Lisboa': 'Torre de Belem', 'Cuenca': 'Casas colgantes'}\n"
     ]
    }
   ],
   "metadata": {}
  },
  {
   "cell_type": "markdown",
   "source": [
    "### Exercise 2. "
   ],
   "metadata": {}
  },
  {
   "cell_type": "markdown",
   "source": [
    "1. Create an empty dictionary called dog."
   ],
   "metadata": {}
  },
  {
   "cell_type": "code",
   "execution_count": 26,
   "source": [
    "dog_dict = {}"
   ],
   "outputs": [],
   "metadata": {}
  },
  {
   "cell_type": "markdown",
   "source": [
    "2. Add name, color, breed, legs, age to the dog dictionary."
   ],
   "metadata": {}
  },
  {
   "cell_type": "code",
   "execution_count": 31,
   "source": [
    "dog_dict[\"name\"] = \"Laika\"\r\n",
    "dog_dict[\"color\"] = \"Black\"\r\n",
    "dog_dict[\"breed\"] = \"Cocker\"\r\n",
    "dog_dict[\"age\"] = 4\r\n",
    "print(dog_dict)"
   ],
   "outputs": [
    {
     "output_type": "stream",
     "name": "stdout",
     "text": [
      "{'name': 'Laika', 'color': 'Black', 'breed': 'Cocker', 'age': 4}\n"
     ]
    }
   ],
   "metadata": {}
  },
  {
   "cell_type": "markdown",
   "source": [
    "3. Create a student dictionary and add first_name, last_name, age, skills, country, city and address as keys for the dictionary.\r\n"
   ],
   "metadata": {}
  },
  {
   "cell_type": "code",
   "execution_count": 40,
   "source": [
    "dict_student ={}\r\n",
    "dict_student[\"first_name\"] = \"Vega\"\r\n",
    "dict_student[\"last_name\"] = \"Duque\"\r\n",
    "dict_student[\"age\"] = 21\r\n",
    "dict_student[\"skills\"] = [\"Nice\", \"educated\", \"chatty\"]\r\n",
    "dict_student[\"country\"] = \"España\"\r\n",
    "dict_student[\"city\"] = \"Madrid\"\r\n",
    "dict_student[\"address\"] = \"Pintor Rosales\"\r\n",
    "print(dict_student)\r\n"
   ],
   "outputs": [
    {
     "output_type": "stream",
     "name": "stdout",
     "text": [
      "{'first_name': 'Vega', 'last_name': 'Duque', 'age': 21, 'skills': ['Nice', 'educated', 'chatty'], 'country': 'España', 'city': 'Madrid', 'address': 'Pintor Rosales'}\n"
     ]
    }
   ],
   "metadata": {}
  },
  {
   "cell_type": "markdown",
   "source": [
    "4. Get the length of the student dictionary.\r\n"
   ],
   "metadata": {}
  },
  {
   "cell_type": "code",
   "execution_count": 41,
   "source": [
    "print(len(dict_student))"
   ],
   "outputs": [
    {
     "output_type": "stream",
     "name": "stdout",
     "text": [
      "7\n"
     ]
    }
   ],
   "metadata": {}
  },
  {
   "cell_type": "markdown",
   "source": [
    "5. Get the value of skills and check the data type, it should be a list."
   ],
   "metadata": {}
  },
  {
   "cell_type": "code",
   "execution_count": 42,
   "source": [
    "type(dict_student[\"skills\"])"
   ],
   "outputs": [
    {
     "output_type": "execute_result",
     "data": {
      "text/plain": [
       "list"
      ]
     },
     "metadata": {},
     "execution_count": 42
    }
   ],
   "metadata": {}
  },
  {
   "cell_type": "markdown",
   "source": [
    "6. Modify the skills values by adding one or two skills."
   ],
   "metadata": {}
  },
  {
   "cell_type": "code",
   "execution_count": 77,
   "source": [
    "dict_student[\"skills\"] = [\"Nice\", \"educated\", \"chatty\", \"studious\"]\r\n",
    "\r\n",
    "print(dict_student)"
   ],
   "outputs": [
    {
     "output_type": "stream",
     "name": "stdout",
     "text": [
      "{'first_name': 'Vega', 'last_name': 'Duque', 'age': 21, 'country': 'España', 'city': 'Madrid', 'address': 'Pintor Rosales', 'skills': ['Nice', 'educated', 'chatty', 'studious']}\n"
     ]
    }
   ],
   "metadata": {}
  },
  {
   "cell_type": "markdown",
   "source": [
    "7. Get the dictionary keys as a list."
   ],
   "metadata": {}
  },
  {
   "cell_type": "code",
   "execution_count": 62,
   "source": [
    "student_key = []\r\n",
    "for key in dict_student.keys():\r\n",
    "    student_key.append(key)\r\n",
    "print(student_key)"
   ],
   "outputs": [
    {
     "output_type": "stream",
     "name": "stdout",
     "text": [
      "['first_name', 'last_name', 'age', 'skills', 'country', 'city', 'address']\n"
     ]
    }
   ],
   "metadata": {}
  },
  {
   "cell_type": "markdown",
   "source": [
    "8. Get the dictionary values as a list.\n"
   ],
   "metadata": {}
  },
  {
   "cell_type": "code",
   "execution_count": 64,
   "source": [
    "student_values = []\r\n",
    "for value in dict_student.values():\r\n",
    "    student_values.append(value)\r\n",
    "print(student_values)"
   ],
   "outputs": [
    {
     "output_type": "stream",
     "name": "stdout",
     "text": [
      "['Vega', 'Duque', 21, ['Nice', 'educated', 'chatty', 'studious'], 'España', 'Madrid', 'Pintor Rosales']\n"
     ]
    }
   ],
   "metadata": {}
  },
  {
   "cell_type": "markdown",
   "source": [
    "9. Change the dictionary to a list of tuples using `items()` method"
   ],
   "metadata": {}
  },
  {
   "cell_type": "code",
   "execution_count": 65,
   "source": [
    "list_tupla = dict_student.items()\r\n",
    "print(list_tupla)"
   ],
   "outputs": [
    {
     "output_type": "stream",
     "name": "stdout",
     "text": [
      "dict_items([('first_name', 'Vega'), ('last_name', 'Duque'), ('age', 21), ('skills', ['Nice', 'educated', 'chatty', 'studious']), ('country', 'España'), ('city', 'Madrid'), ('address', 'Pintor Rosales')])\n"
     ]
    }
   ],
   "metadata": {}
  },
  {
   "cell_type": "markdown",
   "source": [
    "10. Delete one of the items in the dictionary.\n"
   ],
   "metadata": {}
  },
  {
   "cell_type": "code",
   "execution_count": 79,
   "source": [
    "del dict_student[\"skills\"]\r\n",
    "print(dict_student)"
   ],
   "outputs": [
    {
     "output_type": "stream",
     "name": "stdout",
     "text": [
      "{'first_name': 'Vega', 'last_name': 'Duque', 'age': 21, 'country': 'España', 'city': 'Madrid', 'address': 'Pintor Rosales'}\n"
     ]
    }
   ],
   "metadata": {}
  },
  {
   "cell_type": "markdown",
   "source": [
    "### Bonus Track"
   ],
   "metadata": {}
  },
  {
   "cell_type": "markdown",
   "source": [
    "**Tómate un zumito a tu salud.**"
   ],
   "metadata": {}
  },
  {
   "cell_type": "markdown",
   "source": [
    "!['daughter'](https://i.pinimg.com/originals/8f/35/28/8f35281e742e71be09697e7e6789b819.png)"
   ],
   "metadata": {}
  },
  {
   "cell_type": "code",
   "execution_count": null,
   "source": [],
   "outputs": [],
   "metadata": {}
  }
 ],
 "metadata": {
  "kernelspec": {
   "name": "python3",
   "display_name": "Python 3.7.4 64-bit"
  },
  "language_info": {
   "codemirror_mode": {
    "name": "ipython",
    "version": 3
   },
   "file_extension": ".py",
   "mimetype": "text/x-python",
   "name": "python",
   "nbconvert_exporter": "python",
   "pygments_lexer": "ipython3",
   "version": "3.7.4"
  },
  "interpreter": {
   "hash": "c24a7c41beaaeed806d6a6952b3b4f7375fae7924f19eb99401d49cba6e7526b"
  }
 },
 "nbformat": 4,
 "nbformat_minor": 2
}