{
 "cells": [
  {
   "cell_type": "markdown",
   "source": [
    "## 🐍 Ramp-up"
   ],
   "metadata": {}
  },
  {
   "cell_type": "markdown",
   "source": [
    "#### Collections\n",
    "1. Create a tuple as follows (10,2,27,8)\n",
    "2. Get the lenght of the tuple\n",
    "3. Which type is it? And which type are the elements the tuple contains?\n",
    "4. Create a new tuple with any other 4 strings and concatenate all of them with the tuple you created before by position, creating a list called `words`.\n",
    "5. Make a list with the same elements in question 1. Find the element 27 and make it 37.\n",
    "6. Remove the number 8 from the list.\n",
    "7. Turn the list you made before into a set.\n",
    "8. Check if the element \"3\" is in that set.\n",
    "9. Sort the list you made in exercise 4 in descending order.\n",
    "10. Turn the list `words` into a dictionary. Split every string taking the number in the tuple (10,2,27,8) as the values and the rest as the keys.\n",
    "11. Sum up the values of the new dictionary.\n",
    "12. Sort the values of the dictionary in descending order and the keys in ascending order, then make a list of tuples with every couple of keys and values by position."
   ],
   "metadata": {}
  },
  {
   "cell_type": "code",
   "execution_count": 2,
   "source": [
    "# 1\r\n",
    "tupli = (10,2,27,8)"
   ],
   "outputs": [],
   "metadata": {}
  },
  {
   "cell_type": "code",
   "execution_count": 3,
   "source": [
    "# 2\r\n",
    "len(tupli)"
   ],
   "outputs": [
    {
     "output_type": "execute_result",
     "data": {
      "text/plain": [
       "4"
      ]
     },
     "metadata": {},
     "execution_count": 3
    }
   ],
   "metadata": {}
  },
  {
   "cell_type": "code",
   "execution_count": 4,
   "source": [
    "# 3\r\n",
    "print(type(tupli))\r\n",
    "print()\r\n",
    "\r\n",
    "for elem in tupli:\r\n",
    "    print(f\"{elem} es de tipo {type(elem)}\")"
   ],
   "outputs": [
    {
     "output_type": "stream",
     "name": "stdout",
     "text": [
      "<class 'tuple'>\n",
      "\n",
      "10 es de tipo <class 'int'>\n",
      "2 es de tipo <class 'int'>\n",
      "27 es de tipo <class 'int'>\n",
      "8 es de tipo <class 'int'>\n"
     ]
    }
   ],
   "metadata": {}
  },
  {
   "cell_type": "code",
   "execution_count": 12,
   "source": [
    "# 4\r\n",
    "words = []\r\n",
    "tup = (\"a\", \"b\", \"c\", \"d\")\r\n",
    "\r\n",
    "for i, elem in enumerate(tupli):\r\n",
    "    words.append(tup[i] + str(elem))\r\n",
    "    \r\n",
    "words"
   ],
   "outputs": [
    {
     "output_type": "execute_result",
     "data": {
      "text/plain": [
       "['a10', 'b2', 'c27', 'd8']"
      ]
     },
     "metadata": {},
     "execution_count": 12
    }
   ],
   "metadata": {}
  },
  {
   "cell_type": "code",
   "execution_count": 7,
   "source": [
    "# 5 \r\n",
    "lista = list(tupli)\r\n",
    "\r\n",
    "print(\"antes: \", lista)\r\n",
    "for i, e in enumerate(lista):\r\n",
    "    if e == 27:\r\n",
    "        lista[i] = 37\r\n",
    "\r\n",
    "print(\"despues: \", lista)"
   ],
   "outputs": [
    {
     "output_type": "stream",
     "name": "stdout",
     "text": [
      "antes:  [10, 2, 27, 8]\n",
      "despues:  [10, 2, 37, 8]\n"
     ]
    }
   ],
   "metadata": {}
  },
  {
   "cell_type": "code",
   "execution_count": 8,
   "source": [
    "# 6\r\n",
    "\r\n",
    "lista.remove(8)"
   ],
   "outputs": [],
   "metadata": {}
  },
  {
   "cell_type": "code",
   "execution_count": 9,
   "source": [
    "# 7\r\n",
    "seti = set(lista)\r\n",
    "seti"
   ],
   "outputs": [
    {
     "output_type": "execute_result",
     "data": {
      "text/plain": [
       "{2, 10, 37}"
      ]
     },
     "metadata": {},
     "execution_count": 9
    }
   ],
   "metadata": {}
  },
  {
   "cell_type": "code",
   "execution_count": 10,
   "source": [
    "# 8\r\n",
    "\"3\" in seti"
   ],
   "outputs": [
    {
     "output_type": "execute_result",
     "data": {
      "text/plain": [
       "False"
      ]
     },
     "metadata": {},
     "execution_count": 10
    }
   ],
   "metadata": {}
  },
  {
   "cell_type": "code",
   "execution_count": 13,
   "source": [
    "# 9\r\n",
    "words.sort(reverse = True)\r\n",
    "words"
   ],
   "outputs": [
    {
     "output_type": "execute_result",
     "data": {
      "text/plain": [
       "['d8', 'c27', 'b2', 'a10']"
      ]
     },
     "metadata": {},
     "execution_count": 13
    }
   ],
   "metadata": {}
  },
  {
   "cell_type": "code",
   "execution_count": 14,
   "source": [
    "# 10\r\n",
    "dictionary = {}\r\n",
    "\r\n",
    "for e in words:\r\n",
    "    dic_key = \"\"\r\n",
    "    dic_val = \"\"\r\n",
    "    for letra in e:\r\n",
    "        if letra.isnumeric():\r\n",
    "            dic_val += letra\r\n",
    "        else:\r\n",
    "            dic_key += letra\r\n",
    "    dictionary[dic_key] = int(dic_val)\r\n",
    "\r\n",
    "dictionary"
   ],
   "outputs": [
    {
     "output_type": "execute_result",
     "data": {
      "text/plain": [
       "{'d': 8, 'c': 27, 'b': 2, 'a': 10}"
      ]
     },
     "metadata": {},
     "execution_count": 14
    }
   ],
   "metadata": {}
  },
  {
   "cell_type": "code",
   "execution_count": 27,
   "source": [
    "# 11\r\n",
    "cont = 0\r\n",
    "for e in dictionary.values():\r\n",
    "    cont += e\r\n",
    "    \r\n",
    "cont"
   ],
   "outputs": [
    {
     "output_type": "execute_result",
     "data": {
      "text/plain": [
       "47"
      ]
     },
     "metadata": {},
     "execution_count": 27
    }
   ],
   "metadata": {}
  },
  {
   "cell_type": "code",
   "execution_count": 34,
   "source": [
    "# 12\r\n",
    "lista1 = []\r\n",
    "lista2 = []\r\n",
    "for k,v in dictionary.items():\r\n",
    "    lista1.append(k)\r\n",
    "    lista2.append(v)\r\n",
    "lista1.sort()\r\n",
    "lista2.sort(reverse = True)\r\n",
    "\r\n",
    "tuplas = []\r\n",
    "for i,e in enumerate(lista1):\r\n",
    "    tuplas.append((e, lista2[i]))\r\n",
    "    \r\n",
    "tuplas"
   ],
   "outputs": [
    {
     "output_type": "execute_result",
     "data": {
      "text/plain": [
       "[('a', 27), ('b', 10), ('c', 8), ('d', 2)]"
      ]
     },
     "metadata": {},
     "execution_count": 34
    }
   ],
   "metadata": {}
  },
  {
   "cell_type": "markdown",
   "source": [
    "#### Dictionaries\n",
    "\n",
    "1. Make a dictionary containing three major rivers and the country each river runs through. One key-value pair might be 'nile': 'egypt'.\n",
    "\n",
    "    - Use a loop to print a sentence about each river, such as The Nile runs through Egypt.\n",
    "    - Use a loop to print the name of each river included in the dictionary.\n",
    "    - Use a loop to print the name of each country included in the dictionary."
   ],
   "metadata": {}
  },
  {
   "cell_type": "code",
   "execution_count": 35,
   "source": [
    "rivers = {\r\n",
    "    'nile': 'egypt',\r\n",
    "    'mississippi': 'united states',\r\n",
    "    'fraser': 'canada',\r\n",
    "    'kuskokwim': 'alaska',\r\n",
    "    'yangtze': 'china',\r\n",
    "    }\r\n",
    "\r\n",
    "for river, country in rivers.items():\r\n",
    "    print(f\"The {river.title()} flows through {country.title()}.\")\r\n",
    "\r\n",
    "print(\"\\nThe following rivers are included in this data set:\")\r\n",
    "for river in rivers.keys():\r\n",
    "    print(f\"- {river.title()}\")\r\n",
    "\r\n",
    "print(\"\\nThe following countries are included in this data set:\")\r\n",
    "for country in rivers.values():\r\n",
    "    print(f\"- {country.title()}\")"
   ],
   "outputs": [
    {
     "output_type": "stream",
     "name": "stdout",
     "text": [
      "The Nile flows through Egypt.\n",
      "The Mississippi flows through United States.\n",
      "The Fraser flows through Canada.\n",
      "The Kuskokwim flows through Alaska.\n",
      "The Yangtze flows through China.\n",
      "\n",
      "The following rivers are included in this data set:\n",
      "- Nile\n",
      "- Mississippi\n",
      "- Fraser\n",
      "- Kuskokwim\n",
      "- Yangtze\n",
      "\n",
      "The following countries are included in this data set:\n",
      "- Egypt\n",
      "- United States\n",
      "- Canada\n",
      "- Alaska\n",
      "- China\n"
     ]
    }
   ],
   "metadata": {}
  },
  {
   "cell_type": "markdown",
   "source": [
    "2. Use the provided dictionary that shows some coders and their favoites languages.\r\n",
    "```Python\r\n",
    "favorite_languages = {\r\n",
    "    'jen': 'python',\r\n",
    "    'sarah': 'c',\r\n",
    "    'edward': 'ruby',\r\n",
    "    'phil': 'python',\r\n",
    "    }\r\n",
    "```\r\n",
    "\r\n",
    "    - Make a list of people who should take the favorite languages poll. Include some names that are already in the dictionary and some that are not.\r\n",
    "    - Loop through the list of people who should take the poll. If they have already taken the poll, print a message thanking them for responding. If they have not yet taken the poll, print a message inviting them to take the poll."
   ],
   "metadata": {}
  },
  {
   "cell_type": "code",
   "execution_count": 15,
   "source": [
    "favorite_languages = {\r\n",
    "    'jen': 'python',\r\n",
    "    'sarah': 'c',\r\n",
    "    'edward': 'ruby',\r\n",
    "    'phil': 'python',\r\n",
    "    }\r\n",
    "\r\n",
    "# your code here\r\n",
    "\r\n",
    "for name, language in favorite_languages.items():\r\n",
    "    print(name.title() + \"'s favorite language is \" +\r\n",
    "        language.title() + \".\")\r\n",
    "\r\n",
    "print(\"\\n\")\r\n",
    "\r\n",
    "coders = ['phil', 'josh', 'david', 'becca', 'sarah', 'matt', 'danielle']\r\n",
    "for coder in coders:\r\n",
    "    if coder in favorite_languages.keys():\r\n",
    "        print(\"Thank you for taking the poll, \" + coder.title() + \"!\")\r\n",
    "    else:\r\n",
    "        print(coder.title() + \", what's your favorite programming language?\")"
   ],
   "outputs": [
    {
     "output_type": "stream",
     "name": "stdout",
     "text": [
      "Jen's favorite language is Python.\n",
      "Sarah's favorite language is C.\n",
      "Edward's favorite language is Ruby.\n",
      "Phil's favorite language is Python.\n",
      "\n",
      "\n",
      "Thank you for taking the poll, Phil!\n",
      "Josh, what's your favorite programming language?\n",
      "David, what's your favorite programming language?\n",
      "Becca, what's your favorite programming language?\n",
      "Thank you for taking the poll, Sarah!\n",
      "Matt, what's your favorite programming language?\n",
      "Danielle, what's your favorite programming language?\n"
     ]
    }
   ],
   "metadata": {}
  },
  {
   "cell_type": "markdown",
   "source": [
    "3. Make a dictionary called cities. Use the names of three cities as keys in your dictionary. Create a dictionary of information about each city and include the country that the city is in, its approximate population, and one fact about that city. The keys for each city’s dictionary should be something like country, population, and fact. Print the name of each city and all of the information you have stored about it."
   ],
   "metadata": {}
  },
  {
   "cell_type": "code",
   "execution_count": 36,
   "source": [
    "cities = {\r\n",
    "    'santiago': {\r\n",
    "        'country': 'chile',\r\n",
    "        'population': 6_310_000,\r\n",
    "        'nearby mountains': 'andes',\r\n",
    "        },\r\n",
    "    'talkeetna': {\r\n",
    "        'country': 'united states',\r\n",
    "        'population': 876,\r\n",
    "        'nearby mountains': 'alaska range',\r\n",
    "        },\r\n",
    "    'kathmandu': {\r\n",
    "        'country': 'nepal',\r\n",
    "        'population': 975_453,\r\n",
    "        'nearby mountains': 'himilaya',\r\n",
    "        }\r\n",
    "    }\r\n",
    "\r\n",
    "for city, city_info in cities.items():\r\n",
    "    country = city_info['country'].title()\r\n",
    "    population = city_info['population']\r\n",
    "    mountains = city_info['nearby mountains'].title()\r\n",
    "\r\n",
    "    print(f\"\\n{city.title()} is in {country}.\")\r\n",
    "    print(f\"  It has a population of about {population}.\")\r\n",
    "    print(f\"  The {mountains} mounats are nearby.\")\r\n"
   ],
   "outputs": [
    {
     "output_type": "stream",
     "name": "stdout",
     "text": [
      "\n",
      "Santiago is in Chile.\n",
      "  It has a population of about 6310000.\n",
      "  The Andes mounats are nearby.\n",
      "\n",
      "Talkeetna is in United States.\n",
      "  It has a population of about 876.\n",
      "  The Alaska Range mounats are nearby.\n",
      "\n",
      "Kathmandu is in Nepal.\n",
      "  It has a population of about 975453.\n",
      "  The Himilaya mounats are nearby.\n"
     ]
    }
   ],
   "metadata": {}
  },
  {
   "cell_type": "markdown",
   "source": [
    "**for loop**\n",
    "1. This is a fruit list, ['banana', 'orange', 'mango', 'lemon'] reverse the order using a for loop.\n"
   ],
   "metadata": {}
  },
  {
   "cell_type": "code",
   "execution_count": 21,
   "source": [
    "frutas = ['banana', 'orange', 'mango', 'lemon']\r\n",
    "\r\n",
    "for i in range(len(frutas)-1, -1, -1): #start, stop, step\r\n",
    "    frutas.append(frutas[i])\r\n",
    "    frutas.remove(frutas[i])\r\n",
    "    \r\n",
    "frutas"
   ],
   "outputs": [
    {
     "output_type": "execute_result",
     "data": {
      "text/plain": [
       "['lemon', 'mango', 'orange', 'banana']"
      ]
     },
     "metadata": {},
     "execution_count": 21
    }
   ],
   "metadata": {}
  },
  {
   "cell_type": "markdown",
   "source": [
    "2. Write a Python program to create the multiplication table (from 1 to 10) of a number.\n",
    "```python\n",
    "Input a number: 5                                                                                             \n",
    "5 x 1 = 5                                                                                                     \n",
    "5 x 2 = 10                                                                                                    \n",
    "5 x 3 = 15                                                                                                    \n",
    "5 x 4 = 20                                                                                                    \n",
    "5 x 5 = 25                                                                                                    \n",
    "5 x 6 = 30                                                                                                    \n",
    "5 x 7 = 35                                                                                                    \n",
    "5 x 8 = 40                                                                                                    \n",
    "5 x 9 = 45                                                                                                    \n",
    "5 x 10 = 50\n",
    "```"
   ],
   "metadata": {}
  },
  {
   "cell_type": "code",
   "execution_count": 7,
   "source": [
    "n = int(input(\"Input a number: \"))\r\n",
    "\r\n",
    "for i in range(1,11):\r\n",
    "    print(n,'x',i,'=',n*i)"
   ],
   "outputs": [
    {
     "output_type": "stream",
     "name": "stdout",
     "text": [
      "Input a number: 5\n",
      "5 x 1 = 5\n",
      "5 x 2 = 10\n",
      "5 x 3 = 15\n",
      "5 x 4 = 20\n",
      "5 x 5 = 25\n",
      "5 x 6 = 30\n",
      "5 x 7 = 35\n",
      "5 x 8 = 40\n",
      "5 x 9 = 45\n",
      "5 x 10 = 50\n"
     ]
    }
   ],
   "metadata": {}
  },
  {
   "cell_type": "markdown",
   "source": [
    "3. Write a Python program which iterates the integers from 1 to 50. For multiples of three print \"Fizz\" instead of the number and for the multiples of five print \"Buzz\". For numbers which are multiples of both three and five print \"FizzBuzz\".\n",
    "```python\n",
    "Sample Output :\n",
    "fizzbuzz\n",
    "1\n",
    "2\n",
    "fizz\n",
    "4\n",
    "buzz\n",
    "```"
   ],
   "metadata": {}
  },
  {
   "cell_type": "code",
   "execution_count": 22,
   "source": [
    "for fizzbuzz in range(51):\r\n",
    "    if fizzbuzz % 3 == 0 and fizzbuzz % 5 == 0:\r\n",
    "        print(\"fizzbuzz\")\r\n",
    "        continue\r\n",
    "    elif fizzbuzz % 3 == 0:\r\n",
    "        print(\"fizz\")\r\n",
    "        continue\r\n",
    "    elif fizzbuzz % 5 == 0:\r\n",
    "        print(\"buzz\")\r\n",
    "        continue\r\n",
    "    print(fizzbuzz)"
   ],
   "outputs": [
    {
     "output_type": "stream",
     "name": "stdout",
     "text": [
      "fizzbuzz\n",
      "1\n",
      "2\n",
      "fizz\n",
      "4\n",
      "buzz\n",
      "fizz\n",
      "7\n",
      "8\n",
      "fizz\n",
      "buzz\n",
      "11\n",
      "fizz\n",
      "13\n",
      "14\n",
      "fizzbuzz\n",
      "16\n",
      "17\n",
      "fizz\n",
      "19\n",
      "buzz\n",
      "fizz\n",
      "22\n",
      "23\n",
      "fizz\n",
      "buzz\n",
      "26\n",
      "fizz\n",
      "28\n",
      "29\n",
      "fizzbuzz\n",
      "31\n",
      "32\n",
      "fizz\n",
      "34\n",
      "buzz\n",
      "fizz\n",
      "37\n",
      "38\n",
      "fizz\n",
      "buzz\n",
      "41\n",
      "fizz\n",
      "43\n",
      "44\n",
      "fizzbuzz\n",
      "46\n",
      "47\n",
      "fizz\n",
      "49\n",
      "buzz\n"
     ]
    }
   ],
   "metadata": {}
  },
  {
   "cell_type": "markdown",
   "source": [
    "**functions**\n",
    "\n",
    "1. Write a Python function to check whether a string is a pangram or not. \n",
    "\n",
    "Note : Pangrams are words or sentences containing every letter of the alphabet at least once.\n",
    "    \n",
    "For example : `\"The quick brown fox jumps over the lazy dog\"`"
   ],
   "metadata": {}
  },
  {
   "cell_type": "code",
   "execution_count": 24,
   "source": [
    "def ispangram(str1, alphabet= 'abcdefghijklmnopqrstuvwxyz'):\r\n",
    "    alphaset = set(alphabet)\r\n",
    "    return alphaset <= set(str1.lower())\r\n",
    " \r\n",
    "print(ispangram('The quick brown fox jumps over the lazy dog')) "
   ],
   "outputs": [
    {
     "output_type": "stream",
     "name": "stdout",
     "text": [
      "True\n"
     ]
    }
   ],
   "metadata": {}
  },
  {
   "cell_type": "markdown",
   "source": [
    "2. Write a Python program to count the number of even and odd numbers from a series of numbers. \n",
    "\n",
    "```python\n",
    "Sample numbers: numbers = (1, 2, 3, 4, 5, 6, 7, 8, 9) \n",
    "    \n",
    "Expected Output:\n",
    "Number of even numbers: 5\n",
    "Number of odd numbers: 4\n",
    "```"
   ],
   "metadata": {}
  },
  {
   "cell_type": "code",
   "execution_count": 28,
   "source": [
    "def count_even(numbers):\r\n",
    "    even, odd = 0, 0\r\n",
    "    for num in numbers:\r\n",
    "        if num%2!=0:\r\n",
    "            even += 1\r\n",
    "        else:\r\n",
    "            odd += 1\r\n",
    "    return even, odd\r\n",
    "\r\n",
    "even, odd = count_even((1, 2, 3, 4, 5, 6, 7, 8, 9))"
   ],
   "outputs": [],
   "metadata": {}
  },
  {
   "cell_type": "code",
   "execution_count": 29,
   "source": [
    "print(f\"Number of even numbers: {even}\\nNumber of odd numbers: {odd}\")"
   ],
   "outputs": [
    {
     "output_type": "stream",
     "name": "stdout",
     "text": [
      "Number of even numbers: 5\n",
      "Number of odd numbers: 4\n"
     ]
    }
   ],
   "metadata": {}
  },
  {
   "cell_type": "markdown",
   "source": [
    "#### functions & while loop\n",
    "1. Write a program which keeps asking for numbers till the user writes 9999. In that case, the program returns the concatenation of every number as a string.\n"
   ],
   "metadata": {}
  },
  {
   "cell_type": "code",
   "execution_count": 16,
   "source": [
    "num = None\r\n",
    "suma = ''\r\n",
    "\r\n",
    "while num != '9999':\r\n",
    "    num = input(\"Intruce un numero --> \")\r\n",
    "    if num != '9999':\r\n",
    "        suma += num\r\n",
    "        \r\n",
    "print(\"El concatenado ha sido\", suma)"
   ],
   "outputs": [
    {
     "output_type": "stream",
     "name": "stdout",
     "text": [
      "El concatenado ha sido 986\n"
     ]
    }
   ],
   "metadata": {}
  },
  {
   "cell_type": "markdown",
   "source": [
    "2. Writes a function that asks a user for a pin code till they get it right... If they give a wrong answer three times the function returns \"Your bank account has been blocked\", otherwise, returns: \"You got it right! You get full access to your money\".\n"
   ],
   "metadata": {}
  },
  {
   "cell_type": "code",
   "execution_count": 18,
   "source": [
    "def codigo_pin():\r\n",
    "    pin = 1234\r\n",
    "    intentos = 0\r\n",
    "    while intentos < 3:\r\n",
    "        codigo = int(input(\"Introduzca el codigo pin: \"))\r\n",
    "        if codigo == pin:\r\n",
    "            return \"You got it right! You get full access to your money!\"\r\n",
    "        else:\r\n",
    "            intentos += 1\r\n",
    "    return \"Your bank account has been blocked\"\r\n",
    "\r\n",
    "codigo_pin() "
   ],
   "outputs": [
    {
     "output_type": "execute_result",
     "data": {
      "text/plain": [
       "'You got it right! You get full access to your money!'"
      ]
     },
     "metadata": {},
     "execution_count": 18
    }
   ],
   "metadata": {}
  },
  {
   "cell_type": "markdown",
   "source": [
    "#### functions & for loop\n",
    "\n",
    "1. Write a function that takes in a person's name, and prints out a greeting.\n",
    "    - The greeting must be at least three lines, and the person's name must be in each line.\n",
    "    - Use your function to greet at least three different people.\n",
    "    - Store your three people in a list, and call your function from a for loop."
   ],
   "metadata": {}
  },
  {
   "cell_type": "code",
   "execution_count": 39,
   "source": [
    "def say_hi(name):\r\n",
    "    print(f\"Hola {name}\\n¿qué tal estás {name}?\\nyo feliz de verte, {name}.\")\r\n",
    "\r\n",
    "nombres = [\"Pepe\", \"Juan\", \"Elena\"]\r\n",
    "\r\n",
    "for e in nombres:\r\n",
    "    say_hi(e)\r\n",
    "    print()"
   ],
   "outputs": [
    {
     "output_type": "stream",
     "name": "stdout",
     "text": [
      "Hola Pepe\n",
      "¿qué tal estás Pepe?\n",
      "yo feliz de verte, Pepe.\n",
      "\n",
      "Hola Juan\n",
      "¿qué tal estás Juan?\n",
      "yo feliz de verte, Juan.\n",
      "\n",
      "Hola Elena\n",
      "¿qué tal estás Elena?\n",
      "yo feliz de verte, Elena.\n",
      "\n"
     ]
    }
   ],
   "metadata": {}
  },
  {
   "cell_type": "markdown",
   "source": [
    "2. Make a list that includes 3 or 4 games that you like to play and print a statement that tells the user what games you like.\n",
    "    - Write a function that asks the user to tell you a game they like, and store the game in a variable such as `new_game`. \n",
    "    - If the user mentions one game you like to play, send a message asking to play together.\n",
    "    - Otherwise ask for another game name. If the user tries your program 3 times and doesn't give a game name you like, then ask them to find another friend."
   ],
   "metadata": {}
  },
  {
   "cell_type": "code",
   "execution_count": 21,
   "source": [
    "games = [\"sushi go\", \"dobble\", \"dixit\"]\r\n",
    "\r\n",
    "def are_we_friends(games_list):\r\n",
    "    tries = 3\r\n",
    "    for tri in range(3):\r\n",
    "        if tries == 0:\r\n",
    "            break\r\n",
    "        new_game = input(\"¿A qué juego te gusta jugar? \").lower()\r\n",
    "        if new_game in games_list:\r\n",
    "            return f\"Podemos ser amigos y jugar a {new_game} juntos\"\r\n",
    "        tries -=1\r\n",
    "    return f\"Buscate otro amigo\"\r\n",
    "\r\n",
    "are_we_friends(games)"
   ],
   "outputs": [
    {
     "output_type": "execute_result",
     "data": {
      "text/plain": [
       "'Buscate otro amigo'"
      ]
     },
     "metadata": {},
     "execution_count": 21
    }
   ],
   "metadata": {}
  },
  {
   "cell_type": "code",
   "execution_count": 22,
   "source": [
    "are_we_friends(games)"
   ],
   "outputs": [
    {
     "output_type": "execute_result",
     "data": {
      "text/plain": [
       "'Buscate otro amigo'"
      ]
     },
     "metadata": {},
     "execution_count": 22
    }
   ],
   "metadata": {}
  },
  {
   "cell_type": "markdown",
   "source": [
    "#### write a mini-program\n",
    "**Three is a Crowd**\n",
    "- Make a list of names that includes at least four people.\n",
    "- Write an if test that prints a message about the room being crowded, if there are more than three people in your list.\n",
    "- Modify your list so that there are only two people in it. Use one of the methods for removing people from the list, don't just redefine the list.\n",
    "- Run your if test again. There should be no output this time, because there are less than three people in the list.\n",
    "- Store your if test in a function called something like `crowd_test`.\n",
    "\n"
   ],
   "metadata": {}
  },
  {
   "cell_type": "code",
   "execution_count": 56,
   "source": [
    "nombres = [\"Pepe\", \"Juan\", \"Elena\", \"Antonia\"]\n",
    "\n",
    "if len(nombres) >= 3:\n",
    "    print('The room is too crowded.')"
   ],
   "outputs": [
    {
     "output_type": "stream",
     "name": "stdout",
     "text": [
      "The room is too crowded.\n"
     ]
    }
   ],
   "metadata": {}
  },
  {
   "cell_type": "code",
   "execution_count": 51,
   "source": [
    "fuera = [\"Pepe\", \"Juan\"]\n",
    "\n",
    "for fu in fuera:\n",
    "    nombres.remove(fu)\n",
    "    \n",
    "if len(nombres) >= 3:\n",
    "    print('The room is too crowded.')"
   ],
   "outputs": [],
   "metadata": {}
  },
  {
   "cell_type": "code",
   "execution_count": 52,
   "source": [
    "def crowd_test(lista):\n",
    "    if len(lista) >= 3:\n",
    "        print('The room is too crowded.')"
   ],
   "outputs": [],
   "metadata": {}
  },
  {
   "cell_type": "markdown",
   "source": [
    "**Three is a Crowd - Part 2**\n",
    "- Save your program from *Three is a Crowd* under a new name.\n",
    "- Add an `else` statement to your if tests. If the `else` statement is run, have it print a message that the room is not very crowded.\n"
   ],
   "metadata": {}
  },
  {
   "cell_type": "code",
   "execution_count": 60,
   "source": [
    "def crowd_test_2(lista):\n",
    "    if len(lista) >= 3:\n",
    "        print('The room is too crowded.')\n",
    "    else:\n",
    "        print('The room is not very crowded.')"
   ],
   "outputs": [],
   "metadata": {}
  },
  {
   "cell_type": "code",
   "execution_count": 61,
   "source": [
    "crowd_test_2(nombres)"
   ],
   "outputs": [
    {
     "output_type": "stream",
     "name": "stdout",
     "text": [
      "The room is too crowded.\n"
     ]
    }
   ],
   "metadata": {}
  },
  {
   "cell_type": "markdown",
   "source": [
    "\n",
    "**Six is a Mob**\n",
    "- Save your program from *Three is a Crowd - Part 2* under a new name.\n",
    "- Add some names to your list, so that there are at least six people in the list.\n",
    "- Modify your tests so that\n",
    "    - If there are more than 5 people, a message is printed about there being a mob in the room.\n",
    "    - If there are 3-5 people, a message is printed about the room being crowded.\n",
    "    - If there are 1 or 2 people, a message is printed about the room not being crowded.\n",
    "    - If there are no people in the room, a message is printed abou the room being empty."
   ],
   "metadata": {}
  },
  {
   "cell_type": "code",
   "execution_count": 62,
   "source": [
    "new_friends = [\"Maria\", \"Carlota\"]\n",
    "\n",
    "for friend in new_friends:\n",
    "    nombres.append(friend)\n",
    "\n",
    "nombres"
   ],
   "outputs": [
    {
     "output_type": "execute_result",
     "data": {
      "text/plain": [
       "['Pepe', 'Juan', 'Elena', 'Antonia', 'Maria', 'Carlota']"
      ]
     },
     "metadata": {},
     "execution_count": 62
    }
   ],
   "metadata": {}
  },
  {
   "cell_type": "code",
   "execution_count": 63,
   "source": [
    "def crowd_test_3(lista):\n",
    "    if len(lista) > 5:\n",
    "        return 'There is a mob in the room.'\n",
    "    elif len(lista) >= 3:\n",
    "        print('The room is too crowded.')\n",
    "    elif len(lista) > 0:\n",
    "        print('The room is not very crowded.')\n",
    "    else:\n",
    "        return 'The room is empty'\n",
    "        \n",
    "crowd_test_3(nombres)"
   ],
   "outputs": [
    {
     "output_type": "execute_result",
     "data": {
      "text/plain": [
       "'There is a mob in the room.'"
      ]
     },
     "metadata": {},
     "execution_count": 63
    }
   ],
   "metadata": {}
  }
 ],
 "metadata": {
  "kernelspec": {
   "name": "python3",
   "display_name": "Python 3.7.4 64-bit"
  },
  "language_info": {
   "codemirror_mode": {
    "name": "ipython",
    "version": 3
   },
   "file_extension": ".py",
   "mimetype": "text/x-python",
   "name": "python",
   "nbconvert_exporter": "python",
   "pygments_lexer": "ipython3",
   "version": "3.7.4"
  },
  "interpreter": {
   "hash": "c24a7c41beaaeed806d6a6952b3b4f7375fae7924f19eb99401d49cba6e7526b"
  }
 },
 "nbformat": 4,
 "nbformat_minor": 4
}