{
 "cells": [
  {
   "cell_type": "markdown",
   "source": [
    "- Funciones\r\n",
    "- Bucles con contador/bbandera\r\n",
    "- Listas con tuplas\r\n",
    "- Preguntar al usuario\r\n",
    "- Imports\r\n",
    "- Diccionarios\r\n",
    "- Set\r\n"
   ],
   "metadata": {}
  },
  {
   "cell_type": "code",
   "execution_count": 40,
   "source": [
    "d = {\"c\": \"v\", \"l\": [2, 4, 6], -9: {\"X\",\"Z\",\"Z\"}} \r\n",
    "s = {\"X\",\"Z\",\"Z\"} # es"
   ],
   "outputs": [],
   "metadata": {}
  },
  {
   "cell_type": "code",
   "execution_count": 11,
   "source": [
    "def recorre_diccionario(diccionario):\r\n",
    "    # Recorre por clave y la muestra\r\n",
    "    for key in diccionario:\r\n",
    "        print(\"key\", key)\r\n",
    "recorre_diccionario(diccionario=d)"
   ],
   "outputs": [
    {
     "output_type": "stream",
     "name": "stdout",
     "text": [
      "key c\n",
      "key l\n",
      "key -9\n"
     ]
    }
   ],
   "metadata": {}
  },
  {
   "cell_type": "code",
   "execution_count": 28,
   "source": [
    "def recorre_diccionario(diccionario):\r\n",
    "    # Recorre por clave y la muestra\r\n",
    "    for key in diccionario.keys():\r\n",
    "        print(\"key\", key)\r\n",
    "recorre_diccionario(diccionario=d)"
   ],
   "outputs": [
    {
     "output_type": "stream",
     "name": "stdout",
     "text": [
      "key c\n",
      "key l\n",
      "key -9\n"
     ]
    }
   ],
   "metadata": {}
  },
  {
   "cell_type": "code",
   "execution_count": 27,
   "source": [
    "def recorre_diccionario2(diccionario):\r\n",
    "    # Recorre por clave y la muestra\r\n",
    "    for value in diccionario.values():\r\n",
    "        print(\"value: \", value)\r\n",
    "recorre_diccionario2(diccionario=d)"
   ],
   "outputs": [
    {
     "output_type": "stream",
     "name": "stdout",
     "text": [
      "value:  v\n",
      "value:  [2, 4, 6]\n",
      "value:  {'Z', 'X'}\n"
     ]
    }
   ],
   "metadata": {}
  },
  {
   "cell_type": "code",
   "execution_count": 26,
   "source": [
    "def recorre_diccionario3(diccionario):\r\n",
    "    for key, value in diccionario.items():\r\n",
    "        print(\"Key\", key)\r\n",
    "        print(\"Values\", value)\r\n",
    "recorre_diccionario3(diccionario=d)\r\n"
   ],
   "outputs": [
    {
     "output_type": "stream",
     "name": "stdout",
     "text": [
      "Key c\n",
      "Values v\n",
      "Key l\n",
      "Values [2, 4, 6]\n",
      "Key -9\n",
      "Values {'Z', 'X'}\n"
     ]
    }
   ],
   "metadata": {}
  },
  {
   "cell_type": "code",
   "execution_count": 25,
   "source": [
    "def recorre_diccionario4(diccionario):\r\n",
    "    for item in diccionario.items():\r\n",
    "        print(\"Item:\", item)\r\n",
    "\r\n",
    "recorre_diccionario4(diccionario=d)"
   ],
   "outputs": [
    {
     "output_type": "stream",
     "name": "stdout",
     "text": [
      "Item: ('c', 'v')\n",
      "Item: ('l', [2, 4, 6])\n",
      "Item: (-9, {'Z', 'X'})\n"
     ]
    }
   ],
   "metadata": {}
  },
  {
   "cell_type": "code",
   "execution_count": 55,
   "source": [
    "def recorre_diccionario6(diccionario):\r\n",
    "# Crea una lista de tuplas del diccionario\r\n",
    "# Al final muestra la tupla por pantalla\r\n",
    "    lista = []\r\n",
    "    for item in diccionario.items():\r\n",
    "        lista.append(item)\r\n",
    "    return lista\r\n",
    "recorre_diccionario6(diccionario=d)"
   ],
   "outputs": [
    {
     "output_type": "execute_result",
     "data": {
      "text/plain": [
       "[('c', 'v'), ('l', [2, 4, 6]), (-9, {'X', 'Z'})]"
      ]
     },
     "metadata": {},
     "execution_count": 55
    }
   ],
   "metadata": {}
  },
  {
   "cell_type": "code",
   "execution_count": 19,
   "source": [
    "x = 2, 4, 6\r\n",
    "print(x) # Lo convierte en Tupla"
   ],
   "outputs": [
    {
     "output_type": "stream",
     "name": "stdout",
     "text": [
      "(2, 4, 6)\n"
     ]
    }
   ],
   "metadata": {}
  },
  {
   "cell_type": "code",
   "execution_count": 45,
   "source": [
    "# Función que muestre el valor de la clave \"Lista\"\r\n",
    "d"
   ],
   "outputs": [
    {
     "output_type": "execute_result",
     "data": {
      "text/plain": [
       "{'c': 'v', 'l': [2, 4, 6], -9: {'X', 'Z'}}"
      ]
     },
     "metadata": {},
     "execution_count": 45
    }
   ],
   "metadata": {}
  },
  {
   "cell_type": "code",
   "execution_count": 48,
   "source": [
    "def ejercicio_mostrar_lista(diccionario):\r\n",
    "    print(diccionario[\"l\"])\r\n",
    "ejercicio_mostrar_lista(diccionario=d)"
   ],
   "outputs": [
    {
     "output_type": "stream",
     "name": "stdout",
     "text": [
      "[2, 4, 6]\n"
     ]
    }
   ],
   "metadata": {}
  },
  {
   "cell_type": "code",
   "execution_count": 60,
   "source": [
    "# Preguntar al usuario\r\n",
    "# Ejercicio 1:\r\n",
    "# Preguntar al usuario 3 números, sumarlos y mostrar el resultado\r\n",
    "# Resolver con\r\n",
    "    #for in range\r\n",
    "suma_acumulada = 0\r\n",
    "n_iteraciones = 3\r\n",
    "for i in range(n_iteraciones):\r\n",
    "    numero_usuario = int(input(\"Inserte un número: \"))\r\n",
    "    suma_acumulada = suma_acumulada + numero_usuario\r\n",
    "\r\n",
    "    print(\"Número usuario:\", numero_usuario)\r\n",
    "    print(\"suma_acummulada:\", suma_acumulada)"
   ],
   "outputs": [
    {
     "output_type": "stream",
     "name": "stdout",
     "text": [
      "Número usuario: 1\n",
      "suma_acummulada: 1\n",
      "Número usuario: 2\n",
      "suma_acummulada: 3\n",
      "Número usuario: 3\n",
      "suma_acummulada: 6\n"
     ]
    }
   ],
   "metadata": {}
  },
  {
   "cell_type": "code",
   "execution_count": 61,
   "source": [
    "# for con acumulador/contador\r\n",
    "\r\n",
    "suma_acumulada = 0\r\n",
    "acumulador = 0\r\n",
    "for i in range(999):\r\n",
    "    if acumulador == 3:\r\n",
    "        break\r\n",
    "    numero_usuario = int(input(\"Inserte un número: \"))\r\n",
    "    suma_acumulada = suma_acumulada + numero_usuario\r\n",
    "    print(\"Número usuario:\", numero_usuario)\r\n",
    "    print(\"suma_acummulada:\", suma_acumulada)\r\n",
    "    acumulador +=1"
   ],
   "outputs": [
    {
     "output_type": "stream",
     "name": "stdout",
     "text": [
      "Número usuario: 1\n",
      "suma_acummulada: 1\n",
      "Número usuario: 2\n",
      "suma_acummulada: 3\n",
      "Número usuario: 3\n",
      "suma_acummulada: 6\n"
     ]
    }
   ],
   "metadata": {}
  },
  {
   "cell_type": "code",
   "execution_count": 64,
   "source": [
    "suma_acumulada = 0\r\n",
    "acumulador = 0\r\n",
    "for i in range(999):\r\n",
    "    if acumulador < 3:\r\n",
    "        numero_usuario = int(input(\"Inserte un número: \"))\r\n",
    "        suma_acumulada = suma_acumulada + numero_usuario\r\n",
    "        print(\"Número usuario:\", numero_usuario)\r\n",
    "        print(\"suma_acummulada:\", suma_acumulada)\r\n",
    "        acumulador +=1\r\n",
    "    else:\r\n",
    "        break"
   ],
   "outputs": [
    {
     "output_type": "stream",
     "name": "stdout",
     "text": [
      "Número usuario: 1\n",
      "suma_acummulada: 1\n",
      "Número usuario: 2\n",
      "suma_acummulada: 3\n",
      "Número usuario: 3\n",
      "suma_acummulada: 6\n"
     ]
    }
   ],
   "metadata": {}
  },
  {
   "cell_type": "code",
   "execution_count": 65,
   "source": [
    "# Con while\r\n",
    "\r\n",
    "suma_acumulada = 0\r\n",
    "acumulador = 0\r\n",
    "while acumulador <= 2:\r\n",
    "    numero_usuario = int(input(\"Inserte un número: \"))\r\n",
    "    suma_acumulada = suma_acumulada + numero_usuario\r\n",
    "    print(\"Número usuario:\", numero_usuario)\r\n",
    "    print(\"suma_acummulada:\", suma_acumulada)\r\n",
    "    acumulador +=1\r\n",
    "    "
   ],
   "outputs": [
    {
     "output_type": "stream",
     "name": "stdout",
     "text": [
      "Número usuario: 1\n",
      "suma_acummulada: 1\n",
      "Número usuario: 2\n",
      "suma_acummulada: 3\n",
      "Número usuario: 3\n",
      "suma_acummulada: 6\n"
     ]
    }
   ],
   "metadata": {}
  },
  {
   "cell_type": "code",
   "execution_count": null,
   "source": [
    "# While indefinido hasta escribir el número 9999\r\n",
    "\r\n",
    "suma_acumulada = 0\r\n",
    "acumulador = 0\r\n",
    "while acumulador >= 0:\r\n",
    "    numero_usuario = int(input(\"Inserte un número: \"))\r\n",
    "    if numero_usuario == 9999:\r\n",
    "        print(\"Se para el While\")\r\n",
    "        break\r\n",
    "    suma_acumulada = suma_acumulada + numero_usuario\r\n",
    "    print(\"Número usuario:\", numero_usuario)\r\n",
    "    print(\"suma_acummulada:\", suma_acumulada)\r\n",
    "    acumulador +=1"
   ],
   "outputs": [],
   "metadata": {}
  },
  {
   "cell_type": "code",
   "execution_count": 1,
   "source": [
    "# Listas con Tuplas\r\n",
    "lista_tupla = [(\"A\", \"X\", -99, \"Y\"), (2, 4, 6, 8)]\r\n",
    "\r\n",
    "# MOstrar por pantalla cada elemento de \"lista_tupla\"\r\n",
    "\r\n",
    "def muestra_elementos(lista):\r\n",
    "    for x in lista:\r\n",
    "        print(x)\r\n",
    "muestra_elementos(lista=lista_tupla)"
   ],
   "outputs": [
    {
     "output_type": "stream",
     "name": "stdout",
     "text": [
      "('A', 'X', -99, 'Y')\n",
      "(2, 4, 6, 8)\n"
     ]
    }
   ],
   "metadata": {}
  },
  {
   "cell_type": "code",
   "execution_count": 2,
   "source": [
    "# Listas con Tuplas\r\n",
    "lista_tupla = [(\"A\", \"X\", -99, \"Y\"), (2, 4, 6, 8)]\r\n",
    "\r\n",
    "# Eliminar la Tupla que contenga el Int 4\r\n",
    "\r\n",
    "def elimina_tupla_con_4(arg):\r\n",
    "    for tupla in arg:\r\n",
    "        if 4 in tupla:\r\n",
    "            arg.remove(tupla)\r\n",
    "        print(\"lista modificada\", arg)\r\n",
    "\r\n",
    "elimina_tupla_con_4(arg=lista_tupla)   "
   ],
   "outputs": [
    {
     "output_type": "stream",
     "name": "stdout",
     "text": [
      "lista modificada [('A', 'X', -99, 'Y'), (2, 4, 6, 8)]\n",
      "lista modificada [('A', 'X', -99, 'Y')]\n"
     ]
    }
   ],
   "metadata": {}
  },
  {
   "cell_type": "code",
   "execution_count": 6,
   "source": [
    "lista = [2, 6, 8, 11, 14, 28]\r\n",
    "\r\n",
    "bandera = False\r\n",
    "# Recorrer SOLO por posición\r\n",
    "for pos in range(len(lista)):\r\n",
    "    bandera = True\r\n",
    "    print(pos)\r\n",
    "\r\n",
    "\r\n"
   ],
   "outputs": [
    {
     "output_type": "stream",
     "name": "stdout",
     "text": [
      "0\n",
      "1\n",
      "2\n",
      "3\n",
      "4\n",
      "5\n"
     ]
    }
   ],
   "metadata": {}
  }
 ],
 "metadata": {
  "orig_nbformat": 4,
  "language_info": {
   "name": "python",
   "version": "3.7.4",
   "mimetype": "text/x-python",
   "codemirror_mode": {
    "name": "ipython",
    "version": 3
   },
   "pygments_lexer": "ipython3",
   "nbconvert_exporter": "python",
   "file_extension": ".py"
  },
  "kernelspec": {
   "name": "python3",
   "display_name": "Python 3.7.4 64-bit"
  },
  "interpreter": {
   "hash": "c24a7c41beaaeed806d6a6952b3b4f7375fae7924f19eb99401d49cba6e7526b"
  }
 },
 "nbformat": 4,
 "nbformat_minor": 2
}