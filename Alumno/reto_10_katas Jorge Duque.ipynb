{
  "nbformat": 4,
  "nbformat_minor": 2,
  "metadata": {
    "kernelspec": {
      "name": "python3",
      "display_name": "Python 3.7.4 64-bit"
    },
    "language_info": {
      "codemirror_mode": {
        "name": "ipython",
        "version": 3
      },
      "file_extension": ".py",
      "mimetype": "text/x-python",
      "name": "python",
      "nbconvert_exporter": "python",
      "pygments_lexer": "ipython3",
      "version": "3.7.4"
    },
    "colab": {
      "name": "reto_10_katas.ipynb",
      "provenance": []
    },
    "interpreter": {
      "hash": "c24a7c41beaaeed806d6a6952b3b4f7375fae7924f19eb99401d49cba6e7526b"
    }
  },
  "cells": [
    {
      "cell_type": "markdown",
      "source": [
        "# Reto ¡a por el 10!"
      ],
      "metadata": {
        "id": "YTGTmsFKNMqf"
      }
    },
    {
      "cell_type": "markdown",
      "source": [
        "Quizás aún no conoces Codewars, pero es una plataforma de Katas. Las Katas son pequeños ejercicios que resolver con los diferentes lenguajes de programación existentes y por niveles, conocidos como Kyu.\n",
        "\n",
        "El nivel por el que empezarás es el nivel 8kyu y el objetivo será que durante el Bootcamp, al menos llegues al 5kyu empezando este mismo fin de semana con este reto. "
      ],
      "metadata": {
        "id": "ECv2BbbsNMqi"
      }
    },
    {
      "cell_type": "markdown",
      "source": [
        "1. Hazte una cuenta en https://www.codewars.com/ (Súper recomendable vincularlo a tu cuenta de Github)\r\n",
        "2. Una vez tengas cuenta, envía tu usuario de **codewars** a `leonardo@thebridgeschool.es` (VERY IMPORTANT)\r\n",
        "3. Ve accediendo a las diferentes Katas propuestas más abajo.\r\n",
        "4. Pulsa `Train`\r\n",
        "5. En este punto deberás definir una función que de solución al problema planteado. \r\n",
        "6. Una vez tengas una buena propuesta, dale al `Test`, esto te indicará los errores, si los tuvieras.\r\n",
        "7. Si sin embargo, has pasado todos los test con éxito, pulsa `Attempt`\r\n",
        "8. Una vez pulses al `Attempt` y si no has tenido fallos, estate segura de haberlo hecho correctamente si puedes ver las soluciones de otros usuarios, entonces ¡has terminado la kata!\r\n",
        "\r\n",
        "No te preocupes por decirnos que la has acabado, si nos has dado tu usuario y la has completado con éxito, ya lo podemos ver ;) "
      ],
      "metadata": {
        "id": "A_dTI5FdNMqi"
      }
    },
    {
      "cell_type": "markdown",
      "source": [
        "### Las Katas\r\n",
        "\r\n",
        "\"Easy peasy lemon squeezy\" --> https://www.youtube.com/watch?v=QEanm-gvQ94"
      ],
      "metadata": {
        "id": "DWMDSuveNMqj"
      }
    },
    {
      "cell_type": "markdown",
      "source": [
        "Las katas `Easy` serán obligatorias para algunos de vosotros, es por esto que dejo por aquí los enunciados. No hay excusa. Idealmente deberían estar resueltas en **codewars**, de hecho, para participar en el reto, deberán estar resueltas en la propia plataforma."
      ],
      "metadata": {
        "id": "BzDzxvPRNMqj"
      }
    },
    {
      "cell_type": "markdown",
      "source": [
        "#### Easy\n",
        "Si realmente te es imposible hacerlo en Codewars, recuerda que es obligatorio resolver todos los ejercicios con una función. En este caso, envíanos tus soluciones en formato `.ipynb` a los cuatro profesores por email antes del lunes a las 9:15."
      ],
      "metadata": {
        "id": "fkrhbISaNMqj"
      }
    },
    {
      "cell_type": "markdown",
      "source": [
        "- https://www.codewars.com/kata/54d1c59aba326343c80000e7\r\n",
        "    \r\n",
        "This method, which is supposed to return the result of dividing its first argument by its second, isn't always returning correct values. Fix it.\r\n",
        "\r\n",
        "```python\r\n",
        "def divide_numbers(x,y):\r\n",
        "    return x // y\r\n",
        "```"
      ],
      "metadata": {
        "id": "YTXlQe7JNMqk"
      }
    },
    {
      "cell_type": "code",
      "execution_count": 3,
      "source": [
        "def divide_numbers(x,y):\r\n",
        "    return x / y\r\n",
        "divide_numbers(7,2)"
      ],
      "outputs": [
        {
          "output_type": "execute_result",
          "data": {
            "text/plain": [
              "3.5"
            ]
          },
          "metadata": {},
          "execution_count": 3
        }
      ],
      "metadata": {
        "id": "xzbtEQxWNMqk"
      }
    },
    {
      "cell_type": "markdown",
      "source": [
        "- https://www.codewars.com/kata/53da3dbb4a5168369a0000fe\r\n",
        "\r\n",
        "Create a function that takes an integer as an argument and returns \"Even\" for even numbers or \"Odd\" for odd numbers."
      ],
      "metadata": {
        "id": "G-tTwKsZNMql"
      }
    },
    {
      "cell_type": "code",
      "execution_count": 13,
      "source": [
        "def par_impar(number):\r\n",
        "    if number % 3 != 0:\r\n",
        "        return \"Even\"\r\n",
        "    else:\r\n",
        "        return \"Odd\"\r\n",
        "par_impar(78)\r\n"
      ],
      "outputs": [
        {
          "output_type": "execute_result",
          "data": {
            "text/plain": [
              "'Odd'"
            ]
          },
          "metadata": {},
          "execution_count": 13
        }
      ],
      "metadata": {
        "id": "SJbo8j1UNMqm"
      }
    },
    {
      "cell_type": "markdown",
      "source": [
        "- https://www.codewars.com/kata/582cb0224e56e068d800003c\r\n",
        "\r\n",
        "Nathan loves cycling. Because Nathan knows it is important to stay hydrated, he drinks 0.5 litres of water per hour of cycling.\r\n",
        "You get given the time in hours and you need to return the number of litres Nathan will drink, rounded to the smallest value.\r\n",
        "\r\n",
        "For example:\r\n",
        "```python\r\n",
        "time = 3 ----> litres = 1\r\n",
        "time = 6.7---> litres = 3\r\n",
        "time = 11.8--> litres = 5\r\n",
        "```"
      ],
      "metadata": {
        "id": "NTnRKBf5NMqm"
      }
    },
    {
      "cell_type": "code",
      "execution_count": 17,
      "source": [
        "def litres(time):\r\n",
        "    return int(time * 0.5)\r\n",
        "     \r\n",
        "litres(time=3)"
      ],
      "outputs": [
        {
          "output_type": "execute_result",
          "data": {
            "text/plain": [
              "1"
            ]
          },
          "metadata": {},
          "execution_count": 17
        }
      ],
      "metadata": {
        "id": "1Mf-KFQhNMqm"
      }
    },
    {
      "cell_type": "markdown",
      "source": [
        "Nota: Por equivocación añadí el enlace de una de estas dos katas pero el enunciado del otro. Añado ambos enunciados y ambos enlaces, podéis elegir el que queráis, incluso hacer los dos 👀"
      ],
      "metadata": {
        "id": "97adawAKNMqm"
      }
    },
    {
      "cell_type": "markdown",
      "source": [
        "- https://www.codewars.com/kata/55a2d7ebe362935a210000b2\r\n",
        "\r\n",
        "Given an array of integers your solution should find the smallest integer.\r\n",
        "\r\n",
        "For example:\r\n",
        "\r\n",
        "Given [34, 15, 88, 2] your solution will return 2\r\n",
        "Given [34, -345, -1, 100] your solution will return -345\r\n",
        "You can assume, for the purpose of this kata, that the supplied array will not be empty."
      ],
      "metadata": {
        "id": "S8VrQ_wxNMqn"
      }
    },
    {
      "cell_type": "code",
      "execution_count": 22,
      "source": [
        "list_m = [-87,3,5,7,9,11]\r\n",
        "def find_smallest_int(arg):\r\n",
        "    return min(arg)\r\n",
        "find_smallest_int(arg=list_m)"
      ],
      "outputs": [
        {
          "output_type": "execute_result",
          "data": {
            "text/plain": [
              "-87"
            ]
          },
          "metadata": {},
          "execution_count": 22
        }
      ],
      "metadata": {
        "id": "Yn9EwIDzNMqn"
      }
    },
    {
      "cell_type": "code",
      "execution_count": null,
      "source": [],
      "outputs": [],
      "metadata": {}
    },
    {
      "cell_type": "markdown",
      "source": [
        "- https://www.codewars.com/kata/56bc28ad5bdaeb48760009b0\r\n",
        "\r\n",
        "It's pretty straightforward. Your goal is to create a function that removes the first and last characters of a string. You're given one parameter, the original string. You don't have to worry with strings with less than two characters."
      ],
      "metadata": {
        "id": "t4N-dOOqNMqn"
      }
    },
    {
      "cell_type": "code",
      "execution_count": 1,
      "source": [
        "def remove_char(s):\r\n",
        "    return s[1 : -1]\r\n",
        "remove_char(\"Pampin\")\r\n"
      ],
      "outputs": [
        {
          "output_type": "execute_result",
          "data": {
            "text/plain": [
              "'ampi'"
            ]
          },
          "metadata": {},
          "execution_count": 1
        }
      ],
      "metadata": {}
    },
    {
      "cell_type": "markdown",
      "source": [
        "#### Peasy\n",
        "\n",
        "Si vas a hacer las Katas de este nivel, es porque ya sabes hacer las de `Easy` y además en **codewars**, así que te recuerdo que en caso de hacerlas correctamente y nos has dado tu usuario, no hace falta que nos digas que la has terminado.\n",
        "\n",
        "- https://www.codewars.com/kata/5506b230a11c0aeab3000c1f\n",
        "- https://www.codewars.com/kata/59377c53e66267c8f6000027\n",
        "- https://www.codewars.com/kata/5ae7e3f068e6445bc8000046"
      ],
      "metadata": {
        "id": "GkeKg29HNMqn"
      }
    },
    {
      "cell_type": "markdown",
      "source": [
        "#### Lemon Squeezy\n",
        "\n",
        "- https://www.codewars.com/kata/55b95c76e08bd5eef100001e/solutions/python\n",
        "- https://www.codewars.com/kata/5e2596a9ad937f002e510435/\n",
        "- https://www.codewars.com/kata/5d4c6809089c6e5031f189ed"
      ],
      "metadata": {
        "id": "v0d6eMnvNMqo"
      }
    }
  ]
}